{
 "cells": [
  {
   "cell_type": "code",
   "execution_count": 8,
   "id": "c454b4b6-4428-4481-a117-4eef4cb2d247",
   "metadata": {},
   "outputs": [],
   "source": [
    "import pandas as pd\n",
    "import numpy as np\n",
    "import seaborn as sns\n",
    "import matplotlib.pyplot as plt\n",
    "from datetime import datetime\n",
    "from sklearn.preprocessing import MinMaxScaler\n",
    "from sklearn.cluster import KMeans\n",
    "from sklearn.metrics import silhouette_score\n",
    "from sklearn import metrics"
   ]
  },
  {
   "cell_type": "code",
   "execution_count": 2,
   "id": "b35a7dd8-03bb-4f9e-b639-a77f15336b06",
   "metadata": {},
   "outputs": [
    {
     "name": "stderr",
     "output_type": "stream",
     "text": [
      "C:\\Users\\framatome\\AppData\\Local\\Temp\\ipykernel_7268\\136307448.py:3: DtypeWarning: Columns (1,3,5,12,24) have mixed types. Specify dtype option on import or set low_memory=False.\n",
      "  traffic_data = pd.read_csv(file_path)\n"
     ]
    },
    {
     "data": {
      "text/html": [
       "<div>\n",
       "<style scoped>\n",
       "    .dataframe tbody tr th:only-of-type {\n",
       "        vertical-align: middle;\n",
       "    }\n",
       "\n",
       "    .dataframe tbody tr th {\n",
       "        vertical-align: top;\n",
       "    }\n",
       "\n",
       "    .dataframe thead th {\n",
       "        text-align: right;\n",
       "    }\n",
       "</style>\n",
       "<table border=\"1\" class=\"dataframe\">\n",
       "  <thead>\n",
       "    <tr style=\"text-align: right;\">\n",
       "      <th></th>\n",
       "      <th>Date</th>\n",
       "      <th>Timestamp</th>\n",
       "      <th>Scr_IP</th>\n",
       "      <th>Scr_port</th>\n",
       "      <th>Des_IP</th>\n",
       "      <th>Des_port</th>\n",
       "      <th>Protocol</th>\n",
       "      <th>Service</th>\n",
       "      <th>Duration</th>\n",
       "      <th>Scr_bytes</th>\n",
       "      <th>...</th>\n",
       "      <th>OSSEC_alert_level</th>\n",
       "      <th>Login_attempt</th>\n",
       "      <th>Succesful_login</th>\n",
       "      <th>File_activity</th>\n",
       "      <th>Process_activity</th>\n",
       "      <th>read_write_physical.process</th>\n",
       "      <th>is_privileged</th>\n",
       "      <th>class1</th>\n",
       "      <th>class2</th>\n",
       "      <th>class3</th>\n",
       "    </tr>\n",
       "  </thead>\n",
       "  <tbody>\n",
       "    <tr>\n",
       "      <th>0</th>\n",
       "      <td>9/01/2020</td>\n",
       "      <td>1578540956</td>\n",
       "      <td>192.168.2.199</td>\n",
       "      <td>49278</td>\n",
       "      <td>192.168.2.10</td>\n",
       "      <td>80</td>\n",
       "      <td>tcp</td>\n",
       "      <td>http</td>\n",
       "      <td>0.67369</td>\n",
       "      <td>13437</td>\n",
       "      <td>...</td>\n",
       "      <td>5</td>\n",
       "      <td>0</td>\n",
       "      <td>0</td>\n",
       "      <td>0</td>\n",
       "      <td>0</td>\n",
       "      <td>0</td>\n",
       "      <td>0</td>\n",
       "      <td>Scanning_vulnerability</td>\n",
       "      <td>Reconnaissance</td>\n",
       "      <td>Attack</td>\n",
       "    </tr>\n",
       "    <tr>\n",
       "      <th>1</th>\n",
       "      <td>13/01/2020</td>\n",
       "      <td>1578871873</td>\n",
       "      <td>10.0.1.5</td>\n",
       "      <td>39769</td>\n",
       "      <td>131.236.3.92</td>\n",
       "      <td>53</td>\n",
       "      <td>udp</td>\n",
       "      <td>dns</td>\n",
       "      <td>0.000083</td>\n",
       "      <td>78</td>\n",
       "      <td>...</td>\n",
       "      <td>0</td>\n",
       "      <td>0</td>\n",
       "      <td>0</td>\n",
       "      <td>0</td>\n",
       "      <td>0</td>\n",
       "      <td>0</td>\n",
       "      <td>0</td>\n",
       "      <td>Normal</td>\n",
       "      <td>Normal</td>\n",
       "      <td>Normal</td>\n",
       "    </tr>\n",
       "    <tr>\n",
       "      <th>2</th>\n",
       "      <td>9/01/2020</td>\n",
       "      <td>1578522486</td>\n",
       "      <td>172.24.1.80</td>\n",
       "      <td>59050</td>\n",
       "      <td>172.24.1.1</td>\n",
       "      <td>53</td>\n",
       "      <td>udp</td>\n",
       "      <td>dns</td>\n",
       "      <td>0.000132</td>\n",
       "      <td>38</td>\n",
       "      <td>...</td>\n",
       "      <td>0</td>\n",
       "      <td>0</td>\n",
       "      <td>0</td>\n",
       "      <td>0</td>\n",
       "      <td>0</td>\n",
       "      <td>0</td>\n",
       "      <td>0</td>\n",
       "      <td>Normal</td>\n",
       "      <td>Normal</td>\n",
       "      <td>Normal</td>\n",
       "    </tr>\n",
       "    <tr>\n",
       "      <th>3</th>\n",
       "      <td>27/02/2020</td>\n",
       "      <td>1582757640</td>\n",
       "      <td>192.168.2.196</td>\n",
       "      <td>37966</td>\n",
       "      <td>192.168.2.10</td>\n",
       "      <td>1880</td>\n",
       "      <td>tcp</td>\n",
       "      <td>websocket</td>\n",
       "      <td>9.378481</td>\n",
       "      <td>1121</td>\n",
       "      <td>...</td>\n",
       "      <td>0</td>\n",
       "      <td>1</td>\n",
       "      <td>1</td>\n",
       "      <td>1</td>\n",
       "      <td>1</td>\n",
       "      <td>1</td>\n",
       "      <td>1</td>\n",
       "      <td>Normal</td>\n",
       "      <td>Normal</td>\n",
       "      <td>Normal</td>\n",
       "    </tr>\n",
       "    <tr>\n",
       "      <th>4</th>\n",
       "      <td>16/12/2019</td>\n",
       "      <td>1576452612</td>\n",
       "      <td>172.24.1.80</td>\n",
       "      <td>38233</td>\n",
       "      <td>172.24.1.1</td>\n",
       "      <td>53</td>\n",
       "      <td>udp</td>\n",
       "      <td>dns</td>\n",
       "      <td>0.000074</td>\n",
       "      <td>-</td>\n",
       "      <td>...</td>\n",
       "      <td>0</td>\n",
       "      <td>0</td>\n",
       "      <td>0</td>\n",
       "      <td>0</td>\n",
       "      <td>0</td>\n",
       "      <td>0</td>\n",
       "      <td>0</td>\n",
       "      <td>Normal</td>\n",
       "      <td>Normal</td>\n",
       "      <td>Normal</td>\n",
       "    </tr>\n",
       "  </tbody>\n",
       "</table>\n",
       "<p>5 rows × 68 columns</p>\n",
       "</div>"
      ],
      "text/plain": [
       "         Date   Timestamp         Scr_IP Scr_port        Des_IP Des_port  \\\n",
       "0   9/01/2020  1578540956  192.168.2.199    49278  192.168.2.10       80   \n",
       "1  13/01/2020  1578871873       10.0.1.5    39769  131.236.3.92       53   \n",
       "2   9/01/2020  1578522486    172.24.1.80    59050    172.24.1.1       53   \n",
       "3  27/02/2020  1582757640  192.168.2.196    37966  192.168.2.10     1880   \n",
       "4  16/12/2019  1576452612    172.24.1.80    38233    172.24.1.1       53   \n",
       "\n",
       "  Protocol    Service  Duration Scr_bytes  ... OSSEC_alert_level  \\\n",
       "0      tcp       http   0.67369     13437  ...                 5   \n",
       "1      udp        dns  0.000083        78  ...                 0   \n",
       "2      udp        dns  0.000132        38  ...                 0   \n",
       "3      tcp  websocket  9.378481      1121  ...                 0   \n",
       "4      udp        dns  0.000074         -  ...                 0   \n",
       "\n",
       "   Login_attempt Succesful_login  File_activity  Process_activity  \\\n",
       "0              0               0              0                 0   \n",
       "1              0               0              0                 0   \n",
       "2              0               0              0                 0   \n",
       "3              1               1              1                 1   \n",
       "4              0               0              0                 0   \n",
       "\n",
       "   read_write_physical.process  is_privileged                  class1  \\\n",
       "0                            0              0  Scanning_vulnerability   \n",
       "1                            0              0                  Normal   \n",
       "2                            0              0                  Normal   \n",
       "3                            1              1                  Normal   \n",
       "4                            0              0                  Normal   \n",
       "\n",
       "           class2  class3  \n",
       "0  Reconnaissance  Attack  \n",
       "1          Normal  Normal  \n",
       "2          Normal  Normal  \n",
       "3          Normal  Normal  \n",
       "4          Normal  Normal  \n",
       "\n",
       "[5 rows x 68 columns]"
      ]
     },
     "execution_count": 2,
     "metadata": {},
     "output_type": "execute_result"
    }
   ],
   "source": [
    "file_path = '../network_segmentation/X-IIoTID_dataset.csv' \n",
    "\n",
    "traffic_data = pd.read_csv(file_path)\n",
    "\n",
    "traffic_data.head()"
   ]
  },
  {
   "cell_type": "code",
   "execution_count": 51,
   "id": "a9e2bd5e-827b-406d-b311-4aaf1e5291db",
   "metadata": {},
   "outputs": [],
   "source": [
    "mydata = traffic_data.drop(columns=['Std_user_time','Avg_nice_time', 'Std_nice_time','Std_system_time','Std_iowait_time', 'Avg_ideal_time',\n",
    "       'Std_ideal_time', 'Avg_tps', 'Std_tps','Std_rtps','Std_wtps', 'Avg_ldavg_1', 'Std_ldavg_1', 'Avg_kbmemused','Std_kbmemused', 'Avg_num_Proc/s', 'Std_num_proc/s', 'Avg_num_cswch/s',\n",
    "       'std_num_cswch/s','File_activity', 'Process_activity','read_write_physical.process', 'class1', 'class2'])"
   ]
  },
  {
   "cell_type": "code",
   "execution_count": 53,
   "id": "13dd56e1-f106-49c0-b7bc-400e8b9deae2",
   "metadata": {},
   "outputs": [
    {
     "data": {
      "text/html": [
       "<div>\n",
       "<style scoped>\n",
       "    .dataframe tbody tr th:only-of-type {\n",
       "        vertical-align: middle;\n",
       "    }\n",
       "\n",
       "    .dataframe tbody tr th {\n",
       "        vertical-align: top;\n",
       "    }\n",
       "\n",
       "    .dataframe thead th {\n",
       "        text-align: right;\n",
       "    }\n",
       "</style>\n",
       "<table border=\"1\" class=\"dataframe\">\n",
       "  <thead>\n",
       "    <tr style=\"text-align: right;\">\n",
       "      <th></th>\n",
       "      <th>Date</th>\n",
       "      <th>Timestamp</th>\n",
       "      <th>Scr_IP</th>\n",
       "      <th>Scr_port</th>\n",
       "      <th>Des_IP</th>\n",
       "      <th>Des_port</th>\n",
       "      <th>Protocol</th>\n",
       "      <th>Service</th>\n",
       "      <th>Duration</th>\n",
       "      <th>Scr_bytes</th>\n",
       "      <th>...</th>\n",
       "      <th>Avg_system_time</th>\n",
       "      <th>Avg_iowait_time</th>\n",
       "      <th>Avg_rtps</th>\n",
       "      <th>Avg_wtps</th>\n",
       "      <th>OSSEC_alert</th>\n",
       "      <th>OSSEC_alert_level</th>\n",
       "      <th>Login_attempt</th>\n",
       "      <th>Succesful_login</th>\n",
       "      <th>is_privileged</th>\n",
       "      <th>class3</th>\n",
       "    </tr>\n",
       "  </thead>\n",
       "  <tbody>\n",
       "    <tr>\n",
       "      <th>0</th>\n",
       "      <td>9/01/2020</td>\n",
       "      <td>1578540956</td>\n",
       "      <td>192.168.2.199</td>\n",
       "      <td>49278</td>\n",
       "      <td>192.168.2.10</td>\n",
       "      <td>80</td>\n",
       "      <td>tcp</td>\n",
       "      <td>http</td>\n",
       "      <td>0.67369</td>\n",
       "      <td>13437</td>\n",
       "      <td>...</td>\n",
       "      <td>4.864</td>\n",
       "      <td>0.311</td>\n",
       "      <td>8</td>\n",
       "      <td>4.297</td>\n",
       "      <td>1</td>\n",
       "      <td>5</td>\n",
       "      <td>0</td>\n",
       "      <td>0</td>\n",
       "      <td>0</td>\n",
       "      <td>Attack</td>\n",
       "    </tr>\n",
       "    <tr>\n",
       "      <th>1</th>\n",
       "      <td>13/01/2020</td>\n",
       "      <td>1578871873</td>\n",
       "      <td>10.0.1.5</td>\n",
       "      <td>39769</td>\n",
       "      <td>131.236.3.92</td>\n",
       "      <td>53</td>\n",
       "      <td>udp</td>\n",
       "      <td>dns</td>\n",
       "      <td>0.000083</td>\n",
       "      <td>78</td>\n",
       "      <td>...</td>\n",
       "      <td>3.778</td>\n",
       "      <td>2.741</td>\n",
       "      <td>0</td>\n",
       "      <td>6.6</td>\n",
       "      <td>0</td>\n",
       "      <td>0</td>\n",
       "      <td>0</td>\n",
       "      <td>0</td>\n",
       "      <td>0</td>\n",
       "      <td>Normal</td>\n",
       "    </tr>\n",
       "    <tr>\n",
       "      <th>2</th>\n",
       "      <td>9/01/2020</td>\n",
       "      <td>1578522486</td>\n",
       "      <td>172.24.1.80</td>\n",
       "      <td>59050</td>\n",
       "      <td>172.24.1.1</td>\n",
       "      <td>53</td>\n",
       "      <td>udp</td>\n",
       "      <td>dns</td>\n",
       "      <td>0.000132</td>\n",
       "      <td>38</td>\n",
       "      <td>...</td>\n",
       "      <td>1.693</td>\n",
       "      <td>2.423</td>\n",
       "      <td>30.1</td>\n",
       "      <td>7.3</td>\n",
       "      <td>0</td>\n",
       "      <td>0</td>\n",
       "      <td>0</td>\n",
       "      <td>0</td>\n",
       "      <td>0</td>\n",
       "      <td>Normal</td>\n",
       "    </tr>\n",
       "    <tr>\n",
       "      <th>3</th>\n",
       "      <td>27/02/2020</td>\n",
       "      <td>1582757640</td>\n",
       "      <td>192.168.2.196</td>\n",
       "      <td>37966</td>\n",
       "      <td>192.168.2.10</td>\n",
       "      <td>1880</td>\n",
       "      <td>tcp</td>\n",
       "      <td>websocket</td>\n",
       "      <td>9.378481</td>\n",
       "      <td>1121</td>\n",
       "      <td>...</td>\n",
       "      <td>3.941</td>\n",
       "      <td>0.509</td>\n",
       "      <td>23.3</td>\n",
       "      <td>5.7</td>\n",
       "      <td>0</td>\n",
       "      <td>0</td>\n",
       "      <td>1</td>\n",
       "      <td>1</td>\n",
       "      <td>1</td>\n",
       "      <td>Normal</td>\n",
       "    </tr>\n",
       "    <tr>\n",
       "      <th>4</th>\n",
       "      <td>16/12/2019</td>\n",
       "      <td>1576452612</td>\n",
       "      <td>172.24.1.80</td>\n",
       "      <td>38233</td>\n",
       "      <td>172.24.1.1</td>\n",
       "      <td>53</td>\n",
       "      <td>udp</td>\n",
       "      <td>dns</td>\n",
       "      <td>0.000074</td>\n",
       "      <td>-</td>\n",
       "      <td>...</td>\n",
       "      <td>2.415</td>\n",
       "      <td>1.803</td>\n",
       "      <td>0.1</td>\n",
       "      <td>9.7</td>\n",
       "      <td>0</td>\n",
       "      <td>0</td>\n",
       "      <td>0</td>\n",
       "      <td>0</td>\n",
       "      <td>0</td>\n",
       "      <td>Normal</td>\n",
       "    </tr>\n",
       "  </tbody>\n",
       "</table>\n",
       "<p>5 rows × 44 columns</p>\n",
       "</div>"
      ],
      "text/plain": [
       "         Date   Timestamp         Scr_IP Scr_port        Des_IP Des_port  \\\n",
       "0   9/01/2020  1578540956  192.168.2.199    49278  192.168.2.10       80   \n",
       "1  13/01/2020  1578871873       10.0.1.5    39769  131.236.3.92       53   \n",
       "2   9/01/2020  1578522486    172.24.1.80    59050    172.24.1.1       53   \n",
       "3  27/02/2020  1582757640  192.168.2.196    37966  192.168.2.10     1880   \n",
       "4  16/12/2019  1576452612    172.24.1.80    38233    172.24.1.1       53   \n",
       "\n",
       "  Protocol    Service  Duration Scr_bytes  ... Avg_system_time  \\\n",
       "0      tcp       http   0.67369     13437  ...           4.864   \n",
       "1      udp        dns  0.000083        78  ...           3.778   \n",
       "2      udp        dns  0.000132        38  ...           1.693   \n",
       "3      tcp  websocket  9.378481      1121  ...           3.941   \n",
       "4      udp        dns  0.000074         -  ...           2.415   \n",
       "\n",
       "   Avg_iowait_time Avg_rtps  Avg_wtps  OSSEC_alert  OSSEC_alert_level  \\\n",
       "0            0.311        8     4.297            1                  5   \n",
       "1            2.741        0       6.6            0                  0   \n",
       "2            2.423     30.1       7.3            0                  0   \n",
       "3            0.509     23.3       5.7            0                  0   \n",
       "4            1.803      0.1       9.7            0                  0   \n",
       "\n",
       "   Login_attempt  Succesful_login  is_privileged  class3  \n",
       "0              0                0              0  Attack  \n",
       "1              0                0              0  Normal  \n",
       "2              0                0              0  Normal  \n",
       "3              1                1              1  Normal  \n",
       "4              0                0              0  Normal  \n",
       "\n",
       "[5 rows x 44 columns]"
      ]
     },
     "execution_count": 53,
     "metadata": {},
     "output_type": "execute_result"
    }
   ],
   "source": [
    "mydata.head()"
   ]
  },
  {
   "cell_type": "code",
   "execution_count": 4,
   "id": "59754001-0ac7-43b6-8d8b-6f7691900a6b",
   "metadata": {},
   "outputs": [
    {
     "data": {
      "text/plain": [
       "Date                 331\n",
       "Timestamp            297\n",
       "Scr_IP                 0\n",
       "Scr_port               0\n",
       "Des_IP                 0\n",
       "Des_port               0\n",
       "Protocol               0\n",
       "Service                0\n",
       "Duration               0\n",
       "Scr_bytes              0\n",
       "Des_bytes              0\n",
       "Conn_state             0\n",
       "missed_bytes           0\n",
       "is_syn_only            0\n",
       "Is_SYN_ACK             0\n",
       "is_pure_ack            0\n",
       "is_with_payload        0\n",
       "FIN or RST             0\n",
       "Bad_checksum           0\n",
       "is_SYN_with_RST        0\n",
       "Scr_pkts               0\n",
       "Scr_ip_bytes           0\n",
       "Des_pkts               0\n",
       "Des_ip_bytes           0\n",
       "anomaly_alert          0\n",
       "total_bytes            0\n",
       "total_packet           0\n",
       "paket_rate             0\n",
       "byte_rate              0\n",
       "Scr_packts_ratio       0\n",
       "Des_pkts_ratio         0\n",
       "Scr_bytes_ratio        0\n",
       "Des_bytes_ratio        0\n",
       "Avg_user_time          0\n",
       "Avg_system_time        0\n",
       "Avg_iowait_time        0\n",
       "Avg_rtps               0\n",
       "Avg_wtps               0\n",
       "OSSEC_alert            0\n",
       "OSSEC_alert_level      0\n",
       "Login_attempt          0\n",
       "Succesful_login        0\n",
       "is_privileged          0\n",
       "class3                 0\n",
       "dtype: int64"
      ]
     },
     "execution_count": 4,
     "metadata": {},
     "output_type": "execute_result"
    }
   ],
   "source": [
    "mydata.isna().sum()"
   ]
  },
  {
   "cell_type": "code",
   "execution_count": 36,
   "id": "66cda738-4c59-40c5-a5b3-d788348d1def",
   "metadata": {},
   "outputs": [],
   "source": [
    "#Visualization\n",
    "\n",
    "def bar_graph(feature):\n",
    "    mydata[feature].value_counts().plot(kind = 'bar')"
   ]
  },
  {
   "cell_type": "code",
   "execution_count": 6,
   "id": "a7d92830-82f8-4e8b-b358-648fdece09dd",
   "metadata": {},
   "outputs": [
    {
     "data": {
      "text/plain": [
       "Date                 object\n",
       "Timestamp            object\n",
       "Scr_IP               object\n",
       "Scr_port             object\n",
       "Des_IP               object\n",
       "Des_port             object\n",
       "Protocol             object\n",
       "Service              object\n",
       "Duration             object\n",
       "Scr_bytes            object\n",
       "Des_bytes            object\n",
       "Conn_state            int64\n",
       "missed_bytes         object\n",
       "is_syn_only            bool\n",
       "Is_SYN_ACK             bool\n",
       "is_pure_ack            bool\n",
       "is_with_payload        bool\n",
       "FIN or RST             bool\n",
       "Bad_checksum           bool\n",
       "is_SYN_with_RST        bool\n",
       "Scr_pkts             object\n",
       "Scr_ip_bytes         object\n",
       "Des_pkts             object\n",
       "Des_ip_bytes         object\n",
       "anomaly_alert        object\n",
       "total_bytes          object\n",
       "total_packet         object\n",
       "paket_rate           object\n",
       "byte_rate            object\n",
       "Scr_packts_ratio     object\n",
       "Des_pkts_ratio       object\n",
       "Scr_bytes_ratio      object\n",
       "Des_bytes_ratio      object\n",
       "Avg_user_time        object\n",
       "Avg_system_time      object\n",
       "Avg_iowait_time      object\n",
       "Avg_rtps             object\n",
       "Avg_wtps             object\n",
       "OSSEC_alert           int64\n",
       "OSSEC_alert_level     int64\n",
       "Login_attempt         int64\n",
       "Succesful_login       int64\n",
       "is_privileged         int64\n",
       "class3               object\n",
       "dtype: object"
      ]
     },
     "execution_count": 6,
     "metadata": {},
     "output_type": "execute_result"
    }
   ],
   "source": [
    "mydata.dtypes"
   ]
  },
  {
   "cell_type": "code",
   "execution_count": 54,
   "id": "5d76d7bf-aee3-47c1-aa13-c6e3cd6d874d",
   "metadata": {},
   "outputs": [],
   "source": [
    "#Convert the boolean values to 1/0 values\n",
    "\n",
    "mydata.replace(True, 1, inplace=True)\n",
    "mydata.replace(False, 0, inplace=True)"
   ]
  },
  {
   "cell_type": "code",
   "execution_count": 8,
   "id": "2727adcd-de98-45f7-8c4b-6b0b1319c3b0",
   "metadata": {},
   "outputs": [
    {
     "data": {
      "text/plain": [
       "Date                 object\n",
       "Timestamp            object\n",
       "Scr_IP               object\n",
       "Scr_port             object\n",
       "Des_IP               object\n",
       "Des_port             object\n",
       "Protocol             object\n",
       "Service              object\n",
       "Duration             object\n",
       "Scr_bytes            object\n",
       "Des_bytes            object\n",
       "Conn_state            int64\n",
       "missed_bytes         object\n",
       "is_syn_only           int64\n",
       "Is_SYN_ACK            int64\n",
       "is_pure_ack           int64\n",
       "is_with_payload       int64\n",
       "FIN or RST            int64\n",
       "Bad_checksum          int64\n",
       "is_SYN_with_RST       int64\n",
       "Scr_pkts             object\n",
       "Scr_ip_bytes         object\n",
       "Des_pkts             object\n",
       "Des_ip_bytes         object\n",
       "anomaly_alert        object\n",
       "total_bytes          object\n",
       "total_packet         object\n",
       "paket_rate           object\n",
       "byte_rate            object\n",
       "Scr_packts_ratio     object\n",
       "Des_pkts_ratio       object\n",
       "Scr_bytes_ratio      object\n",
       "Des_bytes_ratio      object\n",
       "Avg_user_time        object\n",
       "Avg_system_time      object\n",
       "Avg_iowait_time      object\n",
       "Avg_rtps             object\n",
       "Avg_wtps             object\n",
       "OSSEC_alert           int64\n",
       "OSSEC_alert_level     int64\n",
       "Login_attempt         int64\n",
       "Succesful_login       int64\n",
       "is_privileged         int64\n",
       "class3               object\n",
       "dtype: object"
      ]
     },
     "execution_count": 8,
     "metadata": {},
     "output_type": "execute_result"
    }
   ],
   "source": [
    "mydata.dtypes"
   ]
  },
  {
   "cell_type": "code",
   "execution_count": 37,
   "id": "b9e9201d-276e-4294-b6c1-1a4a7cd497f3",
   "metadata": {},
   "outputs": [
    {
     "data": {
      "image/png": "[encoded data removed]",
      "text/plain": [
       "<Figure size 640x480 with 1 Axes>"
      ]
     },
     "metadata": {},
     "output_type": "display_data"
    }
   ],
   "source": [
    "bar_graph('Service')"
   ]
  },
  {
   "cell_type": "code",
   "execution_count": 65,
   "id": "ee438e15-ebb7-4841-b297-508d394985cb",
   "metadata": {},
   "outputs": [
    {
     "data": {
      "text/plain": [
       "1578542789      4387\n",
       "1578542119      4345\n",
       "1578540712      4337\n",
       "1578541391      3669\n",
       "1578540712.0    1292\n",
       "                ... \n",
       "1579828955         1\n",
       "1580692930         1\n",
       "1579644303         1\n",
       "1579734116         1\n",
       "1579222902.0       1\n",
       "Name: Timestamp, Length: 273175, dtype: int64"
      ]
     },
     "execution_count": 65,
     "metadata": {},
     "output_type": "execute_result"
    }
   ],
   "source": [
    "mydata.Timestamp.value_counts()"
   ]
  },
  {
   "cell_type": "code",
   "execution_count": 66,
   "id": "e26e8493-c547-4e53-a267-b71da255dbc2",
   "metadata": {},
   "outputs": [
    {
     "data": {
      "text/html": [
       "<div>\n",
       "<style scoped>\n",
       "    .dataframe tbody tr th:only-of-type {\n",
       "        vertical-align: middle;\n",
       "    }\n",
       "\n",
       "    .dataframe tbody tr th {\n",
       "        vertical-align: top;\n",
       "    }\n",
       "\n",
       "    .dataframe thead th {\n",
       "        text-align: right;\n",
       "    }\n",
       "</style>\n",
       "<table border=\"1\" class=\"dataframe\">\n",
       "  <thead>\n",
       "    <tr style=\"text-align: right;\">\n",
       "      <th></th>\n",
       "      <th>Date</th>\n",
       "      <th>Timestamp</th>\n",
       "      <th>Scr_IP</th>\n",
       "      <th>Scr_port</th>\n",
       "      <th>Des_IP</th>\n",
       "      <th>Des_port</th>\n",
       "      <th>Protocol</th>\n",
       "      <th>Service</th>\n",
       "      <th>Duration</th>\n",
       "      <th>Scr_bytes</th>\n",
       "      <th>...</th>\n",
       "      <th>Avg_system_time</th>\n",
       "      <th>Avg_iowait_time</th>\n",
       "      <th>Avg_rtps</th>\n",
       "      <th>Avg_wtps</th>\n",
       "      <th>OSSEC_alert</th>\n",
       "      <th>OSSEC_alert_level</th>\n",
       "      <th>Login_attempt</th>\n",
       "      <th>Succesful_login</th>\n",
       "      <th>is_privileged</th>\n",
       "      <th>class3</th>\n",
       "    </tr>\n",
       "  </thead>\n",
       "  <tbody>\n",
       "    <tr>\n",
       "      <th>0</th>\n",
       "      <td>9/01/2020</td>\n",
       "      <td>1578540956</td>\n",
       "      <td>192.168.2.199</td>\n",
       "      <td>49278</td>\n",
       "      <td>192.168.2.10</td>\n",
       "      <td>80</td>\n",
       "      <td>tcp</td>\n",
       "      <td>http</td>\n",
       "      <td>0.67369</td>\n",
       "      <td>13437</td>\n",
       "      <td>...</td>\n",
       "      <td>4.864</td>\n",
       "      <td>0.311</td>\n",
       "      <td>8</td>\n",
       "      <td>4.297</td>\n",
       "      <td>1</td>\n",
       "      <td>5</td>\n",
       "      <td>0</td>\n",
       "      <td>0</td>\n",
       "      <td>0</td>\n",
       "      <td>Attack</td>\n",
       "    </tr>\n",
       "    <tr>\n",
       "      <th>1</th>\n",
       "      <td>13/01/2020</td>\n",
       "      <td>1578871873</td>\n",
       "      <td>10.0.1.5</td>\n",
       "      <td>39769</td>\n",
       "      <td>131.236.3.92</td>\n",
       "      <td>53</td>\n",
       "      <td>udp</td>\n",
       "      <td>dns</td>\n",
       "      <td>0.000083</td>\n",
       "      <td>78</td>\n",
       "      <td>...</td>\n",
       "      <td>3.778</td>\n",
       "      <td>2.741</td>\n",
       "      <td>0</td>\n",
       "      <td>6.6</td>\n",
       "      <td>0</td>\n",
       "      <td>0</td>\n",
       "      <td>0</td>\n",
       "      <td>0</td>\n",
       "      <td>0</td>\n",
       "      <td>Normal</td>\n",
       "    </tr>\n",
       "    <tr>\n",
       "      <th>2</th>\n",
       "      <td>9/01/2020</td>\n",
       "      <td>1578522486</td>\n",
       "      <td>172.24.1.80</td>\n",
       "      <td>59050</td>\n",
       "      <td>172.24.1.1</td>\n",
       "      <td>53</td>\n",
       "      <td>udp</td>\n",
       "      <td>dns</td>\n",
       "      <td>0.000132</td>\n",
       "      <td>38</td>\n",
       "      <td>...</td>\n",
       "      <td>1.693</td>\n",
       "      <td>2.423</td>\n",
       "      <td>30.1</td>\n",
       "      <td>7.3</td>\n",
       "      <td>0</td>\n",
       "      <td>0</td>\n",
       "      <td>0</td>\n",
       "      <td>0</td>\n",
       "      <td>0</td>\n",
       "      <td>Normal</td>\n",
       "    </tr>\n",
       "    <tr>\n",
       "      <th>3</th>\n",
       "      <td>27/02/2020</td>\n",
       "      <td>1582757640</td>\n",
       "      <td>192.168.2.196</td>\n",
       "      <td>37966</td>\n",
       "      <td>192.168.2.10</td>\n",
       "      <td>1880</td>\n",
       "      <td>tcp</td>\n",
       "      <td>websocket</td>\n",
       "      <td>9.378481</td>\n",
       "      <td>1121</td>\n",
       "      <td>...</td>\n",
       "      <td>3.941</td>\n",
       "      <td>0.509</td>\n",
       "      <td>23.3</td>\n",
       "      <td>5.7</td>\n",
       "      <td>0</td>\n",
       "      <td>0</td>\n",
       "      <td>1</td>\n",
       "      <td>1</td>\n",
       "      <td>1</td>\n",
       "      <td>Normal</td>\n",
       "    </tr>\n",
       "    <tr>\n",
       "      <th>4</th>\n",
       "      <td>16/12/2019</td>\n",
       "      <td>1576452612</td>\n",
       "      <td>172.24.1.80</td>\n",
       "      <td>38233</td>\n",
       "      <td>172.24.1.1</td>\n",
       "      <td>53</td>\n",
       "      <td>udp</td>\n",
       "      <td>dns</td>\n",
       "      <td>0.000074</td>\n",
       "      <td>-</td>\n",
       "      <td>...</td>\n",
       "      <td>2.415</td>\n",
       "      <td>1.803</td>\n",
       "      <td>0.1</td>\n",
       "      <td>9.7</td>\n",
       "      <td>0</td>\n",
       "      <td>0</td>\n",
       "      <td>0</td>\n",
       "      <td>0</td>\n",
       "      <td>0</td>\n",
       "      <td>Normal</td>\n",
       "    </tr>\n",
       "    <tr>\n",
       "      <th>...</th>\n",
       "      <td>...</td>\n",
       "      <td>...</td>\n",
       "      <td>...</td>\n",
       "      <td>...</td>\n",
       "      <td>...</td>\n",
       "      <td>...</td>\n",
       "      <td>...</td>\n",
       "      <td>...</td>\n",
       "      <td>...</td>\n",
       "      <td>...</td>\n",
       "      <td>...</td>\n",
       "      <td>...</td>\n",
       "      <td>...</td>\n",
       "      <td>...</td>\n",
       "      <td>...</td>\n",
       "      <td>...</td>\n",
       "      <td>...</td>\n",
       "      <td>...</td>\n",
       "      <td>...</td>\n",
       "      <td>...</td>\n",
       "      <td>...</td>\n",
       "    </tr>\n",
       "    <tr>\n",
       "      <th>820829</th>\n",
       "      <td>7/01/2020</td>\n",
       "      <td>1578374008.0</td>\n",
       "      <td>192.168.2.199</td>\n",
       "      <td>50886</td>\n",
       "      <td>192.168.2.10</td>\n",
       "      <td>22</td>\n",
       "      <td>tcp</td>\n",
       "      <td>ssh</td>\n",
       "      <td>-</td>\n",
       "      <td>-</td>\n",
       "      <td>...</td>\n",
       "      <td>1.563</td>\n",
       "      <td>1.506</td>\n",
       "      <td>6.3</td>\n",
       "      <td>11.7</td>\n",
       "      <td>0</td>\n",
       "      <td>0</td>\n",
       "      <td>0</td>\n",
       "      <td>0</td>\n",
       "      <td>0</td>\n",
       "      <td>Attack</td>\n",
       "    </tr>\n",
       "    <tr>\n",
       "      <th>820830</th>\n",
       "      <td>22/01/2020</td>\n",
       "      <td>1579653575.0</td>\n",
       "      <td>172.24.1.80</td>\n",
       "      <td>45913</td>\n",
       "      <td>172.24.1.1</td>\n",
       "      <td>1880</td>\n",
       "      <td>tcp</td>\n",
       "      <td>websocket</td>\n",
       "      <td>63.290477</td>\n",
       "      <td>0</td>\n",
       "      <td>...</td>\n",
       "      <td>2.823</td>\n",
       "      <td>3.323</td>\n",
       "      <td>13</td>\n",
       "      <td>8.4</td>\n",
       "      <td>0</td>\n",
       "      <td>0</td>\n",
       "      <td>0</td>\n",
       "      <td>0</td>\n",
       "      <td>0</td>\n",
       "      <td>Normal</td>\n",
       "    </tr>\n",
       "    <tr>\n",
       "      <th>820831</th>\n",
       "      <td>15/01/2020</td>\n",
       "      <td>1579064398.0</td>\n",
       "      <td>192.168.10.153</td>\n",
       "      <td>53252</td>\n",
       "      <td>192.168.2.10</td>\n",
       "      <td>80</td>\n",
       "      <td>tcp</td>\n",
       "      <td>http</td>\n",
       "      <td>14.787547</td>\n",
       "      <td>26091</td>\n",
       "      <td>...</td>\n",
       "      <td>1.865</td>\n",
       "      <td>0.1</td>\n",
       "      <td>0.1</td>\n",
       "      <td>3.1</td>\n",
       "      <td>0</td>\n",
       "      <td>0</td>\n",
       "      <td>0</td>\n",
       "      <td>0</td>\n",
       "      <td>0</td>\n",
       "      <td>Normal</td>\n",
       "    </tr>\n",
       "    <tr>\n",
       "      <th>820832</th>\n",
       "      <td>7/01/2020</td>\n",
       "      <td>1578374864.0</td>\n",
       "      <td>192.168.2.199</td>\n",
       "      <td>44451</td>\n",
       "      <td>192.168.2.10</td>\n",
       "      <td>19315</td>\n",
       "      <td>tcp</td>\n",
       "      <td>other</td>\n",
       "      <td>0.000011</td>\n",
       "      <td>0</td>\n",
       "      <td>...</td>\n",
       "      <td>2.074</td>\n",
       "      <td>0.829</td>\n",
       "      <td>1.5</td>\n",
       "      <td>11.6</td>\n",
       "      <td>0</td>\n",
       "      <td>0</td>\n",
       "      <td>0</td>\n",
       "      <td>0</td>\n",
       "      <td>0</td>\n",
       "      <td>Attack</td>\n",
       "    </tr>\n",
       "    <tr>\n",
       "      <th>820833</th>\n",
       "      <td>16/12/2019</td>\n",
       "      <td>1576459118.0</td>\n",
       "      <td>10.0.1.5</td>\n",
       "      <td>33903</td>\n",
       "      <td>131.236.3.92</td>\n",
       "      <td>53</td>\n",
       "      <td>udp</td>\n",
       "      <td>dns</td>\n",
       "      <td>0.000004</td>\n",
       "      <td>108</td>\n",
       "      <td>...</td>\n",
       "      <td>3.389</td>\n",
       "      <td>1.609</td>\n",
       "      <td>0.2</td>\n",
       "      <td>8.9</td>\n",
       "      <td>0</td>\n",
       "      <td>0</td>\n",
       "      <td>0</td>\n",
       "      <td>0</td>\n",
       "      <td>0</td>\n",
       "      <td>Normal</td>\n",
       "    </tr>\n",
       "  </tbody>\n",
       "</table>\n",
       "<p>820834 rows × 42 columns</p>\n",
       "</div>"
      ],
      "text/plain": [
       "              Date     Timestamp          Scr_IP Scr_port        Des_IP  \\\n",
       "0        9/01/2020    1578540956   192.168.2.199    49278  192.168.2.10   \n",
       "1       13/01/2020    1578871873        10.0.1.5    39769  131.236.3.92   \n",
       "2        9/01/2020    1578522486     172.24.1.80    59050    172.24.1.1   \n",
       "3       27/02/2020    1582757640   192.168.2.196    37966  192.168.2.10   \n",
       "4       16/12/2019    1576452612     172.24.1.80    38233    172.24.1.1   \n",
       "...            ...           ...             ...      ...           ...   \n",
       "820829   7/01/2020  1578374008.0   192.168.2.199    50886  192.168.2.10   \n",
       "820830  22/01/2020  1579653575.0     172.24.1.80    45913    172.24.1.1   \n",
       "820831  15/01/2020  1579064398.0  192.168.10.153    53252  192.168.2.10   \n",
       "820832   7/01/2020  1578374864.0   192.168.2.199    44451  192.168.2.10   \n",
       "820833  16/12/2019  1576459118.0        10.0.1.5    33903  131.236.3.92   \n",
       "\n",
       "       Des_port Protocol    Service   Duration Scr_bytes  ... Avg_system_time  \\\n",
       "0            80      tcp       http    0.67369     13437  ...           4.864   \n",
       "1            53      udp        dns   0.000083        78  ...           3.778   \n",
       "2            53      udp        dns   0.000132        38  ...           1.693   \n",
       "3          1880      tcp  websocket   9.378481      1121  ...           3.941   \n",
       "4            53      udp        dns   0.000074         -  ...           2.415   \n",
       "...         ...      ...        ...        ...       ...  ...             ...   \n",
       "820829       22      tcp        ssh          -         -  ...           1.563   \n",
       "820830     1880      tcp  websocket  63.290477         0  ...           2.823   \n",
       "820831       80      tcp       http  14.787547     26091  ...           1.865   \n",
       "820832    19315      tcp      other   0.000011         0  ...           2.074   \n",
       "820833       53      udp        dns   0.000004       108  ...           3.389   \n",
       "\n",
       "        Avg_iowait_time Avg_rtps  Avg_wtps  OSSEC_alert  OSSEC_alert_level  \\\n",
       "0                 0.311        8     4.297            1                  5   \n",
       "1                 2.741        0       6.6            0                  0   \n",
       "2                 2.423     30.1       7.3            0                  0   \n",
       "3                 0.509     23.3       5.7            0                  0   \n",
       "4                 1.803      0.1       9.7            0                  0   \n",
       "...                 ...      ...       ...          ...                ...   \n",
       "820829            1.506      6.3      11.7            0                  0   \n",
       "820830            3.323       13       8.4            0                  0   \n",
       "820831              0.1      0.1       3.1            0                  0   \n",
       "820832            0.829      1.5      11.6            0                  0   \n",
       "820833            1.609      0.2       8.9            0                  0   \n",
       "\n",
       "        Login_attempt  Succesful_login is_privileged  class3  \n",
       "0                   0                0             0  Attack  \n",
       "1                   0                0             0  Normal  \n",
       "2                   0                0             0  Normal  \n",
       "3                   1                1             1  Normal  \n",
       "4                   0                0             0  Normal  \n",
       "...               ...              ...           ...     ...  \n",
       "820829              0                0             0  Attack  \n",
       "820830              0                0             0  Normal  \n",
       "820831              0                0             0  Normal  \n",
       "820832              0                0             0  Attack  \n",
       "820833              0                0             0  Normal  \n",
       "\n",
       "[820834 rows x 42 columns]"
      ]
     },
     "execution_count": 66,
     "metadata": {},
     "output_type": "execute_result"
    }
   ],
   "source": [
    "mydata"
   ]
  },
  {
   "cell_type": "code",
   "execution_count": 9,
   "id": "a5051b71-9905-499f-8105-2e531c7ff4fb",
   "metadata": {},
   "outputs": [
    {
     "name": "stderr",
     "output_type": "stream",
     "text": [
      "C:\\Users\\framatome\\AppData\\Local\\Temp\\ipykernel_7268\\615473051.py:2: FutureWarning: The default value of numeric_only in DataFrame.corr is deprecated. In a future version, it will default to False. Select only valid columns or specify the value of numeric_only to silence this warning.\n",
      "  corr = mydata.corr()\n"
     ]
    },
    {
     "data": {
      "image/png": "[encoded data removed]",
      "text/plain": [
       "<Figure size 2000x1700 with 2 Axes>"
      ]
     },
     "metadata": {},
     "output_type": "display_data"
    }
   ],
   "source": [
    "mydata = mydata[[col for col in mydata.columns if mydata[col].nunique()>1]]\n",
    "corr = mydata.corr()\n",
    "\n",
    "plt.figure(figsize=(20,17))\n",
    "sns.heatmap(corr)\n",
    "\n",
    "plt.show()"
   ]
  },
  {
   "cell_type": "code",
   "execution_count": 67,
   "id": "793bc7c3-7b8d-444b-8ebf-0811347a69b2",
   "metadata": {},
   "outputs": [
    {
     "data": {
      "text/plain": [
       "0.9962821010284942"
      ]
     },
     "execution_count": 67,
     "metadata": {},
     "output_type": "execute_result"
    }
   ],
   "source": [
    "#Check the correlation of some features of the dataset\n",
    "\n",
    "mydata['Is_SYN_ACK'].corr(mydata['is_pure_ack'])"
   ]
  },
  {
   "cell_type": "code",
   "execution_count": 70,
   "id": "c9ef38b9-1328-4602-ad35-462725155e8f",
   "metadata": {},
   "outputs": [
    {
     "data": {
      "text/plain": [
       "0.9822578311195628"
      ]
     },
     "execution_count": 70,
     "metadata": {},
     "output_type": "execute_result"
    }
   ],
   "source": [
    "mydata['FIN or RST'].corr(mydata['is_syn_only'])"
   ]
  },
  {
   "cell_type": "code",
   "execution_count": 73,
   "id": "5fab69f4-4902-4b0a-a8e5-ded631114328",
   "metadata": {},
   "outputs": [
    {
     "data": {
      "text/plain": [
       "0.9784450674841646"
      ]
     },
     "execution_count": 73,
     "metadata": {},
     "output_type": "execute_result"
    }
   ],
   "source": [
    "mydata['OSSEC_alert'].corr(mydata['OSSEC_alert_level'])"
   ]
  },
  {
   "cell_type": "code",
   "execution_count": 76,
   "id": "cc203758-5768-4e39-b9a3-ea6ba7945cfa",
   "metadata": {},
   "outputs": [
    {
     "data": {
      "text/plain": [
       "0.9692475849420203"
      ]
     },
     "execution_count": 76,
     "metadata": {},
     "output_type": "execute_result"
    }
   ],
   "source": [
    "mydata['Login_attempt'].corr(mydata['is_privileged'])"
   ]
  },
  {
   "cell_type": "code",
   "execution_count": 77,
   "id": "e054fac0-6456-481a-a7b8-db0dc0b5b83d",
   "metadata": {},
   "outputs": [
    {
     "data": {
      "text/plain": [
       "0.9710180638933039"
      ]
     },
     "execution_count": 77,
     "metadata": {},
     "output_type": "execute_result"
    }
   ],
   "source": [
    "mydata['Login_attempt'].corr(mydata['Succesful_login'])"
   ]
  },
  {
   "cell_type": "code",
   "execution_count": 10,
   "id": "8a31a6a3-08f1-4a8a-876a-f66b6f575914",
   "metadata": {},
   "outputs": [],
   "source": [
    "#Drop highly correlated features\n",
    "\n",
    "\n",
    "mydata.drop('is_pure_ack', axis = 1, inplace=True)\n",
    "mydata.drop('FIN or RST', axis = 1, inplace=True)\n",
    "mydata.drop('is_privileged', axis = 1, inplace=True)\n",
    "mydata.drop('Succesful_login', axis = 1, inplace=True)"
   ]
  },
  {
   "cell_type": "code",
   "execution_count": 33,
   "id": "3d88c8ff-0f59-47b3-8f03-5d51e048b697",
   "metadata": {},
   "outputs": [],
   "source": [
    "mydata.drop(columns = ['class3', 'Avg_wtps', 'Avg_rtps', 'Avg_iowait_time', 'Avg_system_time', 'Avg_user_time'], inplace=True)"
   ]
  },
  {
   "cell_type": "code",
   "execution_count": 34,
   "id": "a9621919-a70c-433c-bf4c-e5a9c0c7c410",
   "metadata": {},
   "outputs": [
    {
     "data": {
      "text/plain": [
       "Timestamp            int32\n",
       "Scr_IP              object\n",
       "Scr_port            object\n",
       "Des_IP              object\n",
       "Des_port            object\n",
       "Protocol            object\n",
       "Service             object\n",
       "Duration            object\n",
       "Scr_bytes           object\n",
       "Des_bytes           object\n",
       "Conn_state           int64\n",
       "missed_bytes        object\n",
       "is_syn_only          int64\n",
       "Is_SYN_ACK           int64\n",
       "is_with_payload      int64\n",
       "Scr_pkts            object\n",
       "Scr_ip_bytes        object\n",
       "Des_pkts            object\n",
       "Des_ip_bytes        object\n",
       "anomaly_alert       object\n",
       "total_bytes         object\n",
       "total_packet        object\n",
       "paket_rate          object\n",
       "byte_rate           object\n",
       "Scr_packts_ratio    object\n",
       "Des_pkts_ratio      object\n",
       "Scr_bytes_ratio     object\n",
       "Des_bytes_ratio     object\n",
       "OSSEC_alert          int64\n",
       "Login_attempt        int64\n",
       "dtype: object"
      ]
     },
     "execution_count": 34,
     "metadata": {},
     "output_type": "execute_result"
    }
   ],
   "source": [
    "mydata.dtypes"
   ]
  },
  {
   "cell_type": "code",
   "execution_count": 12,
   "id": "b7aed533-dae4-4c1b-b420-08ad06b44e23",
   "metadata": {},
   "outputs": [],
   "source": [
    "#Replace any empty string and some '?' dates by most frequent date\n",
    "mydata['Date'].fillna( mydata.Date.mode()[0], inplace = True)\n",
    "mydata['Date'] = mydata['Date'].replace('', mydata.Date.mode()[0])\n",
    "mydata['Date'] = mydata['Date'].replace('?', mydata.Date.mode()[0])"
   ]
  },
  {
   "cell_type": "code",
   "execution_count": 13,
   "id": "85c2657e-8eed-459e-ae2b-dd734b2ab72d",
   "metadata": {},
   "outputs": [
    {
     "name": "stderr",
     "output_type": "stream",
     "text": [
      "C:\\Users\\framatome\\AppData\\Local\\Temp\\ipykernel_7268\\3745301263.py:1: UserWarning: Parsing dates in DD/MM/YYYY format when dayfirst=False (the default) was specified. This may lead to inconsistently parsed dates! Specify a format to ensure consistent parsing.\n",
      "  mydata['Date'] = pd.to_datetime(mydata['Date'], format = \"%d/%m/%y\", infer_datetime_format=True) #Parse the string dates into Date.\n"
     ]
    }
   ],
   "source": [
    "mydata['Date'] = pd.to_datetime(mydata['Date'], format = \"%d/%m/%y\", infer_datetime_format=True) #Parse the string dates into Date."
   ]
  },
  {
   "cell_type": "code",
   "execution_count": 17,
   "id": "e5c05848-b822-45d3-ad67-8585e57088b8",
   "metadata": {},
   "outputs": [
    {
     "data": {
      "text/plain": [
       "0"
      ]
     },
     "execution_count": 17,
     "metadata": {},
     "output_type": "execute_result"
    }
   ],
   "source": [
    "mydata.Timestamp.isnull().sum() #Check number of empty Timestamp cells #297"
   ]
  },
  {
   "cell_type": "code",
   "execution_count": 15,
   "id": "2122565d-7349-43b8-bd87-055a9dab427d",
   "metadata": {},
   "outputs": [
    {
     "data": {
      "text/plain": [
       "0"
      ]
     },
     "execution_count": 15,
     "metadata": {},
     "output_type": "execute_result"
    }
   ],
   "source": [
    "mydata.Date.isnull().sum()"
   ]
  },
  {
   "cell_type": "code",
   "execution_count": 16,
   "id": "0d8f9189-5e2a-4428-ae7e-e0ca1614bb3a",
   "metadata": {},
   "outputs": [],
   "source": [
    "#Replace each of the empty cells of Timestamp with the converted timestamp from the Date feature\n",
    "mydata['Date'] = pd.to_datetime(mydata['Date'])\n",
    "mydata['Timestamp'] = mydata['Timestamp'].fillna(mydata['Date'].apply(datetime.timestamp))\n"
   ]
  },
  {
   "cell_type": "code",
   "execution_count": 18,
   "id": "faf97131-453c-44fc-a518-4f0836c18193",
   "metadata": {},
   "outputs": [],
   "source": [
    "mydata.drop('Date', axis = 1, inplace= True)"
   ]
  },
  {
   "cell_type": "code",
   "execution_count": 55,
   "id": "b2284325-6f82-452e-a0bb-dac9e6297817",
   "metadata": {},
   "outputs": [],
   "source": [
    "mydata.loc[mydata.Timestamp=='?'] #154 rows with missing timestamp, and several other features to be dropped\n",
    "\n",
    "\n",
    "for idx, val in mydata.loc[mydata.Timestamp =='?'].Timestamp.items():\n",
    "    mydata = mydata.drop(idx, axis=0)"
   ]
  },
  {
   "cell_type": "code",
   "execution_count": 23,
   "id": "3e79da9d-e46e-41f1-bea8-43a496928815",
   "metadata": {},
   "outputs": [],
   "source": [
    "mydata['Timestamp'] = mydata['Timestamp'].astype(int)"
   ]
  },
  {
   "cell_type": "code",
   "execution_count": 36,
   "id": "a47bed53-16f1-4239-8f15-49070116cf13",
   "metadata": {},
   "outputs": [
    {
     "data": {
      "text/plain": [
       "Timestamp            int32\n",
       "Scr_IP              object\n",
       "Scr_port            object\n",
       "Des_IP              object\n",
       "Des_port            object\n",
       "Protocol            object\n",
       "Service             object\n",
       "Duration            object\n",
       "Scr_bytes           object\n",
       "Des_bytes           object\n",
       "Conn_state           int64\n",
       "missed_bytes        object\n",
       "is_syn_only          int64\n",
       "Is_SYN_ACK           int64\n",
       "is_with_payload      int64\n",
       "Scr_pkts            object\n",
       "Scr_ip_bytes        object\n",
       "Des_pkts            object\n",
       "Des_ip_bytes        object\n",
       "anomaly_alert       object\n",
       "total_bytes         object\n",
       "total_packet        object\n",
       "paket_rate          object\n",
       "byte_rate           object\n",
       "Scr_packts_ratio    object\n",
       "Des_pkts_ratio      object\n",
       "Scr_bytes_ratio     object\n",
       "Des_bytes_ratio     object\n",
       "OSSEC_alert          int64\n",
       "Login_attempt        int64\n",
       "dtype: object"
      ]
     },
     "execution_count": 36,
     "metadata": {},
     "output_type": "execute_result"
    }
   ],
   "source": [
    "mydata.dtypes"
   ]
  },
  {
   "cell_type": "code",
   "execution_count": 35,
   "id": "18efe3d1-6d95-4d90-8f11-068c17602afa",
   "metadata": {},
   "outputs": [
    {
     "data": {
      "text/html": [
       "<div>\n",
       "<style scoped>\n",
       "    .dataframe tbody tr th:only-of-type {\n",
       "        vertical-align: middle;\n",
       "    }\n",
       "\n",
       "    .dataframe tbody tr th {\n",
       "        vertical-align: top;\n",
       "    }\n",
       "\n",
       "    .dataframe thead th {\n",
       "        text-align: right;\n",
       "    }\n",
       "</style>\n",
       "<table border=\"1\" class=\"dataframe\">\n",
       "  <thead>\n",
       "    <tr style=\"text-align: right;\">\n",
       "      <th></th>\n",
       "      <th>Timestamp</th>\n",
       "      <th>Scr_IP</th>\n",
       "      <th>Scr_port</th>\n",
       "      <th>Des_IP</th>\n",
       "      <th>Des_port</th>\n",
       "      <th>Protocol</th>\n",
       "      <th>Service</th>\n",
       "      <th>Duration</th>\n",
       "      <th>Scr_bytes</th>\n",
       "      <th>Des_bytes</th>\n",
       "      <th>...</th>\n",
       "      <th>total_bytes</th>\n",
       "      <th>total_packet</th>\n",
       "      <th>paket_rate</th>\n",
       "      <th>byte_rate</th>\n",
       "      <th>Scr_packts_ratio</th>\n",
       "      <th>Des_pkts_ratio</th>\n",
       "      <th>Scr_bytes_ratio</th>\n",
       "      <th>Des_bytes_ratio</th>\n",
       "      <th>OSSEC_alert</th>\n",
       "      <th>Login_attempt</th>\n",
       "    </tr>\n",
       "  </thead>\n",
       "  <tbody>\n",
       "    <tr>\n",
       "      <th>0</th>\n",
       "      <td>1578540956</td>\n",
       "      <td>192.168.2.199</td>\n",
       "      <td>49278</td>\n",
       "      <td>192.168.2.10</td>\n",
       "      <td>80</td>\n",
       "      <td>tcp</td>\n",
       "      <td>http</td>\n",
       "      <td>0.67369</td>\n",
       "      <td>13437</td>\n",
       "      <td>34924</td>\n",
       "      <td>...</td>\n",
       "      <td>107658</td>\n",
       "      <td>210</td>\n",
       "      <td>311.7160712</td>\n",
       "      <td>159803.4704</td>\n",
       "      <td>0.5</td>\n",
       "      <td>0.5</td>\n",
       "      <td>0.300414275</td>\n",
       "      <td>0.699585725</td>\n",
       "      <td>1</td>\n",
       "      <td>0</td>\n",
       "    </tr>\n",
       "    <tr>\n",
       "      <th>1</th>\n",
       "      <td>1578871873</td>\n",
       "      <td>10.0.1.5</td>\n",
       "      <td>39769</td>\n",
       "      <td>131.236.3.92</td>\n",
       "      <td>53</td>\n",
       "      <td>udp</td>\n",
       "      <td>dns</td>\n",
       "      <td>0.000083</td>\n",
       "      <td>78</td>\n",
       "      <td>0</td>\n",
       "      <td>...</td>\n",
       "      <td>212</td>\n",
       "      <td>2</td>\n",
       "      <td>24096.38554</td>\n",
       "      <td>2554216.867</td>\n",
       "      <td>1</td>\n",
       "      <td>0</td>\n",
       "      <td>1</td>\n",
       "      <td>0</td>\n",
       "      <td>0</td>\n",
       "      <td>0</td>\n",
       "    </tr>\n",
       "    <tr>\n",
       "      <th>2</th>\n",
       "      <td>1578522486</td>\n",
       "      <td>172.24.1.80</td>\n",
       "      <td>59050</td>\n",
       "      <td>172.24.1.1</td>\n",
       "      <td>53</td>\n",
       "      <td>udp</td>\n",
       "      <td>dns</td>\n",
       "      <td>0.000132</td>\n",
       "      <td>38</td>\n",
       "      <td>38</td>\n",
       "      <td>...</td>\n",
       "      <td>208</td>\n",
       "      <td>2</td>\n",
       "      <td>15151.51515</td>\n",
       "      <td>1575757.576</td>\n",
       "      <td>0.5</td>\n",
       "      <td>0.5</td>\n",
       "      <td>0.5</td>\n",
       "      <td>0.5</td>\n",
       "      <td>0</td>\n",
       "      <td>0</td>\n",
       "    </tr>\n",
       "    <tr>\n",
       "      <th>3</th>\n",
       "      <td>1582757640</td>\n",
       "      <td>192.168.2.196</td>\n",
       "      <td>37966</td>\n",
       "      <td>192.168.2.10</td>\n",
       "      <td>1880</td>\n",
       "      <td>tcp</td>\n",
       "      <td>websocket</td>\n",
       "      <td>9.378481</td>\n",
       "      <td>1121</td>\n",
       "      <td>484</td>\n",
       "      <td>...</td>\n",
       "      <td>3954</td>\n",
       "      <td>14</td>\n",
       "      <td>1.492779055</td>\n",
       "      <td>421.6034558</td>\n",
       "      <td>0.571428571</td>\n",
       "      <td>0.428571429</td>\n",
       "      <td>0.67425392</td>\n",
       "      <td>0.32574608</td>\n",
       "      <td>0</td>\n",
       "      <td>1</td>\n",
       "    </tr>\n",
       "    <tr>\n",
       "      <th>4</th>\n",
       "      <td>1576452612</td>\n",
       "      <td>172.24.1.80</td>\n",
       "      <td>38233</td>\n",
       "      <td>172.24.1.1</td>\n",
       "      <td>53</td>\n",
       "      <td>udp</td>\n",
       "      <td>dns</td>\n",
       "      <td>0.000074</td>\n",
       "      <td>-</td>\n",
       "      <td>-</td>\n",
       "      <td>...</td>\n",
       "      <td>-</td>\n",
       "      <td>-</td>\n",
       "      <td>-</td>\n",
       "      <td>-</td>\n",
       "      <td>-</td>\n",
       "      <td>-</td>\n",
       "      <td>-</td>\n",
       "      <td>-</td>\n",
       "      <td>0</td>\n",
       "      <td>0</td>\n",
       "    </tr>\n",
       "    <tr>\n",
       "      <th>...</th>\n",
       "      <td>...</td>\n",
       "      <td>...</td>\n",
       "      <td>...</td>\n",
       "      <td>...</td>\n",
       "      <td>...</td>\n",
       "      <td>...</td>\n",
       "      <td>...</td>\n",
       "      <td>...</td>\n",
       "      <td>...</td>\n",
       "      <td>...</td>\n",
       "      <td>...</td>\n",
       "      <td>...</td>\n",
       "      <td>...</td>\n",
       "      <td>...</td>\n",
       "      <td>...</td>\n",
       "      <td>...</td>\n",
       "      <td>...</td>\n",
       "      <td>...</td>\n",
       "      <td>...</td>\n",
       "      <td>...</td>\n",
       "      <td>...</td>\n",
       "    </tr>\n",
       "    <tr>\n",
       "      <th>820829</th>\n",
       "      <td>1578374008</td>\n",
       "      <td>192.168.2.199</td>\n",
       "      <td>50886</td>\n",
       "      <td>192.168.2.10</td>\n",
       "      <td>22</td>\n",
       "      <td>tcp</td>\n",
       "      <td>ssh</td>\n",
       "      <td>-</td>\n",
       "      <td>-</td>\n",
       "      <td>-</td>\n",
       "      <td>...</td>\n",
       "      <td>-</td>\n",
       "      <td>1</td>\n",
       "      <td>-</td>\n",
       "      <td>-</td>\n",
       "      <td>1</td>\n",
       "      <td>0</td>\n",
       "      <td>-</td>\n",
       "      <td>-</td>\n",
       "      <td>0</td>\n",
       "      <td>0</td>\n",
       "    </tr>\n",
       "    <tr>\n",
       "      <th>820830</th>\n",
       "      <td>1579653575</td>\n",
       "      <td>172.24.1.80</td>\n",
       "      <td>45913</td>\n",
       "      <td>172.24.1.1</td>\n",
       "      <td>1880</td>\n",
       "      <td>tcp</td>\n",
       "      <td>websocket</td>\n",
       "      <td>63.290477</td>\n",
       "      <td>0</td>\n",
       "      <td>0</td>\n",
       "      <td>...</td>\n",
       "      <td>380</td>\n",
       "      <td>7</td>\n",
       "      <td>0.110601157</td>\n",
       "      <td>6.004062823</td>\n",
       "      <td>0.571428571</td>\n",
       "      <td>0.428571429</td>\n",
       "      <td>0.568421053</td>\n",
       "      <td>0.431578947</td>\n",
       "      <td>0</td>\n",
       "      <td>0</td>\n",
       "    </tr>\n",
       "    <tr>\n",
       "      <th>820831</th>\n",
       "      <td>1579064398</td>\n",
       "      <td>192.168.10.153</td>\n",
       "      <td>53252</td>\n",
       "      <td>192.168.2.10</td>\n",
       "      <td>80</td>\n",
       "      <td>tcp</td>\n",
       "      <td>http</td>\n",
       "      <td>14.787547</td>\n",
       "      <td>26091</td>\n",
       "      <td>604398</td>\n",
       "      <td>...</td>\n",
       "      <td>1292591</td>\n",
       "      <td>784</td>\n",
       "      <td>53.01758297</td>\n",
       "      <td>87410.77881</td>\n",
       "      <td>0.343112245</td>\n",
       "      <td>0.656887755</td>\n",
       "      <td>0.048713011</td>\n",
       "      <td>0.951286989</td>\n",
       "      <td>0</td>\n",
       "      <td>0</td>\n",
       "    </tr>\n",
       "    <tr>\n",
       "      <th>820832</th>\n",
       "      <td>1578374864</td>\n",
       "      <td>192.168.2.199</td>\n",
       "      <td>44451</td>\n",
       "      <td>192.168.2.10</td>\n",
       "      <td>19315</td>\n",
       "      <td>tcp</td>\n",
       "      <td>other</td>\n",
       "      <td>0.000011</td>\n",
       "      <td>0</td>\n",
       "      <td>0</td>\n",
       "      <td>...</td>\n",
       "      <td>84</td>\n",
       "      <td>2</td>\n",
       "      <td>181818.1818</td>\n",
       "      <td>7636363.636</td>\n",
       "      <td>0.5</td>\n",
       "      <td>0.5</td>\n",
       "      <td>0.523809524</td>\n",
       "      <td>0.476190476</td>\n",
       "      <td>0</td>\n",
       "      <td>0</td>\n",
       "    </tr>\n",
       "    <tr>\n",
       "      <th>820833</th>\n",
       "      <td>1576459118</td>\n",
       "      <td>10.0.1.5</td>\n",
       "      <td>33903</td>\n",
       "      <td>131.236.3.92</td>\n",
       "      <td>53</td>\n",
       "      <td>udp</td>\n",
       "      <td>dns</td>\n",
       "      <td>0.000004</td>\n",
       "      <td>108</td>\n",
       "      <td>0</td>\n",
       "      <td>...</td>\n",
       "      <td>272</td>\n",
       "      <td>2</td>\n",
       "      <td>500000</td>\n",
       "      <td>68000000</td>\n",
       "      <td>1</td>\n",
       "      <td>0</td>\n",
       "      <td>1</td>\n",
       "      <td>0</td>\n",
       "      <td>0</td>\n",
       "      <td>0</td>\n",
       "    </tr>\n",
       "  </tbody>\n",
       "</table>\n",
       "<p>820680 rows × 30 columns</p>\n",
       "</div>"
      ],
      "text/plain": [
       "         Timestamp          Scr_IP Scr_port        Des_IP Des_port Protocol  \\\n",
       "0       1578540956   192.168.2.199    49278  192.168.2.10       80      tcp   \n",
       "1       1578871873        10.0.1.5    39769  131.236.3.92       53      udp   \n",
       "2       1578522486     172.24.1.80    59050    172.24.1.1       53      udp   \n",
       "3       1582757640   192.168.2.196    37966  192.168.2.10     1880      tcp   \n",
       "4       1576452612     172.24.1.80    38233    172.24.1.1       53      udp   \n",
       "...            ...             ...      ...           ...      ...      ...   \n",
       "820829  1578374008   192.168.2.199    50886  192.168.2.10       22      tcp   \n",
       "820830  1579653575     172.24.1.80    45913    172.24.1.1     1880      tcp   \n",
       "820831  1579064398  192.168.10.153    53252  192.168.2.10       80      tcp   \n",
       "820832  1578374864   192.168.2.199    44451  192.168.2.10    19315      tcp   \n",
       "820833  1576459118        10.0.1.5    33903  131.236.3.92       53      udp   \n",
       "\n",
       "          Service   Duration Scr_bytes Des_bytes  ...  total_bytes  \\\n",
       "0            http    0.67369     13437     34924  ...       107658   \n",
       "1             dns   0.000083        78         0  ...          212   \n",
       "2             dns   0.000132        38        38  ...          208   \n",
       "3       websocket   9.378481      1121       484  ...         3954   \n",
       "4             dns   0.000074         -         -  ...            -   \n",
       "...           ...        ...       ...       ...  ...          ...   \n",
       "820829        ssh          -         -         -  ...            -   \n",
       "820830  websocket  63.290477         0         0  ...          380   \n",
       "820831       http  14.787547     26091    604398  ...      1292591   \n",
       "820832      other   0.000011         0         0  ...           84   \n",
       "820833        dns   0.000004       108         0  ...          272   \n",
       "\n",
       "       total_packet   paket_rate    byte_rate  Scr_packts_ratio  \\\n",
       "0               210  311.7160712  159803.4704               0.5   \n",
       "1                 2  24096.38554  2554216.867                 1   \n",
       "2                 2  15151.51515  1575757.576               0.5   \n",
       "3                14  1.492779055  421.6034558       0.571428571   \n",
       "4                 -            -            -                 -   \n",
       "...             ...          ...          ...               ...   \n",
       "820829            1            -            -                 1   \n",
       "820830            7  0.110601157  6.004062823       0.571428571   \n",
       "820831          784  53.01758297  87410.77881       0.343112245   \n",
       "820832            2  181818.1818  7636363.636               0.5   \n",
       "820833            2       500000     68000000                 1   \n",
       "\n",
       "       Des_pkts_ratio Scr_bytes_ratio Des_bytes_ratio OSSEC_alert  \\\n",
       "0                 0.5     0.300414275     0.699585725           1   \n",
       "1                   0               1               0           0   \n",
       "2                 0.5             0.5             0.5           0   \n",
       "3         0.428571429      0.67425392      0.32574608           0   \n",
       "4                   -               -               -           0   \n",
       "...               ...             ...             ...         ...   \n",
       "820829              0               -               -           0   \n",
       "820830    0.428571429     0.568421053     0.431578947           0   \n",
       "820831    0.656887755     0.048713011     0.951286989           0   \n",
       "820832            0.5     0.523809524     0.476190476           0   \n",
       "820833              0               1               0           0   \n",
       "\n",
       "       Login_attempt  \n",
       "0                  0  \n",
       "1                  0  \n",
       "2                  0  \n",
       "3                  1  \n",
       "4                  0  \n",
       "...              ...  \n",
       "820829             0  \n",
       "820830             0  \n",
       "820831             0  \n",
       "820832             0  \n",
       "820833             0  \n",
       "\n",
       "[820680 rows x 30 columns]"
      ]
     },
     "execution_count": 35,
     "metadata": {},
     "output_type": "execute_result"
    }
   ],
   "source": [
    "mydata"
   ]
  },
  {
   "cell_type": "code",
   "execution_count": 41,
   "id": "753e80c5-5f0b-4c43-b724-891e22039a31",
   "metadata": {},
   "outputs": [
    {
     "data": {
      "text/plain": [
       "192.168.2.199                156023\n",
       "172.24.1.80                  103358\n",
       "172.24.1.244                  75353\n",
       "192.168.2.10                  71598\n",
       "192.168.10.153                68424\n",
       "172.24.1.233                  65908\n",
       "10.0.1.5                      63527\n",
       "192.168.10.155                62880\n",
       "127.0.0.1                     41633\n",
       "172.24.1.33                   23135\n",
       "172.24.1.34                   22476\n",
       "192.168.2.196                 20387\n",
       "172.24.1.213                  10541\n",
       "172.24.1.199                   8101\n",
       "172.24.1.100                   7360\n",
       "10.0.1.1                       6291\n",
       "192.168.2.15                   6093\n",
       "172.24.1.1                     5541\n",
       "172.24.1.101                   1380\n",
       "fe80::cd0a:9bbc:bd36:d371       248\n",
       "fe80::186a:2874:7a4d:636        191\n",
       "fe80::9dbf:575b:8abf:902        102\n",
       "192.168.10.150                   49\n",
       "fe80::1c1e:ef6b:4490:a231        46\n",
       "192.168.1.196                    10\n",
       "0.0.0.0                           9\n",
       "255.255.255.255                   3\n",
       "169.254.211.113                   3\n",
       "192.168.2.1                       3\n",
       "fe80::20c:29ff:fee5:b893          2\n",
       "fe80::20c:29ff:feb8:e2c2          1\n",
       "fe80::d27f:a0ff:fed6:8cdd         1\n",
       "fe80::20c:29ff:fe7a:4029          1\n",
       "131.236.130.109                   1\n",
       "131.236.131.9                     1\n",
       "Name: Scr_IP, dtype: int64"
      ]
     },
     "execution_count": 41,
     "metadata": {},
     "output_type": "execute_result"
    }
   ],
   "source": [
    "mydata.Scr_IP.value_counts()"
   ]
  },
  {
   "cell_type": "code",
   "execution_count": 42,
   "id": "f445a341-70b1-40f7-b342-a0b118d5b53a",
   "metadata": {},
   "outputs": [],
   "source": [
    "pmap = {'192.168.1.196':1, 'fe80::1c1e:ef6b:4490:a231':2, '192.168.10.150': 3, 'fe80::9dbf:575b:8abf:902': 4, 'fe80::186a:2874:7a4d:636': 5, 'fe80::cd0a:9bbc:bd36:d371': 6, '172.24.1.101':7, '172.24.1.1': 8, '192.168.2.15': 9, '10.0.1.1': 10, '172.24.1.100': 11, '172.24.1.199': 12, '172.24.1.213': 13, '192.168.2.196': 14, '172.24.1.34': 15, '172.24.1.33': 16, '127.0.0.1': 17, '192.168.10.155': 18, '10.0.1.5': 19, '172.24.1.233': 20, '192.168.10.153': 21, '192.168.2.10': 22, '172.24.1.244': 23, '172.24.1.80':24, '192.168.2.199':25}\n",
    "\n",
    "mydata['Scr_IP'] = mydata['Scr_IP'].map(pmap)"
   ]
  },
  {
   "cell_type": "code",
   "execution_count": 45,
   "id": "072b1098-4732-4826-93ff-45e62b291a9f",
   "metadata": {},
   "outputs": [
    {
     "data": {
      "text/plain": [
       "192.168.2.10       312684\n",
       "172.24.1.1         296263\n",
       "192.168.2.199       42428\n",
       "127.0.0.1           41633\n",
       "131.236.3.92        31795\n",
       "129.94.0.197        31732\n",
       "192.168.10.150      28851\n",
       "224.0.0.252          8720\n",
       "10.0.1.5             6567\n",
       "172.24.1.199         5361\n",
       "224.0.0.251          2782\n",
       "239.255.255.250      2641\n",
       "172.24.1.255         1937\n",
       "157.240.8.18         1140\n",
       "161.69.36.37          961\n",
       "157.240.8.52          768\n",
       "192.168.10.255        559\n",
       "172.24.1.100          482\n",
       "192.168.2.255         469\n",
       "157.240.8.13          409\n",
       "216.58.199.66         240\n",
       "ff02::1:3             228\n",
       "172.217.25.36         142\n",
       "17.57.145.36          107\n",
       "ff02::fb              105\n",
       "Name: Des_IP, dtype: int64"
      ]
     },
     "execution_count": 45,
     "metadata": {},
     "output_type": "execute_result"
    }
   ],
   "source": [
    "mydata.Des_IP.value_counts().head(25)"
   ]
  },
  {
   "cell_type": "code",
   "execution_count": 46,
   "id": "3d92ef0a-f25a-4ccb-b365-c3b7fb8f81d2",
   "metadata": {},
   "outputs": [],
   "source": [
    "mydata['Des_IP'] = mydata['Des_IP'].map(pmap)"
   ]
  },
  {
   "cell_type": "code",
   "execution_count": 48,
   "id": "330c2450-246b-4ec5-8167-b1d653bc485e",
   "metadata": {},
   "outputs": [
    {
     "data": {
      "text/plain": [
       "22.0    312684\n",
       "8.0     296263\n",
       "25.0     42428\n",
       "17.0     41633\n",
       "3.0      28851\n",
       "19.0      6567\n",
       "12.0      5361\n",
       "11.0       482\n",
       "4.0         47\n",
       "14.0        23\n",
       "24.0         6\n",
       "9.0          3\n",
       "7.0          2\n",
       "13.0         1\n",
       "Name: Des_IP, dtype: int64"
      ]
     },
     "execution_count": 48,
     "metadata": {},
     "output_type": "execute_result"
    }
   ],
   "source": [
    "mydata.Des_IP.value_counts()"
   ]
  },
  {
   "cell_type": "code",
   "execution_count": 49,
   "id": "1430261d-b469-45c3-a6b5-0c8613cabd9f",
   "metadata": {},
   "outputs": [
    {
     "data": {
      "text/html": [
       "<div>\n",
       "<style scoped>\n",
       "    .dataframe tbody tr th:only-of-type {\n",
       "        vertical-align: middle;\n",
       "    }\n",
       "\n",
       "    .dataframe tbody tr th {\n",
       "        vertical-align: top;\n",
       "    }\n",
       "\n",
       "    .dataframe thead th {\n",
       "        text-align: right;\n",
       "    }\n",
       "</style>\n",
       "<table border=\"1\" class=\"dataframe\">\n",
       "  <thead>\n",
       "    <tr style=\"text-align: right;\">\n",
       "      <th></th>\n",
       "      <th>Timestamp</th>\n",
       "      <th>Scr_IP</th>\n",
       "      <th>Scr_port</th>\n",
       "      <th>Des_IP</th>\n",
       "      <th>Des_port</th>\n",
       "      <th>Protocol</th>\n",
       "      <th>Service</th>\n",
       "      <th>Duration</th>\n",
       "      <th>Scr_bytes</th>\n",
       "      <th>Des_bytes</th>\n",
       "      <th>...</th>\n",
       "      <th>total_bytes</th>\n",
       "      <th>total_packet</th>\n",
       "      <th>paket_rate</th>\n",
       "      <th>byte_rate</th>\n",
       "      <th>Scr_packts_ratio</th>\n",
       "      <th>Des_pkts_ratio</th>\n",
       "      <th>Scr_bytes_ratio</th>\n",
       "      <th>Des_bytes_ratio</th>\n",
       "      <th>OSSEC_alert</th>\n",
       "      <th>Login_attempt</th>\n",
       "    </tr>\n",
       "  </thead>\n",
       "  <tbody>\n",
       "    <tr>\n",
       "      <th>0</th>\n",
       "      <td>1578540956</td>\n",
       "      <td>25.0</td>\n",
       "      <td>49278</td>\n",
       "      <td>22.0</td>\n",
       "      <td>80</td>\n",
       "      <td>tcp</td>\n",
       "      <td>http</td>\n",
       "      <td>0.67369</td>\n",
       "      <td>13437</td>\n",
       "      <td>34924</td>\n",
       "      <td>...</td>\n",
       "      <td>107658</td>\n",
       "      <td>210</td>\n",
       "      <td>311.7160712</td>\n",
       "      <td>159803.4704</td>\n",
       "      <td>0.5</td>\n",
       "      <td>0.5</td>\n",
       "      <td>0.300414275</td>\n",
       "      <td>0.699585725</td>\n",
       "      <td>1</td>\n",
       "      <td>0</td>\n",
       "    </tr>\n",
       "    <tr>\n",
       "      <th>1</th>\n",
       "      <td>1578871873</td>\n",
       "      <td>19.0</td>\n",
       "      <td>39769</td>\n",
       "      <td>NaN</td>\n",
       "      <td>53</td>\n",
       "      <td>udp</td>\n",
       "      <td>dns</td>\n",
       "      <td>0.000083</td>\n",
       "      <td>78</td>\n",
       "      <td>0</td>\n",
       "      <td>...</td>\n",
       "      <td>212</td>\n",
       "      <td>2</td>\n",
       "      <td>24096.38554</td>\n",
       "      <td>2554216.867</td>\n",
       "      <td>1</td>\n",
       "      <td>0</td>\n",
       "      <td>1</td>\n",
       "      <td>0</td>\n",
       "      <td>0</td>\n",
       "      <td>0</td>\n",
       "    </tr>\n",
       "    <tr>\n",
       "      <th>2</th>\n",
       "      <td>1578522486</td>\n",
       "      <td>24.0</td>\n",
       "      <td>59050</td>\n",
       "      <td>8.0</td>\n",
       "      <td>53</td>\n",
       "      <td>udp</td>\n",
       "      <td>dns</td>\n",
       "      <td>0.000132</td>\n",
       "      <td>38</td>\n",
       "      <td>38</td>\n",
       "      <td>...</td>\n",
       "      <td>208</td>\n",
       "      <td>2</td>\n",
       "      <td>15151.51515</td>\n",
       "      <td>1575757.576</td>\n",
       "      <td>0.5</td>\n",
       "      <td>0.5</td>\n",
       "      <td>0.5</td>\n",
       "      <td>0.5</td>\n",
       "      <td>0</td>\n",
       "      <td>0</td>\n",
       "    </tr>\n",
       "    <tr>\n",
       "      <th>3</th>\n",
       "      <td>1582757640</td>\n",
       "      <td>14.0</td>\n",
       "      <td>37966</td>\n",
       "      <td>22.0</td>\n",
       "      <td>1880</td>\n",
       "      <td>tcp</td>\n",
       "      <td>websocket</td>\n",
       "      <td>9.378481</td>\n",
       "      <td>1121</td>\n",
       "      <td>484</td>\n",
       "      <td>...</td>\n",
       "      <td>3954</td>\n",
       "      <td>14</td>\n",
       "      <td>1.492779055</td>\n",
       "      <td>421.6034558</td>\n",
       "      <td>0.571428571</td>\n",
       "      <td>0.428571429</td>\n",
       "      <td>0.67425392</td>\n",
       "      <td>0.32574608</td>\n",
       "      <td>0</td>\n",
       "      <td>1</td>\n",
       "    </tr>\n",
       "    <tr>\n",
       "      <th>4</th>\n",
       "      <td>1576452612</td>\n",
       "      <td>24.0</td>\n",
       "      <td>38233</td>\n",
       "      <td>8.0</td>\n",
       "      <td>53</td>\n",
       "      <td>udp</td>\n",
       "      <td>dns</td>\n",
       "      <td>0.000074</td>\n",
       "      <td>-</td>\n",
       "      <td>-</td>\n",
       "      <td>...</td>\n",
       "      <td>-</td>\n",
       "      <td>-</td>\n",
       "      <td>-</td>\n",
       "      <td>-</td>\n",
       "      <td>-</td>\n",
       "      <td>-</td>\n",
       "      <td>-</td>\n",
       "      <td>-</td>\n",
       "      <td>0</td>\n",
       "      <td>0</td>\n",
       "    </tr>\n",
       "    <tr>\n",
       "      <th>...</th>\n",
       "      <td>...</td>\n",
       "      <td>...</td>\n",
       "      <td>...</td>\n",
       "      <td>...</td>\n",
       "      <td>...</td>\n",
       "      <td>...</td>\n",
       "      <td>...</td>\n",
       "      <td>...</td>\n",
       "      <td>...</td>\n",
       "      <td>...</td>\n",
       "      <td>...</td>\n",
       "      <td>...</td>\n",
       "      <td>...</td>\n",
       "      <td>...</td>\n",
       "      <td>...</td>\n",
       "      <td>...</td>\n",
       "      <td>...</td>\n",
       "      <td>...</td>\n",
       "      <td>...</td>\n",
       "      <td>...</td>\n",
       "      <td>...</td>\n",
       "    </tr>\n",
       "    <tr>\n",
       "      <th>820829</th>\n",
       "      <td>1578374008</td>\n",
       "      <td>25.0</td>\n",
       "      <td>50886</td>\n",
       "      <td>22.0</td>\n",
       "      <td>22</td>\n",
       "      <td>tcp</td>\n",
       "      <td>ssh</td>\n",
       "      <td>-</td>\n",
       "      <td>-</td>\n",
       "      <td>-</td>\n",
       "      <td>...</td>\n",
       "      <td>-</td>\n",
       "      <td>1</td>\n",
       "      <td>-</td>\n",
       "      <td>-</td>\n",
       "      <td>1</td>\n",
       "      <td>0</td>\n",
       "      <td>-</td>\n",
       "      <td>-</td>\n",
       "      <td>0</td>\n",
       "      <td>0</td>\n",
       "    </tr>\n",
       "    <tr>\n",
       "      <th>820830</th>\n",
       "      <td>1579653575</td>\n",
       "      <td>24.0</td>\n",
       "      <td>45913</td>\n",
       "      <td>8.0</td>\n",
       "      <td>1880</td>\n",
       "      <td>tcp</td>\n",
       "      <td>websocket</td>\n",
       "      <td>63.290477</td>\n",
       "      <td>0</td>\n",
       "      <td>0</td>\n",
       "      <td>...</td>\n",
       "      <td>380</td>\n",
       "      <td>7</td>\n",
       "      <td>0.110601157</td>\n",
       "      <td>6.004062823</td>\n",
       "      <td>0.571428571</td>\n",
       "      <td>0.428571429</td>\n",
       "      <td>0.568421053</td>\n",
       "      <td>0.431578947</td>\n",
       "      <td>0</td>\n",
       "      <td>0</td>\n",
       "    </tr>\n",
       "    <tr>\n",
       "      <th>820831</th>\n",
       "      <td>1579064398</td>\n",
       "      <td>21.0</td>\n",
       "      <td>53252</td>\n",
       "      <td>22.0</td>\n",
       "      <td>80</td>\n",
       "      <td>tcp</td>\n",
       "      <td>http</td>\n",
       "      <td>14.787547</td>\n",
       "      <td>26091</td>\n",
       "      <td>604398</td>\n",
       "      <td>...</td>\n",
       "      <td>1292591</td>\n",
       "      <td>784</td>\n",
       "      <td>53.01758297</td>\n",
       "      <td>87410.77881</td>\n",
       "      <td>0.343112245</td>\n",
       "      <td>0.656887755</td>\n",
       "      <td>0.048713011</td>\n",
       "      <td>0.951286989</td>\n",
       "      <td>0</td>\n",
       "      <td>0</td>\n",
       "    </tr>\n",
       "    <tr>\n",
       "      <th>820832</th>\n",
       "      <td>1578374864</td>\n",
       "      <td>25.0</td>\n",
       "      <td>44451</td>\n",
       "      <td>22.0</td>\n",
       "      <td>19315</td>\n",
       "      <td>tcp</td>\n",
       "      <td>other</td>\n",
       "      <td>0.000011</td>\n",
       "      <td>0</td>\n",
       "      <td>0</td>\n",
       "      <td>...</td>\n",
       "      <td>84</td>\n",
       "      <td>2</td>\n",
       "      <td>181818.1818</td>\n",
       "      <td>7636363.636</td>\n",
       "      <td>0.5</td>\n",
       "      <td>0.5</td>\n",
       "      <td>0.523809524</td>\n",
       "      <td>0.476190476</td>\n",
       "      <td>0</td>\n",
       "      <td>0</td>\n",
       "    </tr>\n",
       "    <tr>\n",
       "      <th>820833</th>\n",
       "      <td>1576459118</td>\n",
       "      <td>19.0</td>\n",
       "      <td>33903</td>\n",
       "      <td>NaN</td>\n",
       "      <td>53</td>\n",
       "      <td>udp</td>\n",
       "      <td>dns</td>\n",
       "      <td>0.000004</td>\n",
       "      <td>108</td>\n",
       "      <td>0</td>\n",
       "      <td>...</td>\n",
       "      <td>272</td>\n",
       "      <td>2</td>\n",
       "      <td>500000</td>\n",
       "      <td>68000000</td>\n",
       "      <td>1</td>\n",
       "      <td>0</td>\n",
       "      <td>1</td>\n",
       "      <td>0</td>\n",
       "      <td>0</td>\n",
       "      <td>0</td>\n",
       "    </tr>\n",
       "  </tbody>\n",
       "</table>\n",
       "<p>820680 rows × 30 columns</p>\n",
       "</div>"
      ],
      "text/plain": [
       "         Timestamp  Scr_IP Scr_port  Des_IP Des_port Protocol    Service  \\\n",
       "0       1578540956    25.0    49278    22.0       80      tcp       http   \n",
       "1       1578871873    19.0    39769     NaN       53      udp        dns   \n",
       "2       1578522486    24.0    59050     8.0       53      udp        dns   \n",
       "3       1582757640    14.0    37966    22.0     1880      tcp  websocket   \n",
       "4       1576452612    24.0    38233     8.0       53      udp        dns   \n",
       "...            ...     ...      ...     ...      ...      ...        ...   \n",
       "820829  1578374008    25.0    50886    22.0       22      tcp        ssh   \n",
       "820830  1579653575    24.0    45913     8.0     1880      tcp  websocket   \n",
       "820831  1579064398    21.0    53252    22.0       80      tcp       http   \n",
       "820832  1578374864    25.0    44451    22.0    19315      tcp      other   \n",
       "820833  1576459118    19.0    33903     NaN       53      udp        dns   \n",
       "\n",
       "         Duration Scr_bytes Des_bytes  ...  total_bytes total_packet  \\\n",
       "0         0.67369     13437     34924  ...       107658          210   \n",
       "1        0.000083        78         0  ...          212            2   \n",
       "2        0.000132        38        38  ...          208            2   \n",
       "3        9.378481      1121       484  ...         3954           14   \n",
       "4        0.000074         -         -  ...            -            -   \n",
       "...           ...       ...       ...  ...          ...          ...   \n",
       "820829          -         -         -  ...            -            1   \n",
       "820830  63.290477         0         0  ...          380            7   \n",
       "820831  14.787547     26091    604398  ...      1292591          784   \n",
       "820832   0.000011         0         0  ...           84            2   \n",
       "820833   0.000004       108         0  ...          272            2   \n",
       "\n",
       "         paket_rate    byte_rate  Scr_packts_ratio Des_pkts_ratio  \\\n",
       "0       311.7160712  159803.4704               0.5            0.5   \n",
       "1       24096.38554  2554216.867                 1              0   \n",
       "2       15151.51515  1575757.576               0.5            0.5   \n",
       "3       1.492779055  421.6034558       0.571428571    0.428571429   \n",
       "4                 -            -                 -              -   \n",
       "...             ...          ...               ...            ...   \n",
       "820829            -            -                 1              0   \n",
       "820830  0.110601157  6.004062823       0.571428571    0.428571429   \n",
       "820831  53.01758297  87410.77881       0.343112245    0.656887755   \n",
       "820832  181818.1818  7636363.636               0.5            0.5   \n",
       "820833       500000     68000000                 1              0   \n",
       "\n",
       "       Scr_bytes_ratio Des_bytes_ratio OSSEC_alert Login_attempt  \n",
       "0          0.300414275     0.699585725           1             0  \n",
       "1                    1               0           0             0  \n",
       "2                  0.5             0.5           0             0  \n",
       "3           0.67425392      0.32574608           0             1  \n",
       "4                    -               -           0             0  \n",
       "...                ...             ...         ...           ...  \n",
       "820829               -               -           0             0  \n",
       "820830     0.568421053     0.431578947           0             0  \n",
       "820831     0.048713011     0.951286989           0             0  \n",
       "820832     0.523809524     0.476190476           0             0  \n",
       "820833               1               0           0             0  \n",
       "\n",
       "[820680 rows x 30 columns]"
      ]
     },
     "execution_count": 49,
     "metadata": {},
     "output_type": "execute_result"
    }
   ],
   "source": [
    "mydata"
   ]
  },
  {
   "cell_type": "code",
   "execution_count": 50,
   "id": "b33157fd-19d9-459b-9c3d-959138824301",
   "metadata": {},
   "outputs": [],
   "source": [
    "mydata2 = mydata.copy()"
   ]
  },
  {
   "cell_type": "code",
   "execution_count": 56,
   "id": "213d3b13-d744-489f-9009-41cb88772fe2",
   "metadata": {},
   "outputs": [],
   "source": [
    "mydata3 = mydata2.copy()"
   ]
  },
  {
   "cell_type": "code",
   "execution_count": 58,
   "id": "125f0b88-3172-45e2-b40f-2b763c182409",
   "metadata": {},
   "outputs": [],
   "source": [
    "mydata2['Des_IP'] = mydata['Des_IP']"
   ]
  },
  {
   "cell_type": "code",
   "execution_count": 59,
   "id": "9ccdeb6f-0ad5-4515-8a5c-df0758ba6a99",
   "metadata": {},
   "outputs": [
    {
     "data": {
      "text/html": [
       "<div>\n",
       "<style scoped>\n",
       "    .dataframe tbody tr th:only-of-type {\n",
       "        vertical-align: middle;\n",
       "    }\n",
       "\n",
       "    .dataframe tbody tr th {\n",
       "        vertical-align: top;\n",
       "    }\n",
       "\n",
       "    .dataframe thead th {\n",
       "        text-align: right;\n",
       "    }\n",
       "</style>\n",
       "<table border=\"1\" class=\"dataframe\">\n",
       "  <thead>\n",
       "    <tr style=\"text-align: right;\">\n",
       "      <th></th>\n",
       "      <th>Timestamp</th>\n",
       "      <th>Scr_IP</th>\n",
       "      <th>Scr_port</th>\n",
       "      <th>Des_IP</th>\n",
       "      <th>Des_port</th>\n",
       "      <th>Protocol</th>\n",
       "      <th>Service</th>\n",
       "      <th>Duration</th>\n",
       "      <th>Scr_bytes</th>\n",
       "      <th>Des_bytes</th>\n",
       "      <th>...</th>\n",
       "      <th>total_bytes</th>\n",
       "      <th>total_packet</th>\n",
       "      <th>paket_rate</th>\n",
       "      <th>byte_rate</th>\n",
       "      <th>Scr_packts_ratio</th>\n",
       "      <th>Des_pkts_ratio</th>\n",
       "      <th>Scr_bytes_ratio</th>\n",
       "      <th>Des_bytes_ratio</th>\n",
       "      <th>OSSEC_alert</th>\n",
       "      <th>Login_attempt</th>\n",
       "    </tr>\n",
       "  </thead>\n",
       "  <tbody>\n",
       "    <tr>\n",
       "      <th>0</th>\n",
       "      <td>1578540956</td>\n",
       "      <td>192.168.2.199</td>\n",
       "      <td>49278</td>\n",
       "      <td>192.168.2.10</td>\n",
       "      <td>80</td>\n",
       "      <td>tcp</td>\n",
       "      <td>http</td>\n",
       "      <td>0.67369</td>\n",
       "      <td>13437</td>\n",
       "      <td>34924</td>\n",
       "      <td>...</td>\n",
       "      <td>107658</td>\n",
       "      <td>210</td>\n",
       "      <td>311.7160712</td>\n",
       "      <td>159803.4704</td>\n",
       "      <td>0.5</td>\n",
       "      <td>0.5</td>\n",
       "      <td>0.300414275</td>\n",
       "      <td>0.699585725</td>\n",
       "      <td>1</td>\n",
       "      <td>0</td>\n",
       "    </tr>\n",
       "    <tr>\n",
       "      <th>1</th>\n",
       "      <td>1578871873</td>\n",
       "      <td>10.0.1.5</td>\n",
       "      <td>39769</td>\n",
       "      <td>131.236.3.92</td>\n",
       "      <td>53</td>\n",
       "      <td>udp</td>\n",
       "      <td>dns</td>\n",
       "      <td>0.000083</td>\n",
       "      <td>78</td>\n",
       "      <td>0</td>\n",
       "      <td>...</td>\n",
       "      <td>212</td>\n",
       "      <td>2</td>\n",
       "      <td>24096.38554</td>\n",
       "      <td>2554216.867</td>\n",
       "      <td>1</td>\n",
       "      <td>0</td>\n",
       "      <td>1</td>\n",
       "      <td>0</td>\n",
       "      <td>0</td>\n",
       "      <td>0</td>\n",
       "    </tr>\n",
       "    <tr>\n",
       "      <th>2</th>\n",
       "      <td>1578522486</td>\n",
       "      <td>172.24.1.80</td>\n",
       "      <td>59050</td>\n",
       "      <td>172.24.1.1</td>\n",
       "      <td>53</td>\n",
       "      <td>udp</td>\n",
       "      <td>dns</td>\n",
       "      <td>0.000132</td>\n",
       "      <td>38</td>\n",
       "      <td>38</td>\n",
       "      <td>...</td>\n",
       "      <td>208</td>\n",
       "      <td>2</td>\n",
       "      <td>15151.51515</td>\n",
       "      <td>1575757.576</td>\n",
       "      <td>0.5</td>\n",
       "      <td>0.5</td>\n",
       "      <td>0.5</td>\n",
       "      <td>0.5</td>\n",
       "      <td>0</td>\n",
       "      <td>0</td>\n",
       "    </tr>\n",
       "    <tr>\n",
       "      <th>3</th>\n",
       "      <td>1582757640</td>\n",
       "      <td>192.168.2.196</td>\n",
       "      <td>37966</td>\n",
       "      <td>192.168.2.10</td>\n",
       "      <td>1880</td>\n",
       "      <td>tcp</td>\n",
       "      <td>websocket</td>\n",
       "      <td>9.378481</td>\n",
       "      <td>1121</td>\n",
       "      <td>484</td>\n",
       "      <td>...</td>\n",
       "      <td>3954</td>\n",
       "      <td>14</td>\n",
       "      <td>1.492779055</td>\n",
       "      <td>421.6034558</td>\n",
       "      <td>0.571428571</td>\n",
       "      <td>0.428571429</td>\n",
       "      <td>0.67425392</td>\n",
       "      <td>0.32574608</td>\n",
       "      <td>0</td>\n",
       "      <td>1</td>\n",
       "    </tr>\n",
       "    <tr>\n",
       "      <th>4</th>\n",
       "      <td>1576452612</td>\n",
       "      <td>172.24.1.80</td>\n",
       "      <td>38233</td>\n",
       "      <td>172.24.1.1</td>\n",
       "      <td>53</td>\n",
       "      <td>udp</td>\n",
       "      <td>dns</td>\n",
       "      <td>0.000074</td>\n",
       "      <td>-</td>\n",
       "      <td>-</td>\n",
       "      <td>...</td>\n",
       "      <td>-</td>\n",
       "      <td>-</td>\n",
       "      <td>-</td>\n",
       "      <td>-</td>\n",
       "      <td>-</td>\n",
       "      <td>-</td>\n",
       "      <td>-</td>\n",
       "      <td>-</td>\n",
       "      <td>0</td>\n",
       "      <td>0</td>\n",
       "    </tr>\n",
       "    <tr>\n",
       "      <th>...</th>\n",
       "      <td>...</td>\n",
       "      <td>...</td>\n",
       "      <td>...</td>\n",
       "      <td>...</td>\n",
       "      <td>...</td>\n",
       "      <td>...</td>\n",
       "      <td>...</td>\n",
       "      <td>...</td>\n",
       "      <td>...</td>\n",
       "      <td>...</td>\n",
       "      <td>...</td>\n",
       "      <td>...</td>\n",
       "      <td>...</td>\n",
       "      <td>...</td>\n",
       "      <td>...</td>\n",
       "      <td>...</td>\n",
       "      <td>...</td>\n",
       "      <td>...</td>\n",
       "      <td>...</td>\n",
       "      <td>...</td>\n",
       "      <td>...</td>\n",
       "    </tr>\n",
       "    <tr>\n",
       "      <th>820829</th>\n",
       "      <td>1578374008</td>\n",
       "      <td>192.168.2.199</td>\n",
       "      <td>50886</td>\n",
       "      <td>192.168.2.10</td>\n",
       "      <td>22</td>\n",
       "      <td>tcp</td>\n",
       "      <td>ssh</td>\n",
       "      <td>-</td>\n",
       "      <td>-</td>\n",
       "      <td>-</td>\n",
       "      <td>...</td>\n",
       "      <td>-</td>\n",
       "      <td>1</td>\n",
       "      <td>-</td>\n",
       "      <td>-</td>\n",
       "      <td>1</td>\n",
       "      <td>0</td>\n",
       "      <td>-</td>\n",
       "      <td>-</td>\n",
       "      <td>0</td>\n",
       "      <td>0</td>\n",
       "    </tr>\n",
       "    <tr>\n",
       "      <th>820830</th>\n",
       "      <td>1579653575</td>\n",
       "      <td>172.24.1.80</td>\n",
       "      <td>45913</td>\n",
       "      <td>172.24.1.1</td>\n",
       "      <td>1880</td>\n",
       "      <td>tcp</td>\n",
       "      <td>websocket</td>\n",
       "      <td>63.290477</td>\n",
       "      <td>0</td>\n",
       "      <td>0</td>\n",
       "      <td>...</td>\n",
       "      <td>380</td>\n",
       "      <td>7</td>\n",
       "      <td>0.110601157</td>\n",
       "      <td>6.004062823</td>\n",
       "      <td>0.571428571</td>\n",
       "      <td>0.428571429</td>\n",
       "      <td>0.568421053</td>\n",
       "      <td>0.431578947</td>\n",
       "      <td>0</td>\n",
       "      <td>0</td>\n",
       "    </tr>\n",
       "    <tr>\n",
       "      <th>820831</th>\n",
       "      <td>1579064398</td>\n",
       "      <td>192.168.10.153</td>\n",
       "      <td>53252</td>\n",
       "      <td>192.168.2.10</td>\n",
       "      <td>80</td>\n",
       "      <td>tcp</td>\n",
       "      <td>http</td>\n",
       "      <td>14.787547</td>\n",
       "      <td>26091</td>\n",
       "      <td>604398</td>\n",
       "      <td>...</td>\n",
       "      <td>1292591</td>\n",
       "      <td>784</td>\n",
       "      <td>53.01758297</td>\n",
       "      <td>87410.77881</td>\n",
       "      <td>0.343112245</td>\n",
       "      <td>0.656887755</td>\n",
       "      <td>0.048713011</td>\n",
       "      <td>0.951286989</td>\n",
       "      <td>0</td>\n",
       "      <td>0</td>\n",
       "    </tr>\n",
       "    <tr>\n",
       "      <th>820832</th>\n",
       "      <td>1578374864</td>\n",
       "      <td>192.168.2.199</td>\n",
       "      <td>44451</td>\n",
       "      <td>192.168.2.10</td>\n",
       "      <td>19315</td>\n",
       "      <td>tcp</td>\n",
       "      <td>other</td>\n",
       "      <td>0.000011</td>\n",
       "      <td>0</td>\n",
       "      <td>0</td>\n",
       "      <td>...</td>\n",
       "      <td>84</td>\n",
       "      <td>2</td>\n",
       "      <td>181818.1818</td>\n",
       "      <td>7636363.636</td>\n",
       "      <td>0.5</td>\n",
       "      <td>0.5</td>\n",
       "      <td>0.523809524</td>\n",
       "      <td>0.476190476</td>\n",
       "      <td>0</td>\n",
       "      <td>0</td>\n",
       "    </tr>\n",
       "    <tr>\n",
       "      <th>820833</th>\n",
       "      <td>1576459118</td>\n",
       "      <td>10.0.1.5</td>\n",
       "      <td>33903</td>\n",
       "      <td>131.236.3.92</td>\n",
       "      <td>53</td>\n",
       "      <td>udp</td>\n",
       "      <td>dns</td>\n",
       "      <td>0.000004</td>\n",
       "      <td>108</td>\n",
       "      <td>0</td>\n",
       "      <td>...</td>\n",
       "      <td>272</td>\n",
       "      <td>2</td>\n",
       "      <td>500000</td>\n",
       "      <td>68000000</td>\n",
       "      <td>1</td>\n",
       "      <td>0</td>\n",
       "      <td>1</td>\n",
       "      <td>0</td>\n",
       "      <td>0</td>\n",
       "      <td>0</td>\n",
       "    </tr>\n",
       "  </tbody>\n",
       "</table>\n",
       "<p>820680 rows × 30 columns</p>\n",
       "</div>"
      ],
      "text/plain": [
       "         Timestamp          Scr_IP Scr_port        Des_IP Des_port Protocol  \\\n",
       "0       1578540956   192.168.2.199    49278  192.168.2.10       80      tcp   \n",
       "1       1578871873        10.0.1.5    39769  131.236.3.92       53      udp   \n",
       "2       1578522486     172.24.1.80    59050    172.24.1.1       53      udp   \n",
       "3       1582757640   192.168.2.196    37966  192.168.2.10     1880      tcp   \n",
       "4       1576452612     172.24.1.80    38233    172.24.1.1       53      udp   \n",
       "...            ...             ...      ...           ...      ...      ...   \n",
       "820829  1578374008   192.168.2.199    50886  192.168.2.10       22      tcp   \n",
       "820830  1579653575     172.24.1.80    45913    172.24.1.1     1880      tcp   \n",
       "820831  1579064398  192.168.10.153    53252  192.168.2.10       80      tcp   \n",
       "820832  1578374864   192.168.2.199    44451  192.168.2.10    19315      tcp   \n",
       "820833  1576459118        10.0.1.5    33903  131.236.3.92       53      udp   \n",
       "\n",
       "          Service   Duration Scr_bytes Des_bytes  ...  total_bytes  \\\n",
       "0            http    0.67369     13437     34924  ...       107658   \n",
       "1             dns   0.000083        78         0  ...          212   \n",
       "2             dns   0.000132        38        38  ...          208   \n",
       "3       websocket   9.378481      1121       484  ...         3954   \n",
       "4             dns   0.000074         -         -  ...            -   \n",
       "...           ...        ...       ...       ...  ...          ...   \n",
       "820829        ssh          -         -         -  ...            -   \n",
       "820830  websocket  63.290477         0         0  ...          380   \n",
       "820831       http  14.787547     26091    604398  ...      1292591   \n",
       "820832      other   0.000011         0         0  ...           84   \n",
       "820833        dns   0.000004       108         0  ...          272   \n",
       "\n",
       "       total_packet   paket_rate    byte_rate  Scr_packts_ratio  \\\n",
       "0               210  311.7160712  159803.4704               0.5   \n",
       "1                 2  24096.38554  2554216.867                 1   \n",
       "2                 2  15151.51515  1575757.576               0.5   \n",
       "3                14  1.492779055  421.6034558       0.571428571   \n",
       "4                 -            -            -                 -   \n",
       "...             ...          ...          ...               ...   \n",
       "820829            1            -            -                 1   \n",
       "820830            7  0.110601157  6.004062823       0.571428571   \n",
       "820831          784  53.01758297  87410.77881       0.343112245   \n",
       "820832            2  181818.1818  7636363.636               0.5   \n",
       "820833            2       500000     68000000                 1   \n",
       "\n",
       "       Des_pkts_ratio Scr_bytes_ratio Des_bytes_ratio OSSEC_alert  \\\n",
       "0                 0.5     0.300414275     0.699585725           1   \n",
       "1                   0               1               0           0   \n",
       "2                 0.5             0.5             0.5           0   \n",
       "3         0.428571429      0.67425392      0.32574608           0   \n",
       "4                   -               -               -           0   \n",
       "...               ...             ...             ...         ...   \n",
       "820829              0               -               -           0   \n",
       "820830    0.428571429     0.568421053     0.431578947           0   \n",
       "820831    0.656887755     0.048713011     0.951286989           0   \n",
       "820832            0.5     0.523809524     0.476190476           0   \n",
       "820833              0               1               0           0   \n",
       "\n",
       "       Login_attempt  \n",
       "0                  0  \n",
       "1                  0  \n",
       "2                  0  \n",
       "3                  1  \n",
       "4                  0  \n",
       "...              ...  \n",
       "820829             0  \n",
       "820830             0  \n",
       "820831             0  \n",
       "820832             0  \n",
       "820833             0  \n",
       "\n",
       "[820680 rows x 30 columns]"
      ]
     },
     "execution_count": 59,
     "metadata": {},
     "output_type": "execute_result"
    }
   ],
   "source": [
    "mydata2"
   ]
  },
  {
   "cell_type": "code",
   "execution_count": 60,
   "id": "9d7ca194-29d9-4fda-9eb7-1a69e18a236d",
   "metadata": {},
   "outputs": [],
   "source": [
    "mydata = mydata2.copy()"
   ]
  },
  {
   "cell_type": "code",
   "execution_count": 61,
   "id": "cd0b9083-f57c-4a2e-b1a4-52e9f88948e9",
   "metadata": {},
   "outputs": [
    {
     "data": {
      "text/plain": [
       "tcp     422334\n",
       "udp     395620\n",
       "icmp      2726\n",
       "Name: Protocol, dtype: int64"
      ]
     },
     "execution_count": 61,
     "metadata": {},
     "output_type": "execute_result"
    }
   ],
   "source": [
    "mydata.Protocol.value_counts()"
   ]
  },
  {
   "cell_type": "code",
   "execution_count": 64,
   "id": "372ebe93-4fd7-40ba-9cbf-fcbdb70a7c5a",
   "metadata": {},
   "outputs": [],
   "source": [
    "pmap = {'icmp': 1, 'udp':2, 'tcp':3}\n",
    "\n",
    "mydata['Protocol'] = mydata['Protocol'].map(pmap)"
   ]
  },
  {
   "cell_type": "code",
   "execution_count": 68,
   "id": "cc1aee1a-0e75-475f-9454-08afe5505004",
   "metadata": {},
   "outputs": [
    {
     "data": {
      "text/plain": [
       "3    422334\n",
       "2    395620\n",
       "1      2726\n",
       "Name: Protocol, dtype: int64"
      ]
     },
     "execution_count": 68,
     "metadata": {},
     "output_type": "execute_result"
    }
   ],
   "source": [
    "mydata.Protocol.value_counts()"
   ]
  },
  {
   "cell_type": "code",
   "execution_count": 66,
   "id": "8e3a792a-7542-42ea-8629-be74c0b3938d",
   "metadata": {},
   "outputs": [],
   "source": [
    "mydata.drop('Protocl', axis=1, inplace=True)"
   ]
  },
  {
   "cell_type": "code",
   "execution_count": 67,
   "id": "7083eb84-0be4-4108-806c-494e104b437f",
   "metadata": {},
   "outputs": [
    {
     "data": {
      "text/plain": [
       "http                        237738\n",
       "dns                         222713\n",
       "coap                        167236\n",
       "other                        83545\n",
       "websocket                    58462\n",
       "mqtt                         17121\n",
       "https                         9517\n",
       "modbus                        6525\n",
       "smtp                          5322\n",
       "ssh                           5040\n",
       "private                       3607\n",
       "simple_service_discovery      1645\n",
       "netbios-ns                    1256\n",
       "echo                           642\n",
       "imap                           165\n",
       "dhcp                            91\n",
       "mysql                           55\n",
       "Name: Service, dtype: int64"
      ]
     },
     "execution_count": 67,
     "metadata": {},
     "output_type": "execute_result"
    }
   ],
   "source": [
    "mydata.Service.value_counts()"
   ]
  },
  {
   "cell_type": "code",
   "execution_count": 70,
   "id": "c666d2ac-8de8-483e-a7ce-63ab3c72cbf9",
   "metadata": {},
   "outputs": [],
   "source": [
    "pmap = {'mysql': 1, 'dhcp':2, 'imap':3, 'echo':4, 'netbios-ns':5, 'simple_service_discovery':6, 'private':7, 'ssh':8, 'smtp':9, 'modbus':10, 'https':11, 'mqtt':12, 'websocket ':13, 'other':14, 'coap':15, 'dns':16, 'http':17}\n",
    "\n",
    "mydata['Service'] = mydata['Service'].map(pmap)"
   ]
  },
  {
   "cell_type": "code",
   "execution_count": 74,
   "id": "e0e96936-5d2c-4917-ae96-4caa94f53771",
   "metadata": {},
   "outputs": [
    {
     "data": {
      "text/plain": [
       "17.0    237738\n",
       "16.0    222713\n",
       "15.0    167236\n",
       "14.0     83545\n",
       "13.0     58462\n",
       "12.0     17121\n",
       "11.0      9517\n",
       "10.0      6525\n",
       "9.0       5322\n",
       "8.0       5040\n",
       "7.0       3607\n",
       "6.0       1645\n",
       "5.0       1256\n",
       "4.0        642\n",
       "3.0        165\n",
       "2.0         91\n",
       "1.0         55\n",
       "Name: Service, dtype: int64"
      ]
     },
     "execution_count": 74,
     "metadata": {},
     "output_type": "execute_result"
    }
   ],
   "source": [
    "mydata.Service.value_counts()"
   ]
  },
  {
   "cell_type": "code",
   "execution_count": 73,
   "id": "afad4b27-b2df-4ac2-a455-1b3af59ec02f",
   "metadata": {},
   "outputs": [],
   "source": [
    "mydata['Service'].fillna(13.0, inplace = True)"
   ]
  },
  {
   "cell_type": "code",
   "execution_count": 76,
   "id": "9d24fa98-05d5-4388-968b-0af5251119b3",
   "metadata": {},
   "outputs": [
    {
     "data": {
      "image/png": "[encoded data removed]",
      "text/plain": [
       "<Figure size 640x480 with 1 Axes>"
      ]
     },
     "metadata": {},
     "output_type": "display_data"
    }
   ],
   "source": [
    "bar_graph('Scr_IP')"
   ]
  },
  {
   "cell_type": "code",
   "execution_count": 78,
   "id": "d1dc0755-bb1e-461f-b7a4-6fe01bdf4fe6",
   "metadata": {},
   "outputs": [
    {
     "data": {
      "text/plain": [
       "192.168.2.10       312684\n",
       "172.24.1.1         296263\n",
       "192.168.2.199       42428\n",
       "127.0.0.1           41633\n",
       "131.236.3.92        31795\n",
       "129.94.0.197        31732\n",
       "192.168.10.150      28851\n",
       "224.0.0.252          8720\n",
       "10.0.1.5             6567\n",
       "172.24.1.199         5361\n",
       "224.0.0.251          2782\n",
       "239.255.255.250      2641\n",
       "172.24.1.255         1937\n",
       "157.240.8.18         1140\n",
       "161.69.36.37          961\n",
       "157.240.8.52          768\n",
       "192.168.10.255        559\n",
       "172.24.1.100          482\n",
       "192.168.2.255         469\n",
       "157.240.8.13          409\n",
       "216.58.199.66         240\n",
       "ff02::1:3             228\n",
       "172.217.25.36         142\n",
       "17.57.145.36          107\n",
       "ff02::fb              105\n",
       "Name: Des_IP, dtype: int64"
      ]
     },
     "execution_count": 78,
     "metadata": {},
     "output_type": "execute_result"
    }
   ],
   "source": [
    "mydata.Des_IP.value_counts().head(25)"
   ]
  },
  {
   "cell_type": "code",
   "execution_count": 79,
   "id": "7b090bf9-af5a-43ff-a832-b3558a4744e2",
   "metadata": {},
   "outputs": [
    {
     "data": {
      "text/plain": [
       "Timestamp             int32\n",
       "Scr_IP               object\n",
       "Scr_port             object\n",
       "Des_IP               object\n",
       "Des_port             object\n",
       "Protocol              int64\n",
       "Service             float64\n",
       "Duration             object\n",
       "Scr_bytes            object\n",
       "Des_bytes            object\n",
       "Conn_state            int64\n",
       "missed_bytes         object\n",
       "is_syn_only           int64\n",
       "Is_SYN_ACK            int64\n",
       "is_with_payload       int64\n",
       "Scr_pkts             object\n",
       "Scr_ip_bytes         object\n",
       "Des_pkts             object\n",
       "Des_ip_bytes         object\n",
       "anomaly_alert        object\n",
       "total_bytes          object\n",
       "total_packet         object\n",
       "paket_rate           object\n",
       "byte_rate            object\n",
       "Scr_packts_ratio     object\n",
       "Des_pkts_ratio       object\n",
       "Scr_bytes_ratio      object\n",
       "Des_bytes_ratio      object\n",
       "OSSEC_alert           int64\n",
       "Login_attempt         int64\n",
       "dtype: object"
      ]
     },
     "execution_count": 79,
     "metadata": {},
     "output_type": "execute_result"
    }
   ],
   "source": [
    "mydata.dtypes"
   ]
  },
  {
   "cell_type": "code",
   "execution_count": 80,
   "id": "40bb55e5-54f7-487b-a7f4-8ab41644d08f",
   "metadata": {},
   "outputs": [
    {
     "data": {
      "text/plain": [
       "-            75607\n",
       "0.000006      8056\n",
       "0.000011      6613\n",
       "0.000007      6010\n",
       "0.000005      5769\n",
       "             ...  \n",
       "15.092621        1\n",
       "4.610577         1\n",
       "0.032506         1\n",
       "0.68486          1\n",
       "14.787547        1\n",
       "Name: Duration, Length: 330207, dtype: int64"
      ]
     },
     "execution_count": 80,
     "metadata": {},
     "output_type": "execute_result"
    }
   ],
   "source": [
    "mydata.Duration.value_counts()"
   ]
  },
  {
   "cell_type": "code",
   "execution_count": 84,
   "id": "22ff359d-fb32-472a-ac9f-0c0e403b2913",
   "metadata": {},
   "outputs": [
    {
     "data": {
      "text/html": [
       "<div>\n",
       "<style scoped>\n",
       "    .dataframe tbody tr th:only-of-type {\n",
       "        vertical-align: middle;\n",
       "    }\n",
       "\n",
       "    .dataframe tbody tr th {\n",
       "        vertical-align: top;\n",
       "    }\n",
       "\n",
       "    .dataframe thead th {\n",
       "        text-align: right;\n",
       "    }\n",
       "</style>\n",
       "<table border=\"1\" class=\"dataframe\">\n",
       "  <thead>\n",
       "    <tr style=\"text-align: right;\">\n",
       "      <th></th>\n",
       "      <th>Scr_bytes</th>\n",
       "      <th>Des_bytes</th>\n",
       "      <th>is_syn_only</th>\n",
       "      <th>Scr_pkts</th>\n",
       "      <th>Scr_ip_bytes</th>\n",
       "      <th>Des_pkts</th>\n",
       "      <th>Des_ip_bytes</th>\n",
       "      <th>total_bytes</th>\n",
       "      <th>total_packet</th>\n",
       "    </tr>\n",
       "  </thead>\n",
       "  <tbody>\n",
       "    <tr>\n",
       "      <th>4</th>\n",
       "      <td>-</td>\n",
       "      <td>-</td>\n",
       "      <td>0</td>\n",
       "      <td>-</td>\n",
       "      <td>-</td>\n",
       "      <td>-</td>\n",
       "      <td>-</td>\n",
       "      <td>-</td>\n",
       "      <td>-</td>\n",
       "    </tr>\n",
       "    <tr>\n",
       "      <th>11</th>\n",
       "      <td>-</td>\n",
       "      <td>-</td>\n",
       "      <td>1</td>\n",
       "      <td>-</td>\n",
       "      <td>-</td>\n",
       "      <td>-</td>\n",
       "      <td>-</td>\n",
       "      <td>-</td>\n",
       "      <td>-</td>\n",
       "    </tr>\n",
       "    <tr>\n",
       "      <th>17</th>\n",
       "      <td>-</td>\n",
       "      <td>-</td>\n",
       "      <td>0</td>\n",
       "      <td>-</td>\n",
       "      <td>-</td>\n",
       "      <td>-</td>\n",
       "      <td>-</td>\n",
       "      <td>-</td>\n",
       "      <td>-</td>\n",
       "    </tr>\n",
       "    <tr>\n",
       "      <th>20</th>\n",
       "      <td>-</td>\n",
       "      <td>-</td>\n",
       "      <td>1</td>\n",
       "      <td>-</td>\n",
       "      <td>-</td>\n",
       "      <td>-</td>\n",
       "      <td>-</td>\n",
       "      <td>-</td>\n",
       "      <td>-</td>\n",
       "    </tr>\n",
       "    <tr>\n",
       "      <th>21</th>\n",
       "      <td>-</td>\n",
       "      <td>-</td>\n",
       "      <td>1</td>\n",
       "      <td>-</td>\n",
       "      <td>-</td>\n",
       "      <td>-</td>\n",
       "      <td>-</td>\n",
       "      <td>-</td>\n",
       "      <td>-</td>\n",
       "    </tr>\n",
       "    <tr>\n",
       "      <th>...</th>\n",
       "      <td>...</td>\n",
       "      <td>...</td>\n",
       "      <td>...</td>\n",
       "      <td>...</td>\n",
       "      <td>...</td>\n",
       "      <td>...</td>\n",
       "      <td>...</td>\n",
       "      <td>...</td>\n",
       "      <td>...</td>\n",
       "    </tr>\n",
       "    <tr>\n",
       "      <th>820799</th>\n",
       "      <td>-</td>\n",
       "      <td>-</td>\n",
       "      <td>1</td>\n",
       "      <td>-</td>\n",
       "      <td>-</td>\n",
       "      <td>-</td>\n",
       "      <td>-</td>\n",
       "      <td>-</td>\n",
       "      <td>-</td>\n",
       "    </tr>\n",
       "    <tr>\n",
       "      <th>820804</th>\n",
       "      <td>-</td>\n",
       "      <td>-</td>\n",
       "      <td>0</td>\n",
       "      <td>1</td>\n",
       "      <td>590</td>\n",
       "      <td>0</td>\n",
       "      <td>0</td>\n",
       "      <td>-</td>\n",
       "      <td>1</td>\n",
       "    </tr>\n",
       "    <tr>\n",
       "      <th>820818</th>\n",
       "      <td>-</td>\n",
       "      <td>-</td>\n",
       "      <td>1</td>\n",
       "      <td>-</td>\n",
       "      <td>-</td>\n",
       "      <td>-</td>\n",
       "      <td>-</td>\n",
       "      <td>-</td>\n",
       "      <td>-</td>\n",
       "    </tr>\n",
       "    <tr>\n",
       "      <th>820828</th>\n",
       "      <td>-</td>\n",
       "      <td>-</td>\n",
       "      <td>1</td>\n",
       "      <td>-</td>\n",
       "      <td>-</td>\n",
       "      <td>-</td>\n",
       "      <td>-</td>\n",
       "      <td>-</td>\n",
       "      <td>-</td>\n",
       "    </tr>\n",
       "    <tr>\n",
       "      <th>820829</th>\n",
       "      <td>-</td>\n",
       "      <td>-</td>\n",
       "      <td>0</td>\n",
       "      <td>1</td>\n",
       "      <td>60</td>\n",
       "      <td>0</td>\n",
       "      <td>0</td>\n",
       "      <td>-</td>\n",
       "      <td>1</td>\n",
       "    </tr>\n",
       "  </tbody>\n",
       "</table>\n",
       "<p>223717 rows × 9 columns</p>\n",
       "</div>"
      ],
      "text/plain": [
       "       Scr_bytes Des_bytes  is_syn_only Scr_pkts Scr_ip_bytes Des_pkts  \\\n",
       "4              -         -            0        -            -        -   \n",
       "11             -         -            1        -            -        -   \n",
       "17             -         -            0        -            -        -   \n",
       "20             -         -            1        -            -        -   \n",
       "21             -         -            1        -            -        -   \n",
       "...          ...       ...          ...      ...          ...      ...   \n",
       "820799         -         -            1        -            -        -   \n",
       "820804         -         -            0        1          590        0   \n",
       "820818         -         -            1        -            -        -   \n",
       "820828         -         -            1        -            -        -   \n",
       "820829         -         -            0        1           60        0   \n",
       "\n",
       "       Des_ip_bytes total_bytes total_packet  \n",
       "4                 -           -            -  \n",
       "11                -           -            -  \n",
       "17                -           -            -  \n",
       "20                -           -            -  \n",
       "21                -           -            -  \n",
       "...             ...         ...          ...  \n",
       "820799            -           -            -  \n",
       "820804            0           -            1  \n",
       "820818            -           -            -  \n",
       "820828            -           -            -  \n",
       "820829            0           -            1  \n",
       "\n",
       "[223717 rows x 9 columns]"
      ]
     },
     "execution_count": 84,
     "metadata": {},
     "output_type": "execute_result"
    }
   ],
   "source": [
    "mydata.loc[mydata.Scr_bytes == '-', ['Scr_bytes', 'Des_bytes', 'is_syn_only', 'Scr_pkts', 'Scr_ip_bytes', 'Des_pkts', 'Des_ip_bytes', 'total_bytes','total_packet']]"
   ]
  },
  {
   "cell_type": "code",
   "execution_count": 93,
   "id": "acec5012-c415-46fa-89ef-f15516b2eaed",
   "metadata": {},
   "outputs": [],
   "source": [
    "mydata.to_csv('processed_data.csv', index=False)"
   ]
  },
  {
   "cell_type": "code",
   "execution_count": null,
   "id": "8b901652-7b2e-498e-8abf-627b2bab0a21",
   "metadata": {},
   "outputs": [],
   "source": [
    "for idx, val in mydata.loc[mydata.Scr_bytes =='-'].Scr_bytes.items():\n",
    "    mydata = mydata.drop(idx, axis=0)"
   ]
  },
  {
   "cell_type": "code",
   "execution_count": 86,
   "id": "2ef02884-aba3-4168-8293-4d1ed8ea8349",
   "metadata": {},
   "outputs": [
    {
     "data": {
      "text/html": [
       "<div>\n",
       "<style scoped>\n",
       "    .dataframe tbody tr th:only-of-type {\n",
       "        vertical-align: middle;\n",
       "    }\n",
       "\n",
       "    .dataframe tbody tr th {\n",
       "        vertical-align: top;\n",
       "    }\n",
       "\n",
       "    .dataframe thead th {\n",
       "        text-align: right;\n",
       "    }\n",
       "</style>\n",
       "<table border=\"1\" class=\"dataframe\">\n",
       "  <thead>\n",
       "    <tr style=\"text-align: right;\">\n",
       "      <th></th>\n",
       "      <th>Scr_bytes</th>\n",
       "      <th>Des_bytes</th>\n",
       "      <th>is_syn_only</th>\n",
       "      <th>Scr_pkts</th>\n",
       "      <th>Scr_ip_bytes</th>\n",
       "      <th>Des_pkts</th>\n",
       "      <th>Des_ip_bytes</th>\n",
       "      <th>total_bytes</th>\n",
       "      <th>total_packet</th>\n",
       "    </tr>\n",
       "  </thead>\n",
       "  <tbody>\n",
       "    <tr>\n",
       "      <th>8051</th>\n",
       "      <td>-</td>\n",
       "      <td>-</td>\n",
       "      <td>0</td>\n",
       "      <td>1</td>\n",
       "      <td>590</td>\n",
       "      <td>0</td>\n",
       "      <td>0</td>\n",
       "      <td>-</td>\n",
       "      <td>1</td>\n",
       "    </tr>\n",
       "    <tr>\n",
       "      <th>8054</th>\n",
       "      <td>-</td>\n",
       "      <td>-</td>\n",
       "      <td>0</td>\n",
       "      <td>1</td>\n",
       "      <td>590</td>\n",
       "      <td>0</td>\n",
       "      <td>0</td>\n",
       "      <td>-</td>\n",
       "      <td>1</td>\n",
       "    </tr>\n",
       "    <tr>\n",
       "      <th>8055</th>\n",
       "      <td>-</td>\n",
       "      <td>-</td>\n",
       "      <td>1</td>\n",
       "      <td>-</td>\n",
       "      <td>-</td>\n",
       "      <td>-</td>\n",
       "      <td>-</td>\n",
       "      <td>-</td>\n",
       "      <td>-</td>\n",
       "    </tr>\n",
       "    <tr>\n",
       "      <th>8056</th>\n",
       "      <td>-</td>\n",
       "      <td>-</td>\n",
       "      <td>0</td>\n",
       "      <td>1</td>\n",
       "      <td>590</td>\n",
       "      <td>0</td>\n",
       "      <td>0</td>\n",
       "      <td>-</td>\n",
       "      <td>1</td>\n",
       "    </tr>\n",
       "    <tr>\n",
       "      <th>8058</th>\n",
       "      <td>-</td>\n",
       "      <td>-</td>\n",
       "      <td>1</td>\n",
       "      <td>-</td>\n",
       "      <td>-</td>\n",
       "      <td>-</td>\n",
       "      <td>-</td>\n",
       "      <td>-</td>\n",
       "      <td>-</td>\n",
       "    </tr>\n",
       "    <tr>\n",
       "      <th>...</th>\n",
       "      <td>...</td>\n",
       "      <td>...</td>\n",
       "      <td>...</td>\n",
       "      <td>...</td>\n",
       "      <td>...</td>\n",
       "      <td>...</td>\n",
       "      <td>...</td>\n",
       "      <td>...</td>\n",
       "      <td>...</td>\n",
       "    </tr>\n",
       "    <tr>\n",
       "      <th>820799</th>\n",
       "      <td>-</td>\n",
       "      <td>-</td>\n",
       "      <td>1</td>\n",
       "      <td>-</td>\n",
       "      <td>-</td>\n",
       "      <td>-</td>\n",
       "      <td>-</td>\n",
       "      <td>-</td>\n",
       "      <td>-</td>\n",
       "    </tr>\n",
       "    <tr>\n",
       "      <th>820804</th>\n",
       "      <td>-</td>\n",
       "      <td>-</td>\n",
       "      <td>0</td>\n",
       "      <td>1</td>\n",
       "      <td>590</td>\n",
       "      <td>0</td>\n",
       "      <td>0</td>\n",
       "      <td>-</td>\n",
       "      <td>1</td>\n",
       "    </tr>\n",
       "    <tr>\n",
       "      <th>820818</th>\n",
       "      <td>-</td>\n",
       "      <td>-</td>\n",
       "      <td>1</td>\n",
       "      <td>-</td>\n",
       "      <td>-</td>\n",
       "      <td>-</td>\n",
       "      <td>-</td>\n",
       "      <td>-</td>\n",
       "      <td>-</td>\n",
       "    </tr>\n",
       "    <tr>\n",
       "      <th>820828</th>\n",
       "      <td>-</td>\n",
       "      <td>-</td>\n",
       "      <td>1</td>\n",
       "      <td>-</td>\n",
       "      <td>-</td>\n",
       "      <td>-</td>\n",
       "      <td>-</td>\n",
       "      <td>-</td>\n",
       "      <td>-</td>\n",
       "    </tr>\n",
       "    <tr>\n",
       "      <th>820829</th>\n",
       "      <td>-</td>\n",
       "      <td>-</td>\n",
       "      <td>0</td>\n",
       "      <td>1</td>\n",
       "      <td>60</td>\n",
       "      <td>0</td>\n",
       "      <td>0</td>\n",
       "      <td>-</td>\n",
       "      <td>1</td>\n",
       "    </tr>\n",
       "  </tbody>\n",
       "</table>\n",
       "<p>221535 rows × 9 columns</p>\n",
       "</div>"
      ],
      "text/plain": [
       "       Scr_bytes Des_bytes  is_syn_only Scr_pkts Scr_ip_bytes Des_pkts  \\\n",
       "8051           -         -            0        1          590        0   \n",
       "8054           -         -            0        1          590        0   \n",
       "8055           -         -            1        -            -        -   \n",
       "8056           -         -            0        1          590        0   \n",
       "8058           -         -            1        -            -        -   \n",
       "...          ...       ...          ...      ...          ...      ...   \n",
       "820799         -         -            1        -            -        -   \n",
       "820804         -         -            0        1          590        0   \n",
       "820818         -         -            1        -            -        -   \n",
       "820828         -         -            1        -            -        -   \n",
       "820829         -         -            0        1           60        0   \n",
       "\n",
       "       Des_ip_bytes total_bytes total_packet  \n",
       "8051              0           -            1  \n",
       "8054              0           -            1  \n",
       "8055              -           -            -  \n",
       "8056              0           -            1  \n",
       "8058              -           -            -  \n",
       "...             ...         ...          ...  \n",
       "820799            -           -            -  \n",
       "820804            0           -            1  \n",
       "820818            -           -            -  \n",
       "820828            -           -            -  \n",
       "820829            0           -            1  \n",
       "\n",
       "[221535 rows x 9 columns]"
      ]
     },
     "execution_count": 86,
     "metadata": {},
     "output_type": "execute_result"
    }
   ],
   "source": [
    "mydata.loc[mydata.Scr_bytes == '-', ['Scr_bytes', 'Des_bytes', 'is_syn_only', 'Scr_pkts', 'Scr_ip_bytes', 'Des_pkts', 'Des_ip_bytes', 'total_bytes','total_packet']]"
   ]
  },
  {
   "cell_type": "code",
   "execution_count": 87,
   "id": "e8e50343-ec01-4902-8beb-0353609beda8",
   "metadata": {},
   "outputs": [],
   "source": [
    "delete = '-'\n",
    "\n",
    "mydata = mydata[mydata['Scr_bytes'] != delete]"
   ]
  },
  {
   "cell_type": "code",
   "execution_count": 88,
   "id": "ecdd7134-06c9-4a8e-a8ec-bbea8fcb8a91",
   "metadata": {},
   "outputs": [
    {
     "data": {
      "text/html": [
       "<div>\n",
       "<style scoped>\n",
       "    .dataframe tbody tr th:only-of-type {\n",
       "        vertical-align: middle;\n",
       "    }\n",
       "\n",
       "    .dataframe tbody tr th {\n",
       "        vertical-align: top;\n",
       "    }\n",
       "\n",
       "    .dataframe thead th {\n",
       "        text-align: right;\n",
       "    }\n",
       "</style>\n",
       "<table border=\"1\" class=\"dataframe\">\n",
       "  <thead>\n",
       "    <tr style=\"text-align: right;\">\n",
       "      <th></th>\n",
       "      <th>Scr_bytes</th>\n",
       "      <th>Des_bytes</th>\n",
       "      <th>is_syn_only</th>\n",
       "      <th>Scr_pkts</th>\n",
       "      <th>Scr_ip_bytes</th>\n",
       "      <th>Des_pkts</th>\n",
       "      <th>Des_ip_bytes</th>\n",
       "      <th>total_bytes</th>\n",
       "      <th>total_packet</th>\n",
       "    </tr>\n",
       "  </thead>\n",
       "  <tbody>\n",
       "  </tbody>\n",
       "</table>\n",
       "</div>"
      ],
      "text/plain": [
       "Empty DataFrame\n",
       "Columns: [Scr_bytes, Des_bytes, is_syn_only, Scr_pkts, Scr_ip_bytes, Des_pkts, Des_ip_bytes, total_bytes, total_packet]\n",
       "Index: []"
      ]
     },
     "execution_count": 88,
     "metadata": {},
     "output_type": "execute_result"
    }
   ],
   "source": [
    "mydata.loc[mydata.Scr_bytes == '-', ['Scr_bytes', 'Des_bytes', 'is_syn_only', 'Scr_pkts', 'Scr_ip_bytes', 'Des_pkts', 'Des_ip_bytes', 'total_bytes','total_packet']]"
   ]
  },
  {
   "cell_type": "code",
   "execution_count": 89,
   "id": "2f9c2354-ba98-4c4f-8593-34b27131ff06",
   "metadata": {},
   "outputs": [
    {
     "data": {
      "text/html": [
       "<div>\n",
       "<style scoped>\n",
       "    .dataframe tbody tr th:only-of-type {\n",
       "        vertical-align: middle;\n",
       "    }\n",
       "\n",
       "    .dataframe tbody tr th {\n",
       "        vertical-align: top;\n",
       "    }\n",
       "\n",
       "    .dataframe thead th {\n",
       "        text-align: right;\n",
       "    }\n",
       "</style>\n",
       "<table border=\"1\" class=\"dataframe\">\n",
       "  <thead>\n",
       "    <tr style=\"text-align: right;\">\n",
       "      <th></th>\n",
       "      <th>Timestamp</th>\n",
       "      <th>Scr_IP</th>\n",
       "      <th>Scr_port</th>\n",
       "      <th>Des_IP</th>\n",
       "      <th>Des_port</th>\n",
       "      <th>Protocol</th>\n",
       "      <th>Service</th>\n",
       "      <th>Duration</th>\n",
       "      <th>Scr_bytes</th>\n",
       "      <th>Des_bytes</th>\n",
       "      <th>...</th>\n",
       "      <th>total_bytes</th>\n",
       "      <th>total_packet</th>\n",
       "      <th>paket_rate</th>\n",
       "      <th>byte_rate</th>\n",
       "      <th>Scr_packts_ratio</th>\n",
       "      <th>Des_pkts_ratio</th>\n",
       "      <th>Scr_bytes_ratio</th>\n",
       "      <th>Des_bytes_ratio</th>\n",
       "      <th>OSSEC_alert</th>\n",
       "      <th>Login_attempt</th>\n",
       "    </tr>\n",
       "  </thead>\n",
       "  <tbody>\n",
       "    <tr>\n",
       "      <th>0</th>\n",
       "      <td>1578540956</td>\n",
       "      <td>192.168.2.199</td>\n",
       "      <td>49278</td>\n",
       "      <td>192.168.2.10</td>\n",
       "      <td>80</td>\n",
       "      <td>3</td>\n",
       "      <td>17.0</td>\n",
       "      <td>0.67369</td>\n",
       "      <td>13437</td>\n",
       "      <td>34924</td>\n",
       "      <td>...</td>\n",
       "      <td>107658</td>\n",
       "      <td>210</td>\n",
       "      <td>311.7160712</td>\n",
       "      <td>159803.4704</td>\n",
       "      <td>0.5</td>\n",
       "      <td>0.5</td>\n",
       "      <td>0.300414275</td>\n",
       "      <td>0.699585725</td>\n",
       "      <td>1</td>\n",
       "      <td>0</td>\n",
       "    </tr>\n",
       "    <tr>\n",
       "      <th>1</th>\n",
       "      <td>1578871873</td>\n",
       "      <td>10.0.1.5</td>\n",
       "      <td>39769</td>\n",
       "      <td>131.236.3.92</td>\n",
       "      <td>53</td>\n",
       "      <td>2</td>\n",
       "      <td>16.0</td>\n",
       "      <td>0.000083</td>\n",
       "      <td>78</td>\n",
       "      <td>0</td>\n",
       "      <td>...</td>\n",
       "      <td>212</td>\n",
       "      <td>2</td>\n",
       "      <td>24096.38554</td>\n",
       "      <td>2554216.867</td>\n",
       "      <td>1</td>\n",
       "      <td>0</td>\n",
       "      <td>1</td>\n",
       "      <td>0</td>\n",
       "      <td>0</td>\n",
       "      <td>0</td>\n",
       "    </tr>\n",
       "    <tr>\n",
       "      <th>2</th>\n",
       "      <td>1578522486</td>\n",
       "      <td>172.24.1.80</td>\n",
       "      <td>59050</td>\n",
       "      <td>172.24.1.1</td>\n",
       "      <td>53</td>\n",
       "      <td>2</td>\n",
       "      <td>16.0</td>\n",
       "      <td>0.000132</td>\n",
       "      <td>38</td>\n",
       "      <td>38</td>\n",
       "      <td>...</td>\n",
       "      <td>208</td>\n",
       "      <td>2</td>\n",
       "      <td>15151.51515</td>\n",
       "      <td>1575757.576</td>\n",
       "      <td>0.5</td>\n",
       "      <td>0.5</td>\n",
       "      <td>0.5</td>\n",
       "      <td>0.5</td>\n",
       "      <td>0</td>\n",
       "      <td>0</td>\n",
       "    </tr>\n",
       "    <tr>\n",
       "      <th>3</th>\n",
       "      <td>1582757640</td>\n",
       "      <td>192.168.2.196</td>\n",
       "      <td>37966</td>\n",
       "      <td>192.168.2.10</td>\n",
       "      <td>1880</td>\n",
       "      <td>3</td>\n",
       "      <td>13.0</td>\n",
       "      <td>9.378481</td>\n",
       "      <td>1121</td>\n",
       "      <td>484</td>\n",
       "      <td>...</td>\n",
       "      <td>3954</td>\n",
       "      <td>14</td>\n",
       "      <td>1.492779055</td>\n",
       "      <td>421.6034558</td>\n",
       "      <td>0.571428571</td>\n",
       "      <td>0.428571429</td>\n",
       "      <td>0.67425392</td>\n",
       "      <td>0.32574608</td>\n",
       "      <td>0</td>\n",
       "      <td>1</td>\n",
       "    </tr>\n",
       "    <tr>\n",
       "      <th>5</th>\n",
       "      <td>1580452611</td>\n",
       "      <td>192.168.10.155</td>\n",
       "      <td>50502</td>\n",
       "      <td>192.168.2.10</td>\n",
       "      <td>80</td>\n",
       "      <td>3</td>\n",
       "      <td>17.0</td>\n",
       "      <td>5.153928</td>\n",
       "      <td>460</td>\n",
       "      <td>671</td>\n",
       "      <td>...</td>\n",
       "      <td>4569</td>\n",
       "      <td>22</td>\n",
       "      <td>4.268588929</td>\n",
       "      <td>886.5083098</td>\n",
       "      <td>0.545454545</td>\n",
       "      <td>0.454545455</td>\n",
       "      <td>0.442109871</td>\n",
       "      <td>0.557890129</td>\n",
       "      <td>0</td>\n",
       "      <td>0</td>\n",
       "    </tr>\n",
       "  </tbody>\n",
       "</table>\n",
       "<p>5 rows × 30 columns</p>\n",
       "</div>"
      ],
      "text/plain": [
       "    Timestamp          Scr_IP Scr_port        Des_IP Des_port  Protocol  \\\n",
       "0  1578540956   192.168.2.199    49278  192.168.2.10       80         3   \n",
       "1  1578871873        10.0.1.5    39769  131.236.3.92       53         2   \n",
       "2  1578522486     172.24.1.80    59050    172.24.1.1       53         2   \n",
       "3  1582757640   192.168.2.196    37966  192.168.2.10     1880         3   \n",
       "5  1580452611  192.168.10.155    50502  192.168.2.10       80         3   \n",
       "\n",
       "   Service  Duration Scr_bytes Des_bytes  ...  total_bytes total_packet  \\\n",
       "0     17.0   0.67369     13437     34924  ...       107658          210   \n",
       "1     16.0  0.000083        78         0  ...          212            2   \n",
       "2     16.0  0.000132        38        38  ...          208            2   \n",
       "3     13.0  9.378481      1121       484  ...         3954           14   \n",
       "5     17.0  5.153928       460       671  ...         4569           22   \n",
       "\n",
       "    paket_rate    byte_rate  Scr_packts_ratio Des_pkts_ratio Scr_bytes_ratio  \\\n",
       "0  311.7160712  159803.4704               0.5            0.5     0.300414275   \n",
       "1  24096.38554  2554216.867                 1              0               1   \n",
       "2  15151.51515  1575757.576               0.5            0.5             0.5   \n",
       "3  1.492779055  421.6034558       0.571428571    0.428571429      0.67425392   \n",
       "5  4.268588929  886.5083098       0.545454545    0.454545455     0.442109871   \n",
       "\n",
       "  Des_bytes_ratio OSSEC_alert Login_attempt  \n",
       "0     0.699585725           1             0  \n",
       "1               0           0             0  \n",
       "2             0.5           0             0  \n",
       "3      0.32574608           0             1  \n",
       "5     0.557890129           0             0  \n",
       "\n",
       "[5 rows x 30 columns]"
      ]
     },
     "execution_count": 89,
     "metadata": {},
     "output_type": "execute_result"
    }
   ],
   "source": [
    "mydata.head()"
   ]
  },
  {
   "cell_type": "code",
   "execution_count": 90,
   "id": "c3e155e9-ed10-4ea3-8c6e-faef3ee24513",
   "metadata": {},
   "outputs": [
    {
     "name": "stderr",
     "output_type": "stream",
     "text": [
      "C:\\Users\\framatome\\AppData\\Local\\Temp\\ipykernel_7268\\3325038725.py:1: SettingWithCopyWarning: \n",
      "A value is trying to be set on a copy of a slice from a DataFrame\n",
      "\n",
      "See the caveats in the documentation: https://pandas.pydata.org/pandas-docs/stable/user_guide/indexing.html#returning-a-view-versus-a-copy\n",
      "  mydata.drop(columns = ['anomaly_alert', 'OSSEC_alert'], inplace = True)\n"
     ]
    }
   ],
   "source": [
    "mydata.drop(columns = ['anomaly_alert', 'OSSEC_alert'], inplace = True)"
   ]
  },
  {
   "cell_type": "code",
   "execution_count": 92,
   "id": "d78a1569-1d57-4579-8e7f-76400e16b24b",
   "metadata": {},
   "outputs": [
    {
     "data": {
      "text/plain": [
       "Timestamp             int32\n",
       "Scr_IP               object\n",
       "Scr_port             object\n",
       "Des_IP               object\n",
       "Des_port             object\n",
       "Protocol              int64\n",
       "Service             float64\n",
       "Duration             object\n",
       "Scr_bytes            object\n",
       "Des_bytes            object\n",
       "Conn_state            int64\n",
       "missed_bytes         object\n",
       "is_syn_only           int64\n",
       "Is_SYN_ACK            int64\n",
       "is_with_payload       int64\n",
       "Scr_pkts             object\n",
       "Scr_ip_bytes         object\n",
       "Des_pkts             object\n",
       "Des_ip_bytes         object\n",
       "total_bytes          object\n",
       "total_packet         object\n",
       "paket_rate           object\n",
       "byte_rate            object\n",
       "Scr_packts_ratio     object\n",
       "Des_pkts_ratio       object\n",
       "Scr_bytes_ratio      object\n",
       "Des_bytes_ratio      object\n",
       "Login_attempt         int64\n",
       "dtype: object"
      ]
     },
     "execution_count": 92,
     "metadata": {},
     "output_type": "execute_result"
    }
   ],
   "source": [
    "mydata.dtypes"
   ]
  },
  {
   "cell_type": "code",
   "execution_count": 94,
   "id": "a6137b8b-28f1-40b1-b8f9-60e8bdda35e6",
   "metadata": {},
   "outputs": [
    {
     "data": {
      "text/plain": [
       "0.000006     6539\n",
       "0.000007     4875\n",
       "0.000011     4733\n",
       "0.000005     4646\n",
       "0.000008     4047\n",
       "             ... \n",
       "0.63789         1\n",
       "8.746916        1\n",
       "5.057159        1\n",
       "3.152764        1\n",
       "14.787547       1\n",
       "Name: Duration, Length: 286981, dtype: int64"
      ]
     },
     "execution_count": 94,
     "metadata": {},
     "output_type": "execute_result"
    }
   ],
   "source": [
    "mydata.Duration.value_counts()"
   ]
  },
  {
   "cell_type": "code",
   "execution_count": 100,
   "id": "2a7c04d6-3bff-450d-ba6d-21b53c07cfc0",
   "metadata": {},
   "outputs": [
    {
     "name": "stdout",
     "output_type": "stream",
     "text": [
      "Column contains only number:  True\n"
     ]
    }
   ],
   "source": [
    "is_numeric = pd.to_numeric(mydata['Scr_bytes'], errors='coerce').notnull().all()\n",
    "\n",
    "\n",
    "print(\"Column contains only number: \", is_numeric)"
   ]
  },
  {
   "cell_type": "code",
   "execution_count": 102,
   "id": "b3bdccdd-88b5-4ea1-8176-4c4f0b8773ea",
   "metadata": {},
   "outputs": [
    {
     "name": "stdout",
     "output_type": "stream",
     "text": [
      "Column contains only number:  True\n"
     ]
    }
   ],
   "source": [
    "is_numeric = pd.to_numeric(mydata['Des_bytes'], errors='coerce').notnull().all()\n",
    "\n",
    "\n",
    "print(\"Column contains only number: \", is_numeric)"
   ]
  },
  {
   "cell_type": "code",
   "execution_count": 103,
   "id": "ffd6cb37-35e1-4efc-a371-b2eff064696d",
   "metadata": {},
   "outputs": [
    {
     "name": "stdout",
     "output_type": "stream",
     "text": [
      "Column contains only number:  True\n"
     ]
    }
   ],
   "source": [
    "is_numeric = pd.to_numeric(mydata['missed_bytes'], errors='coerce').notnull().all()\n",
    "\n",
    "\n",
    "print(\"Column contains only number: \", is_numeric)"
   ]
  },
  {
   "cell_type": "code",
   "execution_count": 104,
   "id": "6a0cc2c4-1a1d-437b-8ebe-a8428007d799",
   "metadata": {},
   "outputs": [
    {
     "name": "stdout",
     "output_type": "stream",
     "text": [
      "Column contains only number:  True\n"
     ]
    }
   ],
   "source": [
    "is_numeric = pd.to_numeric(mydata['Scr_pkts'], errors='coerce').notnull().all()\n",
    "\n",
    "\n",
    "print(\"Column contains only number: \", is_numeric)"
   ]
  },
  {
   "cell_type": "code",
   "execution_count": 101,
   "id": "f3b996e9-44fe-49c9-b2aa-a78b318017fa",
   "metadata": {},
   "outputs": [],
   "source": [
    "mydata['Scr_bytes'] = mydata['Scr_bytes'].astype(float)"
   ]
  },
  {
   "cell_type": "code",
   "execution_count": 105,
   "id": "0ca89336-847c-44ba-84e6-2d86399301bb",
   "metadata": {},
   "outputs": [
    {
     "name": "stdout",
     "output_type": "stream",
     "text": [
      "Column contains only number:  False\n"
     ]
    }
   ],
   "source": [
    "is_numeric = pd.to_numeric(mydata['Scr_ip_bytes'], errors='coerce').notnull().all()\n",
    "\n",
    "\n",
    "print(\"Column contains only number: \", is_numeric)"
   ]
  },
  {
   "cell_type": "code",
   "execution_count": 108,
   "id": "30493f7f-6103-43b1-b270-97f04c5d00eb",
   "metadata": {},
   "outputs": [
    {
     "data": {
      "text/plain": [
       "65       52818\n",
       "44       40079\n",
       "1180     35318\n",
       "60       27379\n",
       "268      23924\n",
       "         ...  \n",
       "21386        1\n",
       "87678        1\n",
       "47321        1\n",
       "57943        1\n",
       "36875        1\n",
       "Name: Scr_ip_bytes, Length: 32854, dtype: int64"
      ]
     },
     "execution_count": 108,
     "metadata": {},
     "output_type": "execute_result"
    }
   ],
   "source": [
    "mydata.Scr_ip_bytes.value_counts()"
   ]
  },
  {
   "cell_type": "code",
   "execution_count": 106,
   "id": "11c79b0f-da6c-4036-8276-2940eb268d82",
   "metadata": {},
   "outputs": [],
   "source": [
    "mydata['Des_bytes'] = mydata['Des_bytes'].astype(float)\n",
    "mydata['missed_bytes'] = mydata['missed_bytes'].astype(float)\n",
    "mydata['Scr_pkts'] = mydata['Scr_pkts'].astype(float)"
   ]
  },
  {
   "cell_type": "code",
   "execution_count": 107,
   "id": "29602770-a37a-4e1f-a1ca-de5ad9716709",
   "metadata": {},
   "outputs": [
    {
     "data": {
      "text/plain": [
       "Timestamp             int32\n",
       "Scr_IP               object\n",
       "Scr_port             object\n",
       "Des_IP               object\n",
       "Des_port             object\n",
       "Protocol              int64\n",
       "Service             float64\n",
       "Duration            float64\n",
       "Scr_bytes           float64\n",
       "Des_bytes           float64\n",
       "Conn_state            int64\n",
       "missed_bytes        float64\n",
       "is_syn_only           int64\n",
       "Is_SYN_ACK            int64\n",
       "is_with_payload       int64\n",
       "Scr_pkts            float64\n",
       "Scr_ip_bytes         object\n",
       "Des_pkts             object\n",
       "Des_ip_bytes         object\n",
       "total_bytes          object\n",
       "total_packet         object\n",
       "paket_rate           object\n",
       "byte_rate            object\n",
       "Scr_packts_ratio     object\n",
       "Des_pkts_ratio       object\n",
       "Scr_bytes_ratio      object\n",
       "Des_bytes_ratio      object\n",
       "Login_attempt         int64\n",
       "dtype: object"
      ]
     },
     "execution_count": 107,
     "metadata": {},
     "output_type": "execute_result"
    }
   ],
   "source": [
    "mydata.dtypes"
   ]
  },
  {
   "cell_type": "code",
   "execution_count": 109,
   "id": "364de2af-1f4e-495e-b242-c524c86b03bd",
   "metadata": {},
   "outputs": [
    {
     "name": "stdout",
     "output_type": "stream",
     "text": [
      "Column contains only number:  True\n"
     ]
    }
   ],
   "source": [
    "is_numeric = pd.to_numeric(mydata['Des_pkts'], errors='coerce').notnull().all()\n",
    "\n",
    "\n",
    "print(\"Column contains only number: \", is_numeric)"
   ]
  },
  {
   "cell_type": "code",
   "execution_count": 110,
   "id": "2344f747-145c-425d-8122-f32e4b3b0815",
   "metadata": {},
   "outputs": [
    {
     "name": "stdout",
     "output_type": "stream",
     "text": [
      "Column contains only number:  True\n"
     ]
    }
   ],
   "source": [
    "is_numeric = pd.to_numeric(mydata['Des_ip_bytes'], errors='coerce').notnull().all()\n",
    "\n",
    "\n",
    "print(\"Column contains only number: \", is_numeric)"
   ]
  },
  {
   "cell_type": "code",
   "execution_count": 111,
   "id": "cb8bbc87-937b-4b56-9dfc-6f16d1e26a0e",
   "metadata": {},
   "outputs": [
    {
     "name": "stdout",
     "output_type": "stream",
     "text": [
      "Column contains only number:  False\n"
     ]
    }
   ],
   "source": [
    "is_numeric = pd.to_numeric(mydata['total_bytes'], errors='coerce').notnull().all()\n",
    "\n",
    "\n",
    "print(\"Column contains only number: \", is_numeric)"
   ]
  },
  {
   "cell_type": "code",
   "execution_count": 112,
   "id": "640ea054-a9d9-4260-876b-5b32e69fd056",
   "metadata": {},
   "outputs": [
    {
     "name": "stdout",
     "output_type": "stream",
     "text": [
      "Column contains only number:  True\n"
     ]
    }
   ],
   "source": [
    "is_numeric = pd.to_numeric(mydata['total_packet'], errors='coerce').notnull().all()\n",
    "\n",
    "\n",
    "print(\"Column contains only number: \", is_numeric)"
   ]
  },
  {
   "cell_type": "code",
   "execution_count": 113,
   "id": "e77f36c4-8487-457c-aee9-ce21c7cc61af",
   "metadata": {},
   "outputs": [
    {
     "name": "stdout",
     "output_type": "stream",
     "text": [
      "Column contains only number:  True\n"
     ]
    }
   ],
   "source": [
    "is_numeric = pd.to_numeric(mydata['paket_rate'], errors='coerce').notnull().all()\n",
    "\n",
    "\n",
    "print(\"Column contains only number: \", is_numeric)"
   ]
  },
  {
   "cell_type": "code",
   "execution_count": 114,
   "id": "77ae08c6-4947-4b07-920f-2c91f6269a11",
   "metadata": {},
   "outputs": [
    {
     "name": "stdout",
     "output_type": "stream",
     "text": [
      "Column contains only number:  False\n"
     ]
    }
   ],
   "source": [
    "is_numeric = pd.to_numeric(mydata['byte_rate'], errors='coerce').notnull().all()\n",
    "\n",
    "\n",
    "print(\"Column contains only number: \", is_numeric)"
   ]
  },
  {
   "cell_type": "code",
   "execution_count": 115,
   "id": "af76b5c8-2265-48b1-b030-0e5a66f1ba2c",
   "metadata": {},
   "outputs": [
    {
     "name": "stdout",
     "output_type": "stream",
     "text": [
      "Column contains only number:  True\n"
     ]
    }
   ],
   "source": [
    "is_numeric = pd.to_numeric(mydata['Scr_packts_ratio'], errors='coerce').notnull().all()\n",
    "\n",
    "\n",
    "print(\"Column contains only number: \", is_numeric)"
   ]
  },
  {
   "cell_type": "code",
   "execution_count": 116,
   "id": "bb59f77b-9ff6-43df-b1f9-241c0f7545c8",
   "metadata": {},
   "outputs": [
    {
     "name": "stdout",
     "output_type": "stream",
     "text": [
      "Column contains only number:  True\n"
     ]
    }
   ],
   "source": [
    "is_numeric = pd.to_numeric(mydata['Des_pkts_ratio'], errors='coerce').notnull().all()\n",
    "\n",
    "\n",
    "print(\"Column contains only number: \", is_numeric)"
   ]
  },
  {
   "cell_type": "code",
   "execution_count": 117,
   "id": "2ec9edf6-cdb2-4930-bffa-41e22e3dd36c",
   "metadata": {},
   "outputs": [
    {
     "name": "stdout",
     "output_type": "stream",
     "text": [
      "Column contains only number:  False\n"
     ]
    }
   ],
   "source": [
    "is_numeric = pd.to_numeric(mydata['Scr_bytes_ratio'], errors='coerce').notnull().all()\n",
    "\n",
    "\n",
    "print(\"Column contains only number: \", is_numeric)"
   ]
  },
  {
   "cell_type": "code",
   "execution_count": 118,
   "id": "57437d5a-c1bc-4fe5-854b-8c0ecacf8b0c",
   "metadata": {},
   "outputs": [
    {
     "name": "stdout",
     "output_type": "stream",
     "text": [
      "Column contains only number:  False\n"
     ]
    }
   ],
   "source": [
    "is_numeric = pd.to_numeric(mydata['Des_bytes_ratio'], errors='coerce').notnull().all()\n",
    "\n",
    "\n",
    "print(\"Column contains only number: \", is_numeric)"
   ]
  },
  {
   "cell_type": "code",
   "execution_count": 120,
   "id": "3b1cb0bd-9850-4809-b967-5f04f791f5d6",
   "metadata": {},
   "outputs": [],
   "source": [
    "mydata['Des_pkts'] = mydata['Des_pkts'].astype(float)\n",
    "mydata['Des_ip_bytes'] = mydata['Des_ip_bytes'].astype(float)\n",
    "mydata['total_packet'] = mydata['total_packet'].astype(float)\n",
    "mydata['paket_rate'] = mydata['paket_rate'].astype(float)\n",
    "mydata['Scr_packts_ratio'] = mydata['Scr_packts_ratio'].astype(float)\n",
    "mydata['Des_pkts_ratio'] = mydata['Des_pkts_ratio'].astype(float)"
   ]
  },
  {
   "cell_type": "code",
   "execution_count": 121,
   "id": "409d693d-bc24-4e73-bb97-83e5a38aad82",
   "metadata": {},
   "outputs": [
    {
     "data": {
      "text/plain": [
       "Timestamp             int32\n",
       "Scr_IP               object\n",
       "Scr_port             object\n",
       "Des_IP               object\n",
       "Des_port             object\n",
       "Protocol              int64\n",
       "Service             float64\n",
       "Duration            float64\n",
       "Scr_bytes           float64\n",
       "Des_bytes           float64\n",
       "Conn_state            int64\n",
       "missed_bytes        float64\n",
       "is_syn_only           int64\n",
       "Is_SYN_ACK            int64\n",
       "is_with_payload       int64\n",
       "Scr_pkts            float64\n",
       "Scr_ip_bytes         object\n",
       "Des_pkts            float64\n",
       "Des_ip_bytes        float64\n",
       "total_bytes          object\n",
       "total_packet        float64\n",
       "paket_rate          float64\n",
       "byte_rate            object\n",
       "Scr_packts_ratio    float64\n",
       "Des_pkts_ratio      float64\n",
       "Scr_bytes_ratio      object\n",
       "Des_bytes_ratio      object\n",
       "Login_attempt         int64\n",
       "dtype: object"
      ]
     },
     "execution_count": 121,
     "metadata": {},
     "output_type": "execute_result"
    }
   ],
   "source": [
    "mydata.dtypes"
   ]
  },
  {
   "cell_type": "code",
   "execution_count": 95,
   "id": "b2afbb68-2a22-4e31-8c09-7ea60f315fef",
   "metadata": {},
   "outputs": [],
   "source": [
    "mydata.to_csv('scaled_data_07_07.csv', index=False)"
   ]
  },
  {
   "cell_type": "code",
   "execution_count": 2,
   "id": "f7fa6141-a1f0-4fac-ad16-b6cd512121fe",
   "metadata": {},
   "outputs": [
    {
     "name": "stderr",
     "output_type": "stream",
     "text": [
      "C:\\Users\\framatome\\AppData\\Local\\Temp\\ipykernel_21008\\1163818012.py:1: DtypeWarning: Columns (16,19,22,25,26) have mixed types. Specify dtype option on import or set low_memory=False.\n",
      "  mydata = pd.read_csv('processed_data.csv')\n"
     ]
    }
   ],
   "source": [
    "mydata = pd.read_csv('processed_data.csv')"
   ]
  },
  {
   "cell_type": "code",
   "execution_count": 3,
   "id": "c577e63e-ac28-4e7e-96e2-1ff204c03212",
   "metadata": {},
   "outputs": [
    {
     "data": {
      "text/html": [
       "<div>\n",
       "<style scoped>\n",
       "    .dataframe tbody tr th:only-of-type {\n",
       "        vertical-align: middle;\n",
       "    }\n",
       "\n",
       "    .dataframe tbody tr th {\n",
       "        vertical-align: top;\n",
       "    }\n",
       "\n",
       "    .dataframe thead th {\n",
       "        text-align: right;\n",
       "    }\n",
       "</style>\n",
       "<table border=\"1\" class=\"dataframe\">\n",
       "  <thead>\n",
       "    <tr style=\"text-align: right;\">\n",
       "      <th></th>\n",
       "      <th>Timestamp</th>\n",
       "      <th>Scr_IP</th>\n",
       "      <th>Scr_port</th>\n",
       "      <th>Des_IP</th>\n",
       "      <th>Des_port</th>\n",
       "      <th>Protocol</th>\n",
       "      <th>Service</th>\n",
       "      <th>Duration</th>\n",
       "      <th>Scr_bytes</th>\n",
       "      <th>Des_bytes</th>\n",
       "      <th>...</th>\n",
       "      <th>Des_ip_bytes</th>\n",
       "      <th>total_bytes</th>\n",
       "      <th>total_packet</th>\n",
       "      <th>paket_rate</th>\n",
       "      <th>byte_rate</th>\n",
       "      <th>Scr_packts_ratio</th>\n",
       "      <th>Des_pkts_ratio</th>\n",
       "      <th>Scr_bytes_ratio</th>\n",
       "      <th>Des_bytes_ratio</th>\n",
       "      <th>Login_attempt</th>\n",
       "    </tr>\n",
       "  </thead>\n",
       "  <tbody>\n",
       "    <tr>\n",
       "      <th>0</th>\n",
       "      <td>1578540956</td>\n",
       "      <td>192.168.2.199</td>\n",
       "      <td>49278</td>\n",
       "      <td>192.168.2.10</td>\n",
       "      <td>80</td>\n",
       "      <td>3</td>\n",
       "      <td>17.0</td>\n",
       "      <td>0.673690</td>\n",
       "      <td>13437.0</td>\n",
       "      <td>34924.0</td>\n",
       "      <td>...</td>\n",
       "      <td>40392.0</td>\n",
       "      <td>107658</td>\n",
       "      <td>210.0</td>\n",
       "      <td>311.716071</td>\n",
       "      <td>159803.4704</td>\n",
       "      <td>0.500000</td>\n",
       "      <td>0.500000</td>\n",
       "      <td>0.300414</td>\n",
       "      <td>0.699586</td>\n",
       "      <td>0</td>\n",
       "    </tr>\n",
       "    <tr>\n",
       "      <th>1</th>\n",
       "      <td>1578871873</td>\n",
       "      <td>10.0.1.5</td>\n",
       "      <td>39769</td>\n",
       "      <td>131.236.3.92</td>\n",
       "      <td>53</td>\n",
       "      <td>2</td>\n",
       "      <td>16.0</td>\n",
       "      <td>0.000083</td>\n",
       "      <td>78.0</td>\n",
       "      <td>0.0</td>\n",
       "      <td>...</td>\n",
       "      <td>0.0</td>\n",
       "      <td>212</td>\n",
       "      <td>2.0</td>\n",
       "      <td>24096.385540</td>\n",
       "      <td>2554216.867</td>\n",
       "      <td>1.000000</td>\n",
       "      <td>0.000000</td>\n",
       "      <td>1.0</td>\n",
       "      <td>0.0</td>\n",
       "      <td>0</td>\n",
       "    </tr>\n",
       "    <tr>\n",
       "      <th>2</th>\n",
       "      <td>1578522486</td>\n",
       "      <td>172.24.1.80</td>\n",
       "      <td>59050</td>\n",
       "      <td>172.24.1.1</td>\n",
       "      <td>53</td>\n",
       "      <td>2</td>\n",
       "      <td>16.0</td>\n",
       "      <td>0.000132</td>\n",
       "      <td>38.0</td>\n",
       "      <td>38.0</td>\n",
       "      <td>...</td>\n",
       "      <td>66.0</td>\n",
       "      <td>208</td>\n",
       "      <td>2.0</td>\n",
       "      <td>15151.515150</td>\n",
       "      <td>1575757.576</td>\n",
       "      <td>0.500000</td>\n",
       "      <td>0.500000</td>\n",
       "      <td>0.5</td>\n",
       "      <td>0.5</td>\n",
       "      <td>0</td>\n",
       "    </tr>\n",
       "    <tr>\n",
       "      <th>3</th>\n",
       "      <td>1582757640</td>\n",
       "      <td>192.168.2.196</td>\n",
       "      <td>37966</td>\n",
       "      <td>192.168.2.10</td>\n",
       "      <td>1880</td>\n",
       "      <td>3</td>\n",
       "      <td>13.0</td>\n",
       "      <td>9.378481</td>\n",
       "      <td>1121.0</td>\n",
       "      <td>484.0</td>\n",
       "      <td>...</td>\n",
       "      <td>804.0</td>\n",
       "      <td>3954</td>\n",
       "      <td>14.0</td>\n",
       "      <td>1.492779</td>\n",
       "      <td>421.603456</td>\n",
       "      <td>0.571429</td>\n",
       "      <td>0.428571</td>\n",
       "      <td>0.674254</td>\n",
       "      <td>0.325746</td>\n",
       "      <td>1</td>\n",
       "    </tr>\n",
       "    <tr>\n",
       "      <th>4</th>\n",
       "      <td>1580452611</td>\n",
       "      <td>192.168.10.155</td>\n",
       "      <td>50502</td>\n",
       "      <td>192.168.2.10</td>\n",
       "      <td>80</td>\n",
       "      <td>3</td>\n",
       "      <td>17.0</td>\n",
       "      <td>5.153928</td>\n",
       "      <td>460.0</td>\n",
       "      <td>671.0</td>\n",
       "      <td>...</td>\n",
       "      <td>1878.0</td>\n",
       "      <td>4569</td>\n",
       "      <td>22.0</td>\n",
       "      <td>4.268589</td>\n",
       "      <td>886.50831</td>\n",
       "      <td>0.545455</td>\n",
       "      <td>0.454545</td>\n",
       "      <td>0.44211</td>\n",
       "      <td>0.55789</td>\n",
       "      <td>0</td>\n",
       "    </tr>\n",
       "    <tr>\n",
       "      <th>...</th>\n",
       "      <td>...</td>\n",
       "      <td>...</td>\n",
       "      <td>...</td>\n",
       "      <td>...</td>\n",
       "      <td>...</td>\n",
       "      <td>...</td>\n",
       "      <td>...</td>\n",
       "      <td>...</td>\n",
       "      <td>...</td>\n",
       "      <td>...</td>\n",
       "      <td>...</td>\n",
       "      <td>...</td>\n",
       "      <td>...</td>\n",
       "      <td>...</td>\n",
       "      <td>...</td>\n",
       "      <td>...</td>\n",
       "      <td>...</td>\n",
       "      <td>...</td>\n",
       "      <td>...</td>\n",
       "      <td>...</td>\n",
       "      <td>...</td>\n",
       "    </tr>\n",
       "    <tr>\n",
       "      <th>596958</th>\n",
       "      <td>1579041266</td>\n",
       "      <td>192.168.2.199</td>\n",
       "      <td>51292</td>\n",
       "      <td>192.168.2.10</td>\n",
       "      <td>80</td>\n",
       "      <td>3</td>\n",
       "      <td>17.0</td>\n",
       "      <td>0.205832</td>\n",
       "      <td>127.0</td>\n",
       "      <td>310.0</td>\n",
       "      <td>...</td>\n",
       "      <td>578.0</td>\n",
       "      <td>1462</td>\n",
       "      <td>11.0</td>\n",
       "      <td>53.441642</td>\n",
       "      <td>7102.880019</td>\n",
       "      <td>0.545455</td>\n",
       "      <td>0.454545</td>\n",
       "      <td>0.392613</td>\n",
       "      <td>0.607387</td>\n",
       "      <td>0</td>\n",
       "    </tr>\n",
       "    <tr>\n",
       "      <th>596959</th>\n",
       "      <td>1579653575</td>\n",
       "      <td>172.24.1.80</td>\n",
       "      <td>45913</td>\n",
       "      <td>172.24.1.1</td>\n",
       "      <td>1880</td>\n",
       "      <td>3</td>\n",
       "      <td>13.0</td>\n",
       "      <td>63.290477</td>\n",
       "      <td>0.0</td>\n",
       "      <td>0.0</td>\n",
       "      <td>...</td>\n",
       "      <td>164.0</td>\n",
       "      <td>380</td>\n",
       "      <td>7.0</td>\n",
       "      <td>0.110601</td>\n",
       "      <td>6.004063</td>\n",
       "      <td>0.571429</td>\n",
       "      <td>0.428571</td>\n",
       "      <td>0.568421</td>\n",
       "      <td>0.431579</td>\n",
       "      <td>0</td>\n",
       "    </tr>\n",
       "    <tr>\n",
       "      <th>596960</th>\n",
       "      <td>1579064398</td>\n",
       "      <td>192.168.10.153</td>\n",
       "      <td>53252</td>\n",
       "      <td>192.168.2.10</td>\n",
       "      <td>80</td>\n",
       "      <td>3</td>\n",
       "      <td>17.0</td>\n",
       "      <td>14.787547</td>\n",
       "      <td>26091.0</td>\n",
       "      <td>604398.0</td>\n",
       "      <td>...</td>\n",
       "      <td>625227.0</td>\n",
       "      <td>1292591</td>\n",
       "      <td>784.0</td>\n",
       "      <td>53.017583</td>\n",
       "      <td>87410.77881</td>\n",
       "      <td>0.343112</td>\n",
       "      <td>0.656888</td>\n",
       "      <td>0.048713</td>\n",
       "      <td>0.951287</td>\n",
       "      <td>0</td>\n",
       "    </tr>\n",
       "    <tr>\n",
       "      <th>596961</th>\n",
       "      <td>1578374864</td>\n",
       "      <td>192.168.2.199</td>\n",
       "      <td>44451</td>\n",
       "      <td>192.168.2.10</td>\n",
       "      <td>19315</td>\n",
       "      <td>3</td>\n",
       "      <td>14.0</td>\n",
       "      <td>0.000011</td>\n",
       "      <td>0.0</td>\n",
       "      <td>0.0</td>\n",
       "      <td>...</td>\n",
       "      <td>40.0</td>\n",
       "      <td>84</td>\n",
       "      <td>2.0</td>\n",
       "      <td>181818.181800</td>\n",
       "      <td>7636363.636</td>\n",
       "      <td>0.500000</td>\n",
       "      <td>0.500000</td>\n",
       "      <td>0.52381</td>\n",
       "      <td>0.47619</td>\n",
       "      <td>0</td>\n",
       "    </tr>\n",
       "    <tr>\n",
       "      <th>596962</th>\n",
       "      <td>1576459118</td>\n",
       "      <td>10.0.1.5</td>\n",
       "      <td>33903</td>\n",
       "      <td>131.236.3.92</td>\n",
       "      <td>53</td>\n",
       "      <td>2</td>\n",
       "      <td>16.0</td>\n",
       "      <td>0.000004</td>\n",
       "      <td>108.0</td>\n",
       "      <td>0.0</td>\n",
       "      <td>...</td>\n",
       "      <td>0.0</td>\n",
       "      <td>272</td>\n",
       "      <td>2.0</td>\n",
       "      <td>500000.000000</td>\n",
       "      <td>68000000.0</td>\n",
       "      <td>1.000000</td>\n",
       "      <td>0.000000</td>\n",
       "      <td>1.0</td>\n",
       "      <td>0.0</td>\n",
       "      <td>0</td>\n",
       "    </tr>\n",
       "  </tbody>\n",
       "</table>\n",
       "<p>596963 rows × 28 columns</p>\n",
       "</div>"
      ],
      "text/plain": [
       "         Timestamp          Scr_IP  Scr_port        Des_IP  Des_port  \\\n",
       "0       1578540956   192.168.2.199     49278  192.168.2.10        80   \n",
       "1       1578871873        10.0.1.5     39769  131.236.3.92        53   \n",
       "2       1578522486     172.24.1.80     59050    172.24.1.1        53   \n",
       "3       1582757640   192.168.2.196     37966  192.168.2.10      1880   \n",
       "4       1580452611  192.168.10.155     50502  192.168.2.10        80   \n",
       "...            ...             ...       ...           ...       ...   \n",
       "596958  1579041266   192.168.2.199     51292  192.168.2.10        80   \n",
       "596959  1579653575     172.24.1.80     45913    172.24.1.1      1880   \n",
       "596960  1579064398  192.168.10.153     53252  192.168.2.10        80   \n",
       "596961  1578374864   192.168.2.199     44451  192.168.2.10     19315   \n",
       "596962  1576459118        10.0.1.5     33903  131.236.3.92        53   \n",
       "\n",
       "        Protocol  Service   Duration  Scr_bytes  Des_bytes  ...  Des_ip_bytes  \\\n",
       "0              3     17.0   0.673690    13437.0    34924.0  ...       40392.0   \n",
       "1              2     16.0   0.000083       78.0        0.0  ...           0.0   \n",
       "2              2     16.0   0.000132       38.0       38.0  ...          66.0   \n",
       "3              3     13.0   9.378481     1121.0      484.0  ...         804.0   \n",
       "4              3     17.0   5.153928      460.0      671.0  ...        1878.0   \n",
       "...          ...      ...        ...        ...        ...  ...           ...   \n",
       "596958         3     17.0   0.205832      127.0      310.0  ...         578.0   \n",
       "596959         3     13.0  63.290477        0.0        0.0  ...         164.0   \n",
       "596960         3     17.0  14.787547    26091.0   604398.0  ...      625227.0   \n",
       "596961         3     14.0   0.000011        0.0        0.0  ...          40.0   \n",
       "596962         2     16.0   0.000004      108.0        0.0  ...           0.0   \n",
       "\n",
       "        total_bytes  total_packet     paket_rate    byte_rate  \\\n",
       "0            107658         210.0     311.716071  159803.4704   \n",
       "1               212           2.0   24096.385540  2554216.867   \n",
       "2               208           2.0   15151.515150  1575757.576   \n",
       "3              3954          14.0       1.492779   421.603456   \n",
       "4              4569          22.0       4.268589    886.50831   \n",
       "...             ...           ...            ...          ...   \n",
       "596958         1462          11.0      53.441642  7102.880019   \n",
       "596959          380           7.0       0.110601     6.004063   \n",
       "596960      1292591         784.0      53.017583  87410.77881   \n",
       "596961           84           2.0  181818.181800  7636363.636   \n",
       "596962          272           2.0  500000.000000   68000000.0   \n",
       "\n",
       "        Scr_packts_ratio Des_pkts_ratio  Scr_bytes_ratio  Des_bytes_ratio  \\\n",
       "0               0.500000       0.500000         0.300414         0.699586   \n",
       "1               1.000000       0.000000              1.0              0.0   \n",
       "2               0.500000       0.500000              0.5              0.5   \n",
       "3               0.571429       0.428571         0.674254         0.325746   \n",
       "4               0.545455       0.454545          0.44211          0.55789   \n",
       "...                  ...            ...              ...              ...   \n",
       "596958          0.545455       0.454545         0.392613         0.607387   \n",
       "596959          0.571429       0.428571         0.568421         0.431579   \n",
       "596960          0.343112       0.656888         0.048713         0.951287   \n",
       "596961          0.500000       0.500000          0.52381          0.47619   \n",
       "596962          1.000000       0.000000              1.0              0.0   \n",
       "\n",
       "       Login_attempt  \n",
       "0                  0  \n",
       "1                  0  \n",
       "2                  0  \n",
       "3                  1  \n",
       "4                  0  \n",
       "...              ...  \n",
       "596958             0  \n",
       "596959             0  \n",
       "596960             0  \n",
       "596961             0  \n",
       "596962             0  \n",
       "\n",
       "[596963 rows x 28 columns]"
      ]
     },
     "execution_count": 3,
     "metadata": {},
     "output_type": "execute_result"
    }
   ],
   "source": [
    "mydata"
   ]
  },
  {
   "cell_type": "code",
   "execution_count": 21,
   "id": "6bf3054d-fc15-4c46-8638-6ef2b54a4b25",
   "metadata": {},
   "outputs": [
    {
     "data": {
      "text/plain": [
       "0                 192.168.2.199\n",
       "1                   172.24.1.80\n",
       "2                192.168.10.153\n",
       "3                  192.168.2.10\n",
       "4                      10.0.1.5\n",
       "5                192.168.10.155\n",
       "6                  172.24.1.244\n",
       "7                  172.24.1.233\n",
       "8                     127.0.0.1\n",
       "9                   172.24.1.33\n",
       "10                  172.24.1.34\n",
       "11                192.168.2.196\n",
       "12                 172.24.1.213\n",
       "13                 172.24.1.199\n",
       "14                 172.24.1.100\n",
       "15                     10.0.1.1\n",
       "16                 192.168.2.15\n",
       "17                   172.24.1.1\n",
       "18                 172.24.1.101\n",
       "19     fe80::186a:2874:7a4d:636\n",
       "20    fe80::cd0a:9bbc:bd36:d371\n",
       "21     fe80::9dbf:575b:8abf:902\n",
       "22    fe80::1c1e:ef6b:4490:a231\n",
       "23              255.255.255.255\n",
       "24                      0.0.0.0\n",
       "25                  192.168.2.1\n",
       "26              169.254.211.113\n",
       "dtype: object"
      ]
     },
     "execution_count": 21,
     "metadata": {},
     "output_type": "execute_result"
    }
   ],
   "source": [
    "#Create a series of unique elements, ordered by frequency. This will be used as keys for the mapping\n",
    "S = pd.Series(mydata.Scr_IP.value_counts().index)\n",
    "\n",
    "S"
   ]
  },
  {
   "cell_type": "code",
   "execution_count": 26,
   "id": "0c2a8c16-6a23-416f-9d0d-0f7a0ea06363",
   "metadata": {},
   "outputs": [
    {
     "data": {
      "text/plain": [
       "27"
      ]
     },
     "execution_count": 26,
     "metadata": {},
     "output_type": "execute_result"
    }
   ],
   "source": [
    "len(S)"
   ]
  },
  {
   "cell_type": "code",
   "execution_count": 22,
   "id": "93fe2a36-2853-4b36-b7cc-1d55cae963f7",
   "metadata": {},
   "outputs": [
    {
     "data": {
      "text/plain": [
       "['192.168.2.199',\n",
       " '172.24.1.80',\n",
       " '192.168.10.153',\n",
       " '192.168.2.10',\n",
       " '10.0.1.5',\n",
       " '192.168.10.155',\n",
       " '172.24.1.244',\n",
       " '172.24.1.233',\n",
       " '127.0.0.1',\n",
       " '172.24.1.33',\n",
       " '172.24.1.34',\n",
       " '192.168.2.196',\n",
       " '172.24.1.213',\n",
       " '172.24.1.199',\n",
       " '172.24.1.100',\n",
       " '10.0.1.1',\n",
       " '192.168.2.15',\n",
       " '172.24.1.1',\n",
       " '172.24.1.101',\n",
       " 'fe80::186a:2874:7a4d:636',\n",
       " 'fe80::cd0a:9bbc:bd36:d371',\n",
       " 'fe80::9dbf:575b:8abf:902',\n",
       " 'fe80::1c1e:ef6b:4490:a231',\n",
       " '255.255.255.255',\n",
       " '0.0.0.0',\n",
       " '192.168.2.1',\n",
       " '169.254.211.113']"
      ]
     },
     "execution_count": 22,
     "metadata": {},
     "output_type": "execute_result"
    }
   ],
   "source": [
    "list(S)"
   ]
  },
  {
   "cell_type": "code",
   "execution_count": 23,
   "id": "371c53b9-455b-48b7-9e8d-2fcdd1b27fd2",
   "metadata": {},
   "outputs": [
    {
     "name": "stdout",
     "output_type": "stream",
     "text": [
      "{'192.168.2.199': 27, '172.24.1.80': 26, '192.168.10.153': 25, '192.168.2.10': 24, '10.0.1.5': 23, '192.168.10.155': 22, '172.24.1.244': 21, '172.24.1.233': 20, '127.0.0.1': 19, '172.24.1.33': 18, '172.24.1.34': 17, '192.168.2.196': 16, '172.24.1.213': 15, '172.24.1.199': 14, '172.24.1.100': 13, '10.0.1.1': 12, '192.168.2.15': 11, '172.24.1.1': 10, '172.24.1.101': 9, 'fe80::186a:2874:7a4d:636': 8, 'fe80::cd0a:9bbc:bd36:d371': 7, 'fe80::9dbf:575b:8abf:902': 6, 'fe80::1c1e:ef6b:4490:a231': 5, '255.255.255.255': 4, '0.0.0.0': 3, '192.168.2.1': 2, '169.254.211.113': 1}\n"
     ]
    }
   ],
   "source": [
    "keys = list(S)\n",
    "values = range(27, 0, -1)\n",
    "\n",
    "\n",
    "dictionary = {k: v for k, v in zip(keys, values)}\n",
    "\n",
    "# Display the dictionary\n",
    "print(dictionary)"
   ]
  },
  {
   "cell_type": "code",
   "execution_count": 24,
   "id": "b662252e-f55d-4945-a82e-ac7bf27e55ee",
   "metadata": {},
   "outputs": [],
   "source": [
    "mydata['Scr_IP'] = mydata['Scr_IP'].map(dictionary)"
   ]
  },
  {
   "cell_type": "code",
   "execution_count": 25,
   "id": "644964d1-46ef-4c71-93ce-1773d3fce2a1",
   "metadata": {},
   "outputs": [
    {
     "data": {
      "text/plain": [
       "27    102789\n",
       "26     83707\n",
       "25     55484\n",
       "24     53941\n",
       "23     51639\n",
       "22     51360\n",
       "21     40967\n",
       "20     36100\n",
       "19     33862\n",
       "18     20104\n",
       "17     16512\n",
       "16     16499\n",
       "15      7025\n",
       "14      6288\n",
       "13      5245\n",
       "12      5077\n",
       "11      4705\n",
       "10      4158\n",
       "9       1111\n",
       "8        157\n",
       "7        148\n",
       "6         63\n",
       "5         15\n",
       "4          3\n",
       "3          2\n",
       "2          1\n",
       "1          1\n",
       "Name: Scr_IP, dtype: int64"
      ]
     },
     "execution_count": 25,
     "metadata": {},
     "output_type": "execute_result"
    }
   ],
   "source": [
    "mydata.Scr_IP.value_counts()"
   ]
  },
  {
   "cell_type": "code",
   "execution_count": 28,
   "id": "095dfdaf-0ed8-4f21-bd3c-fc0e5bbe45f6",
   "metadata": {},
   "outputs": [],
   "source": [
    "def frequency_encode(df, variable):\n",
    "    S = pd.Series(df[variable].value_counts().index)\n",
    "    \n",
    "    keys = list(S)\n",
    "    values = range(len(S), 0, -1)\n",
    "    dictionary = {k: v for k, v in zip(keys, values)}\n",
    "    \n",
    "    df[variable] = df[variable].map(dictionary)\n"
   ]
  },
  {
   "cell_type": "code",
   "execution_count": 29,
   "id": "2e4cfca0-34fa-4c97-9da7-d03fbdbd8a90",
   "metadata": {},
   "outputs": [],
   "source": [
    "data = mydata.copy()"
   ]
  },
  {
   "cell_type": "code",
   "execution_count": 30,
   "id": "9069b373-0cb7-4be6-8256-24b415f6e821",
   "metadata": {},
   "outputs": [],
   "source": [
    "frequency_encode(data, 'Des_IP')"
   ]
  },
  {
   "cell_type": "code",
   "execution_count": 32,
   "id": "705bf01d-72c6-4cef-9203-936e794d683b",
   "metadata": {},
   "outputs": [
    {
     "data": {
      "text/plain": [
       "88    230514\n",
       "87    204558\n",
       "86     33862\n",
       "85     31013\n",
       "84     25836\n",
       "       ...  \n",
       "5          1\n",
       "4          1\n",
       "3          1\n",
       "2          1\n",
       "1          1\n",
       "Name: Des_IP, Length: 88, dtype: int64"
      ]
     },
     "execution_count": 32,
     "metadata": {},
     "output_type": "execute_result"
    }
   ],
   "source": [
    "data.Des_IP.value_counts()"
   ]
  },
  {
   "cell_type": "code",
   "execution_count": 33,
   "id": "9f4fdc32-0bc0-42ab-860b-e80891c1074d",
   "metadata": {},
   "outputs": [
    {
     "data": {
      "text/plain": [
       "192.168.2.10      230514\n",
       "172.24.1.1        204558\n",
       "127.0.0.1          33862\n",
       "192.168.2.199      31013\n",
       "131.236.3.92       25836\n",
       "                   ...  \n",
       "52.206.150.125         1\n",
       "157.240.8.19           1\n",
       "216.58.200.98          1\n",
       "157.240.9.48           1\n",
       "8.8.8.8                1\n",
       "Name: Des_IP, Length: 88, dtype: int64"
      ]
     },
     "execution_count": 33,
     "metadata": {},
     "output_type": "execute_result"
    }
   ],
   "source": [
    "mydata.Des_IP.value_counts()"
   ]
  },
  {
   "cell_type": "code",
   "execution_count": 34,
   "id": "d00da3ee-487a-48e6-be82-41fb68d47223",
   "metadata": {},
   "outputs": [],
   "source": [
    "frequency_encode(mydata, 'Des_IP')\n",
    "frequency_encode(mydata, 'Scr_port')\n",
    "frequency_encode(mydata, 'Des_port')"
   ]
  },
  {
   "cell_type": "code",
   "execution_count": 35,
   "id": "5e716a56-806c-493c-a6b8-4a887372efd8",
   "metadata": {},
   "outputs": [
    {
     "data": {
      "text/plain": [
       "Timestamp             int64\n",
       "Scr_IP                int64\n",
       "Scr_port              int64\n",
       "Des_IP                int64\n",
       "Des_port              int64\n",
       "Protocol              int64\n",
       "Service             float64\n",
       "Duration            float64\n",
       "Scr_bytes           float64\n",
       "Des_bytes           float64\n",
       "Conn_state            int64\n",
       "missed_bytes        float64\n",
       "is_syn_only           int64\n",
       "Is_SYN_ACK            int64\n",
       "is_with_payload       int64\n",
       "Scr_pkts            float64\n",
       "Scr_ip_bytes         object\n",
       "Des_pkts            float64\n",
       "Des_ip_bytes        float64\n",
       "total_bytes          object\n",
       "total_packet        float64\n",
       "paket_rate          float64\n",
       "byte_rate            object\n",
       "Scr_packts_ratio    float64\n",
       "Des_pkts_ratio      float64\n",
       "Scr_bytes_ratio      object\n",
       "Des_bytes_ratio      object\n",
       "Login_attempt         int64\n",
       "dtype: object"
      ]
     },
     "execution_count": 35,
     "metadata": {},
     "output_type": "execute_result"
    }
   ],
   "source": [
    "mydata.dtypes"
   ]
  },
  {
   "cell_type": "code",
   "execution_count": 44,
   "id": "7fca97d1-7c6e-4747-b46a-9fcebc556dba",
   "metadata": {},
   "outputs": [
    {
     "data": {
      "text/html": [
       "<div>\n",
       "<style scoped>\n",
       "    .dataframe tbody tr th:only-of-type {\n",
       "        vertical-align: middle;\n",
       "    }\n",
       "\n",
       "    .dataframe tbody tr th {\n",
       "        vertical-align: top;\n",
       "    }\n",
       "\n",
       "    .dataframe thead th {\n",
       "        text-align: right;\n",
       "    }\n",
       "</style>\n",
       "<table border=\"1\" class=\"dataframe\">\n",
       "  <thead>\n",
       "    <tr style=\"text-align: right;\">\n",
       "      <th></th>\n",
       "      <th>Timestamp</th>\n",
       "      <th>Scr_IP</th>\n",
       "      <th>Scr_port</th>\n",
       "      <th>Des_IP</th>\n",
       "      <th>Des_port</th>\n",
       "      <th>Protocol</th>\n",
       "      <th>Service</th>\n",
       "      <th>Duration</th>\n",
       "      <th>Scr_bytes</th>\n",
       "      <th>Des_bytes</th>\n",
       "      <th>...</th>\n",
       "      <th>Des_ip_bytes</th>\n",
       "      <th>total_bytes</th>\n",
       "      <th>total_packet</th>\n",
       "      <th>paket_rate</th>\n",
       "      <th>byte_rate</th>\n",
       "      <th>Scr_packts_ratio</th>\n",
       "      <th>Des_pkts_ratio</th>\n",
       "      <th>Scr_bytes_ratio</th>\n",
       "      <th>Des_bytes_ratio</th>\n",
       "      <th>Login_attempt</th>\n",
       "    </tr>\n",
       "  </thead>\n",
       "  <tbody>\n",
       "  </tbody>\n",
       "</table>\n",
       "<p>0 rows × 28 columns</p>\n",
       "</div>"
      ],
      "text/plain": [
       "Empty DataFrame\n",
       "Columns: [Timestamp, Scr_IP, Scr_port, Des_IP, Des_port, Protocol, Service, Duration, Scr_bytes, Des_bytes, Conn_state, missed_bytes, is_syn_only, Is_SYN_ACK, is_with_payload, Scr_pkts, Scr_ip_bytes, Des_pkts, Des_ip_bytes, total_bytes, total_packet, paket_rate, byte_rate, Scr_packts_ratio, Des_pkts_ratio, Scr_bytes_ratio, Des_bytes_ratio, Login_attempt]\n",
       "Index: []\n",
       "\n",
       "[0 rows x 28 columns]"
      ]
     },
     "execution_count": 44,
     "metadata": {},
     "output_type": "execute_result"
    }
   ],
   "source": [
    "mydata.loc[mydata.Scr_ip_bytes == '-']"
   ]
  },
  {
   "cell_type": "code",
   "execution_count": 45,
   "id": "87bff34c-e387-4e4a-aebe-12a09094c45b",
   "metadata": {},
   "outputs": [
    {
     "data": {
      "text/plain": [
       "65       49997\n",
       "44       37855\n",
       "1180     33443\n",
       "60       25846\n",
       "268      22659\n",
       "         ...  \n",
       "26486        1\n",
       "33273        1\n",
       "32544        1\n",
       "9629         1\n",
       "36875        1\n",
       "Name: Scr_ip_bytes, Length: 36265, dtype: int64"
      ]
     },
     "execution_count": 45,
     "metadata": {},
     "output_type": "execute_result"
    }
   ],
   "source": [
    "mydata.Scr_ip_bytes.value_counts()"
   ]
  },
  {
   "cell_type": "code",
   "execution_count": 46,
   "id": "85e4aa8b-f89f-409f-b94b-0f4cf1e26f46",
   "metadata": {},
   "outputs": [],
   "source": [
    "column_name = 'Scr_ip_bytes'\n",
    "\n",
    "non_numeric_values = mydata.loc[~pd.to_numeric(mydata[column_name], errors='coerce').notnull(), column_name]"
   ]
  },
  {
   "cell_type": "code",
   "execution_count": 47,
   "id": "f1c474d3-a938-4b69-ab2a-66bd934fc462",
   "metadata": {},
   "outputs": [
    {
     "data": {
      "text/plain": [
       "514280    excel\n",
       "Name: Scr_ip_bytes, dtype: object"
      ]
     },
     "execution_count": 47,
     "metadata": {},
     "output_type": "execute_result"
    }
   ],
   "source": [
    "non_numeric_values"
   ]
  },
  {
   "cell_type": "code",
   "execution_count": 50,
   "id": "a76f159b-4506-4cdd-a80b-b6ba5d6e3796",
   "metadata": {},
   "outputs": [
    {
     "data": {
      "text/plain": [
       "Timestamp            1579041213\n",
       "Scr_IP                       26\n",
       "Scr_port                   9041\n",
       "Des_IP                       87\n",
       "Des_port                   6301\n",
       "Protocol                      2\n",
       "Service                    16.0\n",
       "Duration               0.000351\n",
       "Scr_bytes                  37.0\n",
       "Des_bytes                  37.0\n",
       "Conn_state                    1\n",
       "missed_bytes                0.0\n",
       "is_syn_only                   0\n",
       "Is_SYN_ACK                    0\n",
       "is_with_payload               1\n",
       "Scr_pkts                    1.0\n",
       "Scr_ip_bytes              excel\n",
       "Des_pkts                    1.0\n",
       "Des_ip_bytes               65.0\n",
       "total_bytes                   -\n",
       "total_packet                2.0\n",
       "paket_rate          5698.005698\n",
       "byte_rate                     ?\n",
       "Scr_packts_ratio            0.5\n",
       "Des_pkts_ratio              0.5\n",
       "Scr_bytes_ratio               -\n",
       "Des_bytes_ratio               -\n",
       "Login_attempt                 0\n",
       "Name: 514280, dtype: object"
      ]
     },
     "execution_count": 50,
     "metadata": {},
     "output_type": "execute_result"
    }
   ],
   "source": [
    "mydata.loc[514280]"
   ]
  },
  {
   "cell_type": "code",
   "execution_count": 51,
   "id": "aeef8d26-07a2-48e6-8301-924aaf2d776e",
   "metadata": {},
   "outputs": [],
   "source": [
    "mydata.drop(514280, axis = 0, inplace = True)"
   ]
  },
  {
   "cell_type": "code",
   "execution_count": 53,
   "id": "e06d7897-5d57-4ce1-8985-4d8f771d6dd7",
   "metadata": {},
   "outputs": [
    {
     "name": "stdout",
     "output_type": "stream",
     "text": [
      "Column contains only number:  True\n"
     ]
    }
   ],
   "source": [
    "is_numeric = pd.to_numeric(mydata['Scr_ip_bytes'], errors='coerce').notnull().all()\n",
    "\n",
    "\n",
    "print(\"Column contains only number: \", is_numeric)"
   ]
  },
  {
   "cell_type": "code",
   "execution_count": 54,
   "id": "fc1313cf-10d5-42f1-a8df-acf4a7121e88",
   "metadata": {},
   "outputs": [
    {
     "name": "stdout",
     "output_type": "stream",
     "text": [
      "Column contains only number:  True\n"
     ]
    }
   ],
   "source": [
    "is_numeric = pd.to_numeric(mydata['total_bytes'], errors='coerce').notnull().all()\n",
    "\n",
    "\n",
    "print(\"Column contains only number: \", is_numeric)"
   ]
  },
  {
   "cell_type": "code",
   "execution_count": 55,
   "id": "aa026800-83f0-45b9-bbee-5a966a6c207f",
   "metadata": {},
   "outputs": [
    {
     "name": "stdout",
     "output_type": "stream",
     "text": [
      "Column contains only number:  True\n"
     ]
    }
   ],
   "source": [
    "is_numeric = pd.to_numeric(mydata['Scr_bytes_ratio'], errors='coerce').notnull().all()\n",
    "\n",
    "\n",
    "print(\"Column contains only number: \", is_numeric)"
   ]
  },
  {
   "cell_type": "code",
   "execution_count": 56,
   "id": "c7705d36-5502-4bc6-afa4-2c054fea6a2e",
   "metadata": {},
   "outputs": [
    {
     "name": "stdout",
     "output_type": "stream",
     "text": [
      "Column contains only number:  True\n"
     ]
    }
   ],
   "source": [
    "is_numeric = pd.to_numeric(mydata['Des_bytes_ratio'], errors='coerce').notnull().all()\n",
    "\n",
    "\n",
    "print(\"Column contains only number: \", is_numeric)"
   ]
  },
  {
   "cell_type": "code",
   "execution_count": 60,
   "id": "3b4da710-fe68-4adf-847c-a59412aa032d",
   "metadata": {},
   "outputs": [
    {
     "name": "stdout",
     "output_type": "stream",
     "text": [
      "Column contains only number:  True\n"
     ]
    }
   ],
   "source": [
    "is_numeric = pd.to_numeric(mydata['byte_rate'], errors='coerce').notnull().all()\n",
    "\n",
    "\n",
    "print(\"Column contains only number: \", is_numeric)"
   ]
  },
  {
   "cell_type": "code",
   "execution_count": 61,
   "id": "3d24ff2a-83c6-42fd-81f0-b4e8b806e8df",
   "metadata": {},
   "outputs": [],
   "source": [
    "mydata['Scr_ip_bytes'] = mydata['Scr_ip_bytes'].astype(float)\n",
    "mydata['total_bytes'] = mydata['total_bytes'].astype(float)\n",
    "mydata['Scr_bytes_ratio'] = mydata['Scr_bytes_ratio'].astype(float)\n",
    "mydata['Des_bytes_ratio'] = mydata['Des_bytes_ratio'].astype(float)\n",
    "mydata['byte_rate'] = mydata['byte_rate'].astype(float)"
   ]
  },
  {
   "cell_type": "code",
   "execution_count": 62,
   "id": "97400dd8-09f8-4a68-88a8-d35f9255e00c",
   "metadata": {},
   "outputs": [
    {
     "data": {
      "text/plain": [
       "Timestamp             int64\n",
       "Scr_IP                int64\n",
       "Scr_port              int64\n",
       "Des_IP                int64\n",
       "Des_port              int64\n",
       "Protocol              int64\n",
       "Service             float64\n",
       "Duration            float64\n",
       "Scr_bytes           float64\n",
       "Des_bytes           float64\n",
       "Conn_state            int64\n",
       "missed_bytes        float64\n",
       "is_syn_only           int64\n",
       "Is_SYN_ACK            int64\n",
       "is_with_payload       int64\n",
       "Scr_pkts            float64\n",
       "Scr_ip_bytes        float64\n",
       "Des_pkts            float64\n",
       "Des_ip_bytes        float64\n",
       "total_bytes         float64\n",
       "total_packet        float64\n",
       "paket_rate          float64\n",
       "byte_rate           float64\n",
       "Scr_packts_ratio    float64\n",
       "Des_pkts_ratio      float64\n",
       "Scr_bytes_ratio     float64\n",
       "Des_bytes_ratio     float64\n",
       "Login_attempt         int64\n",
       "dtype: object"
      ]
     },
     "execution_count": 62,
     "metadata": {},
     "output_type": "execute_result"
    }
   ],
   "source": [
    "mydata.dtypes"
   ]
  },
  {
   "cell_type": "code",
   "execution_count": 59,
   "id": "4ecaf31b-65b7-4114-bcb8-482feeae3fc4",
   "metadata": {},
   "outputs": [
    {
     "data": {
      "text/plain": [
       "Series([], Name: byte_rate, dtype: object)"
      ]
     },
     "execution_count": 59,
     "metadata": {},
     "output_type": "execute_result"
    }
   ],
   "source": [
    "column_name = 'byte_rate'\n",
    "\n",
    "non_numeric_values = mydata.loc[~pd.to_numeric(mydata[column_name], errors='coerce').notnull(), column_name]\n",
    "non_numeric_values"
   ]
  },
  {
   "cell_type": "code",
   "execution_count": 63,
   "id": "3b839352-f819-41de-b995-8c2df618aea3",
   "metadata": {},
   "outputs": [
    {
     "data": {
      "text/html": [
       "<div>\n",
       "<style scoped>\n",
       "    .dataframe tbody tr th:only-of-type {\n",
       "        vertical-align: middle;\n",
       "    }\n",
       "\n",
       "    .dataframe tbody tr th {\n",
       "        vertical-align: top;\n",
       "    }\n",
       "\n",
       "    .dataframe thead th {\n",
       "        text-align: right;\n",
       "    }\n",
       "</style>\n",
       "<table border=\"1\" class=\"dataframe\">\n",
       "  <thead>\n",
       "    <tr style=\"text-align: right;\">\n",
       "      <th></th>\n",
       "      <th>Timestamp</th>\n",
       "      <th>Scr_IP</th>\n",
       "      <th>Scr_port</th>\n",
       "      <th>Des_IP</th>\n",
       "      <th>Des_port</th>\n",
       "      <th>Protocol</th>\n",
       "      <th>Service</th>\n",
       "      <th>Duration</th>\n",
       "      <th>Scr_bytes</th>\n",
       "      <th>Des_bytes</th>\n",
       "      <th>...</th>\n",
       "      <th>Des_ip_bytes</th>\n",
       "      <th>total_bytes</th>\n",
       "      <th>total_packet</th>\n",
       "      <th>paket_rate</th>\n",
       "      <th>byte_rate</th>\n",
       "      <th>Scr_packts_ratio</th>\n",
       "      <th>Des_pkts_ratio</th>\n",
       "      <th>Scr_bytes_ratio</th>\n",
       "      <th>Des_bytes_ratio</th>\n",
       "      <th>Login_attempt</th>\n",
       "    </tr>\n",
       "  </thead>\n",
       "  <tbody>\n",
       "    <tr>\n",
       "      <th>0</th>\n",
       "      <td>1578540956</td>\n",
       "      <td>27</td>\n",
       "      <td>53493</td>\n",
       "      <td>88</td>\n",
       "      <td>6302</td>\n",
       "      <td>3</td>\n",
       "      <td>17.0</td>\n",
       "      <td>0.673690</td>\n",
       "      <td>13437.0</td>\n",
       "      <td>34924.0</td>\n",
       "      <td>...</td>\n",
       "      <td>40392.0</td>\n",
       "      <td>107658.0</td>\n",
       "      <td>210.0</td>\n",
       "      <td>311.716071</td>\n",
       "      <td>1.598035e+05</td>\n",
       "      <td>0.500000</td>\n",
       "      <td>0.500000</td>\n",
       "      <td>0.300414</td>\n",
       "      <td>0.699586</td>\n",
       "      <td>0</td>\n",
       "    </tr>\n",
       "    <tr>\n",
       "      <th>1</th>\n",
       "      <td>1578871873</td>\n",
       "      <td>23</td>\n",
       "      <td>35791</td>\n",
       "      <td>84</td>\n",
       "      <td>6301</td>\n",
       "      <td>2</td>\n",
       "      <td>16.0</td>\n",
       "      <td>0.000083</td>\n",
       "      <td>78.0</td>\n",
       "      <td>0.0</td>\n",
       "      <td>...</td>\n",
       "      <td>0.0</td>\n",
       "      <td>212.0</td>\n",
       "      <td>2.0</td>\n",
       "      <td>24096.385540</td>\n",
       "      <td>2.554217e+06</td>\n",
       "      <td>1.000000</td>\n",
       "      <td>0.000000</td>\n",
       "      <td>1.000000</td>\n",
       "      <td>0.000000</td>\n",
       "      <td>0</td>\n",
       "    </tr>\n",
       "    <tr>\n",
       "      <th>2</th>\n",
       "      <td>1578522486</td>\n",
       "      <td>26</td>\n",
       "      <td>44663</td>\n",
       "      <td>87</td>\n",
       "      <td>6301</td>\n",
       "      <td>2</td>\n",
       "      <td>16.0</td>\n",
       "      <td>0.000132</td>\n",
       "      <td>38.0</td>\n",
       "      <td>38.0</td>\n",
       "      <td>...</td>\n",
       "      <td>66.0</td>\n",
       "      <td>208.0</td>\n",
       "      <td>2.0</td>\n",
       "      <td>15151.515150</td>\n",
       "      <td>1.575758e+06</td>\n",
       "      <td>0.500000</td>\n",
       "      <td>0.500000</td>\n",
       "      <td>0.500000</td>\n",
       "      <td>0.500000</td>\n",
       "      <td>0</td>\n",
       "    </tr>\n",
       "    <tr>\n",
       "      <th>3</th>\n",
       "      <td>1582757640</td>\n",
       "      <td>16</td>\n",
       "      <td>37043</td>\n",
       "      <td>88</td>\n",
       "      <td>6299</td>\n",
       "      <td>3</td>\n",
       "      <td>13.0</td>\n",
       "      <td>9.378481</td>\n",
       "      <td>1121.0</td>\n",
       "      <td>484.0</td>\n",
       "      <td>...</td>\n",
       "      <td>804.0</td>\n",
       "      <td>3954.0</td>\n",
       "      <td>14.0</td>\n",
       "      <td>1.492779</td>\n",
       "      <td>4.216035e+02</td>\n",
       "      <td>0.571429</td>\n",
       "      <td>0.428571</td>\n",
       "      <td>0.674254</td>\n",
       "      <td>0.325746</td>\n",
       "      <td>1</td>\n",
       "    </tr>\n",
       "    <tr>\n",
       "      <th>4</th>\n",
       "      <td>1580452611</td>\n",
       "      <td>22</td>\n",
       "      <td>53925</td>\n",
       "      <td>88</td>\n",
       "      <td>6302</td>\n",
       "      <td>3</td>\n",
       "      <td>17.0</td>\n",
       "      <td>5.153928</td>\n",
       "      <td>460.0</td>\n",
       "      <td>671.0</td>\n",
       "      <td>...</td>\n",
       "      <td>1878.0</td>\n",
       "      <td>4569.0</td>\n",
       "      <td>22.0</td>\n",
       "      <td>4.268589</td>\n",
       "      <td>8.865083e+02</td>\n",
       "      <td>0.545455</td>\n",
       "      <td>0.454545</td>\n",
       "      <td>0.442110</td>\n",
       "      <td>0.557890</td>\n",
       "      <td>0</td>\n",
       "    </tr>\n",
       "    <tr>\n",
       "      <th>...</th>\n",
       "      <td>...</td>\n",
       "      <td>...</td>\n",
       "      <td>...</td>\n",
       "      <td>...</td>\n",
       "      <td>...</td>\n",
       "      <td>...</td>\n",
       "      <td>...</td>\n",
       "      <td>...</td>\n",
       "      <td>...</td>\n",
       "      <td>...</td>\n",
       "      <td>...</td>\n",
       "      <td>...</td>\n",
       "      <td>...</td>\n",
       "      <td>...</td>\n",
       "      <td>...</td>\n",
       "      <td>...</td>\n",
       "      <td>...</td>\n",
       "      <td>...</td>\n",
       "      <td>...</td>\n",
       "      <td>...</td>\n",
       "      <td>...</td>\n",
       "    </tr>\n",
       "    <tr>\n",
       "      <th>596958</th>\n",
       "      <td>1579041266</td>\n",
       "      <td>27</td>\n",
       "      <td>54623</td>\n",
       "      <td>88</td>\n",
       "      <td>6302</td>\n",
       "      <td>3</td>\n",
       "      <td>17.0</td>\n",
       "      <td>0.205832</td>\n",
       "      <td>127.0</td>\n",
       "      <td>310.0</td>\n",
       "      <td>...</td>\n",
       "      <td>578.0</td>\n",
       "      <td>1462.0</td>\n",
       "      <td>11.0</td>\n",
       "      <td>53.441642</td>\n",
       "      <td>7.102880e+03</td>\n",
       "      <td>0.545455</td>\n",
       "      <td>0.454545</td>\n",
       "      <td>0.392613</td>\n",
       "      <td>0.607387</td>\n",
       "      <td>0</td>\n",
       "    </tr>\n",
       "    <tr>\n",
       "      <th>596959</th>\n",
       "      <td>1579653575</td>\n",
       "      <td>26</td>\n",
       "      <td>39133</td>\n",
       "      <td>87</td>\n",
       "      <td>6299</td>\n",
       "      <td>3</td>\n",
       "      <td>13.0</td>\n",
       "      <td>63.290477</td>\n",
       "      <td>0.0</td>\n",
       "      <td>0.0</td>\n",
       "      <td>...</td>\n",
       "      <td>164.0</td>\n",
       "      <td>380.0</td>\n",
       "      <td>7.0</td>\n",
       "      <td>0.110601</td>\n",
       "      <td>6.004063e+00</td>\n",
       "      <td>0.571429</td>\n",
       "      <td>0.428571</td>\n",
       "      <td>0.568421</td>\n",
       "      <td>0.431579</td>\n",
       "      <td>0</td>\n",
       "    </tr>\n",
       "    <tr>\n",
       "      <th>596960</th>\n",
       "      <td>1579064398</td>\n",
       "      <td>25</td>\n",
       "      <td>52361</td>\n",
       "      <td>88</td>\n",
       "      <td>6302</td>\n",
       "      <td>3</td>\n",
       "      <td>17.0</td>\n",
       "      <td>14.787547</td>\n",
       "      <td>26091.0</td>\n",
       "      <td>604398.0</td>\n",
       "      <td>...</td>\n",
       "      <td>625227.0</td>\n",
       "      <td>1292591.0</td>\n",
       "      <td>784.0</td>\n",
       "      <td>53.017583</td>\n",
       "      <td>8.741078e+04</td>\n",
       "      <td>0.343112</td>\n",
       "      <td>0.656888</td>\n",
       "      <td>0.048713</td>\n",
       "      <td>0.951287</td>\n",
       "      <td>0</td>\n",
       "    </tr>\n",
       "    <tr>\n",
       "      <th>596961</th>\n",
       "      <td>1578374864</td>\n",
       "      <td>27</td>\n",
       "      <td>55056</td>\n",
       "      <td>88</td>\n",
       "      <td>6069</td>\n",
       "      <td>3</td>\n",
       "      <td>14.0</td>\n",
       "      <td>0.000011</td>\n",
       "      <td>0.0</td>\n",
       "      <td>0.0</td>\n",
       "      <td>...</td>\n",
       "      <td>40.0</td>\n",
       "      <td>84.0</td>\n",
       "      <td>2.0</td>\n",
       "      <td>181818.181800</td>\n",
       "      <td>7.636364e+06</td>\n",
       "      <td>0.500000</td>\n",
       "      <td>0.500000</td>\n",
       "      <td>0.523810</td>\n",
       "      <td>0.476190</td>\n",
       "      <td>0</td>\n",
       "    </tr>\n",
       "    <tr>\n",
       "      <th>596962</th>\n",
       "      <td>1576459118</td>\n",
       "      <td>23</td>\n",
       "      <td>35353</td>\n",
       "      <td>84</td>\n",
       "      <td>6301</td>\n",
       "      <td>2</td>\n",
       "      <td>16.0</td>\n",
       "      <td>0.000004</td>\n",
       "      <td>108.0</td>\n",
       "      <td>0.0</td>\n",
       "      <td>...</td>\n",
       "      <td>0.0</td>\n",
       "      <td>272.0</td>\n",
       "      <td>2.0</td>\n",
       "      <td>500000.000000</td>\n",
       "      <td>6.800000e+07</td>\n",
       "      <td>1.000000</td>\n",
       "      <td>0.000000</td>\n",
       "      <td>1.000000</td>\n",
       "      <td>0.000000</td>\n",
       "      <td>0</td>\n",
       "    </tr>\n",
       "  </tbody>\n",
       "</table>\n",
       "<p>596962 rows × 28 columns</p>\n",
       "</div>"
      ],
      "text/plain": [
       "         Timestamp  Scr_IP  Scr_port  Des_IP  Des_port  Protocol  Service  \\\n",
       "0       1578540956      27     53493      88      6302         3     17.0   \n",
       "1       1578871873      23     35791      84      6301         2     16.0   \n",
       "2       1578522486      26     44663      87      6301         2     16.0   \n",
       "3       1582757640      16     37043      88      6299         3     13.0   \n",
       "4       1580452611      22     53925      88      6302         3     17.0   \n",
       "...            ...     ...       ...     ...       ...       ...      ...   \n",
       "596958  1579041266      27     54623      88      6302         3     17.0   \n",
       "596959  1579653575      26     39133      87      6299         3     13.0   \n",
       "596960  1579064398      25     52361      88      6302         3     17.0   \n",
       "596961  1578374864      27     55056      88      6069         3     14.0   \n",
       "596962  1576459118      23     35353      84      6301         2     16.0   \n",
       "\n",
       "         Duration  Scr_bytes  Des_bytes  ...  Des_ip_bytes  total_bytes  \\\n",
       "0        0.673690    13437.0    34924.0  ...       40392.0     107658.0   \n",
       "1        0.000083       78.0        0.0  ...           0.0        212.0   \n",
       "2        0.000132       38.0       38.0  ...          66.0        208.0   \n",
       "3        9.378481     1121.0      484.0  ...         804.0       3954.0   \n",
       "4        5.153928      460.0      671.0  ...        1878.0       4569.0   \n",
       "...           ...        ...        ...  ...           ...          ...   \n",
       "596958   0.205832      127.0      310.0  ...         578.0       1462.0   \n",
       "596959  63.290477        0.0        0.0  ...         164.0        380.0   \n",
       "596960  14.787547    26091.0   604398.0  ...      625227.0    1292591.0   \n",
       "596961   0.000011        0.0        0.0  ...          40.0         84.0   \n",
       "596962   0.000004      108.0        0.0  ...           0.0        272.0   \n",
       "\n",
       "        total_packet     paket_rate     byte_rate  Scr_packts_ratio  \\\n",
       "0              210.0     311.716071  1.598035e+05          0.500000   \n",
       "1                2.0   24096.385540  2.554217e+06          1.000000   \n",
       "2                2.0   15151.515150  1.575758e+06          0.500000   \n",
       "3               14.0       1.492779  4.216035e+02          0.571429   \n",
       "4               22.0       4.268589  8.865083e+02          0.545455   \n",
       "...              ...            ...           ...               ...   \n",
       "596958          11.0      53.441642  7.102880e+03          0.545455   \n",
       "596959           7.0       0.110601  6.004063e+00          0.571429   \n",
       "596960         784.0      53.017583  8.741078e+04          0.343112   \n",
       "596961           2.0  181818.181800  7.636364e+06          0.500000   \n",
       "596962           2.0  500000.000000  6.800000e+07          1.000000   \n",
       "\n",
       "        Des_pkts_ratio  Scr_bytes_ratio  Des_bytes_ratio  Login_attempt  \n",
       "0             0.500000         0.300414         0.699586              0  \n",
       "1             0.000000         1.000000         0.000000              0  \n",
       "2             0.500000         0.500000         0.500000              0  \n",
       "3             0.428571         0.674254         0.325746              1  \n",
       "4             0.454545         0.442110         0.557890              0  \n",
       "...                ...              ...              ...            ...  \n",
       "596958        0.454545         0.392613         0.607387              0  \n",
       "596959        0.428571         0.568421         0.431579              0  \n",
       "596960        0.656888         0.048713         0.951287              0  \n",
       "596961        0.500000         0.523810         0.476190              0  \n",
       "596962        0.000000         1.000000         0.000000              0  \n",
       "\n",
       "[596962 rows x 28 columns]"
      ]
     },
     "execution_count": 63,
     "metadata": {},
     "output_type": "execute_result"
    }
   ],
   "source": [
    "mydata"
   ]
  },
  {
   "cell_type": "code",
   "execution_count": 67,
   "id": "861ddbdd-110b-431b-9478-7044a379b674",
   "metadata": {},
   "outputs": [],
   "source": [
    "scaler = MinMaxScaler()\n",
    "\n",
    "data = scaler.fit_transform(mydata)\n",
    "\n",
    "mydata = pd.DataFrame(data, columns = mydata.columns)"
   ]
  },
  {
   "cell_type": "code",
   "execution_count": 50,
   "id": "71e81b6c-b65c-48a8-9659-6322ef6ddbc3",
   "metadata": {},
   "outputs": [
    {
     "ename": "NotFittedError",
     "evalue": "This MinMaxScaler instance is not fitted yet. Call 'fit' with appropriate arguments before using this estimator.",
     "output_type": "error",
     "traceback": [
      "\u001b[1;31m---------------------------------------------------------------------------\u001b[0m",
      "\u001b[1;31mNotFittedError\u001b[0m                            Traceback (most recent call last)",
      "Cell \u001b[1;32mIn[50], line 3\u001b[0m\n\u001b[0;32m      1\u001b[0m scaler \u001b[38;5;241m=\u001b[39m MinMaxScaler()\n\u001b[1;32m----> 3\u001b[0m org_data \u001b[38;5;241m=\u001b[39m \u001b[43mscaler\u001b[49m\u001b[38;5;241;43m.\u001b[39;49m\u001b[43minverse_transform\u001b[49m\u001b[43m(\u001b[49m\u001b[43mmydata\u001b[49m\u001b[43m)\u001b[49m\n",
      "File \u001b[1;32m~\\anaconda3\\lib\\site-packages\\sklearn\\preprocessing\\_data.py:535\u001b[0m, in \u001b[0;36mMinMaxScaler.inverse_transform\u001b[1;34m(self, X)\u001b[0m\n\u001b[0;32m    522\u001b[0m \u001b[38;5;28;01mdef\u001b[39;00m \u001b[38;5;21minverse_transform\u001b[39m(\u001b[38;5;28mself\u001b[39m, X):\n\u001b[0;32m    523\u001b[0m     \u001b[38;5;124;03m\"\"\"Undo the scaling of X according to feature_range.\u001b[39;00m\n\u001b[0;32m    524\u001b[0m \n\u001b[0;32m    525\u001b[0m \u001b[38;5;124;03m    Parameters\u001b[39;00m\n\u001b[1;32m   (...)\u001b[0m\n\u001b[0;32m    533\u001b[0m \u001b[38;5;124;03m        Transformed data.\u001b[39;00m\n\u001b[0;32m    534\u001b[0m \u001b[38;5;124;03m    \"\"\"\u001b[39;00m\n\u001b[1;32m--> 535\u001b[0m     \u001b[43mcheck_is_fitted\u001b[49m\u001b[43m(\u001b[49m\u001b[38;5;28;43mself\u001b[39;49m\u001b[43m)\u001b[49m\n\u001b[0;32m    537\u001b[0m     X \u001b[38;5;241m=\u001b[39m check_array(\n\u001b[0;32m    538\u001b[0m         X, copy\u001b[38;5;241m=\u001b[39m\u001b[38;5;28mself\u001b[39m\u001b[38;5;241m.\u001b[39mcopy, dtype\u001b[38;5;241m=\u001b[39mFLOAT_DTYPES, force_all_finite\u001b[38;5;241m=\u001b[39m\u001b[38;5;124m\"\u001b[39m\u001b[38;5;124mallow-nan\u001b[39m\u001b[38;5;124m\"\u001b[39m\n\u001b[0;32m    539\u001b[0m     )\n\u001b[0;32m    541\u001b[0m     X \u001b[38;5;241m-\u001b[39m\u001b[38;5;241m=\u001b[39m \u001b[38;5;28mself\u001b[39m\u001b[38;5;241m.\u001b[39mmin_\n",
      "File \u001b[1;32m~\\anaconda3\\lib\\site-packages\\sklearn\\utils\\validation.py:1390\u001b[0m, in \u001b[0;36mcheck_is_fitted\u001b[1;34m(estimator, attributes, msg, all_or_any)\u001b[0m\n\u001b[0;32m   1385\u001b[0m     fitted \u001b[38;5;241m=\u001b[39m [\n\u001b[0;32m   1386\u001b[0m         v \u001b[38;5;28;01mfor\u001b[39;00m v \u001b[38;5;129;01min\u001b[39;00m \u001b[38;5;28mvars\u001b[39m(estimator) \u001b[38;5;28;01mif\u001b[39;00m v\u001b[38;5;241m.\u001b[39mendswith(\u001b[38;5;124m\"\u001b[39m\u001b[38;5;124m_\u001b[39m\u001b[38;5;124m\"\u001b[39m) \u001b[38;5;129;01mand\u001b[39;00m \u001b[38;5;129;01mnot\u001b[39;00m v\u001b[38;5;241m.\u001b[39mstartswith(\u001b[38;5;124m\"\u001b[39m\u001b[38;5;124m__\u001b[39m\u001b[38;5;124m\"\u001b[39m)\n\u001b[0;32m   1387\u001b[0m     ]\n\u001b[0;32m   1389\u001b[0m \u001b[38;5;28;01mif\u001b[39;00m \u001b[38;5;129;01mnot\u001b[39;00m fitted:\n\u001b[1;32m-> 1390\u001b[0m     \u001b[38;5;28;01mraise\u001b[39;00m NotFittedError(msg \u001b[38;5;241m%\u001b[39m {\u001b[38;5;124m\"\u001b[39m\u001b[38;5;124mname\u001b[39m\u001b[38;5;124m\"\u001b[39m: \u001b[38;5;28mtype\u001b[39m(estimator)\u001b[38;5;241m.\u001b[39m\u001b[38;5;18m__name__\u001b[39m})\n",
      "\u001b[1;31mNotFittedError\u001b[0m: This MinMaxScaler instance is not fitted yet. Call 'fit' with appropriate arguments before using this estimator."
     ]
    }
   ],
   "source": [
    "scaler = MinMaxScaler()\n",
    "\n",
    "org_data = scaler.inverse_transform(mydata)"
   ]
  },
  {
   "cell_type": "code",
   "execution_count": 84,
   "id": "dcb6421e-a5cc-4b6a-98bb-f297426c80b0",
   "metadata": {},
   "outputs": [],
   "source": [
    "classifier = KMeans(n_clusters = 6)"
   ]
  },
  {
   "cell_type": "code",
   "execution_count": null,
   "id": "4934e671-30e6-4dfd-bbff-d259842b2f97",
   "metadata": {},
   "outputs": [],
   "source": [
    "y_predicted = classifier.fit_predict(mydata)"
   ]
  },
  {
   "cell_type": "code",
   "execution_count": 86,
   "id": "6856012c-167b-41af-8728-05e2764b81ec",
   "metadata": {},
   "outputs": [
    {
     "data": {
      "text/plain": [
       "array([4, 3, 0, ..., 1, 2, 3])"
      ]
     },
     "execution_count": 86,
     "metadata": {},
     "output_type": "execute_result"
    }
   ],
   "source": [
    "y_predicted"
   ]
  },
  {
   "cell_type": "code",
   "execution_count": 74,
   "id": "cee139b0-5d57-49ec-b530-656ff958c2ac",
   "metadata": {},
   "outputs": [
    {
     "name": "stdout",
     "output_type": "stream",
     "text": [
      "235733.62458158867\n"
     ]
    }
   ],
   "source": [
    "print(classifier.inertia_)"
   ]
  },
  {
   "cell_type": "code",
   "execution_count": null,
   "id": "a6b551cb-3f6f-4324-b542-eee849e1f3ba",
   "metadata": {},
   "outputs": [],
   "source": [
    "k_range = range(3,10)\n",
    "sse = []\n",
    "for k in k_range:\n",
    "    km = KMeans(n_clusters = k)\n",
    "    km.fit(data)\n",
    "    sse.append(km.inertia_)"
   ]
  },
  {
   "cell_type": "code",
   "execution_count": null,
   "id": "b1817212-1a23-42b3-81e3-4320ea799b02",
   "metadata": {},
   "outputs": [],
   "source": [
    "sse"
   ]
  },
  {
   "cell_type": "code",
   "execution_count": null,
   "id": "1bd8f6f6-a25d-4478-8fb9-78570b025faa",
   "metadata": {},
   "outputs": [],
   "source": [
    "mydata.columns"
   ]
  },
  {
   "cell_type": "code",
   "execution_count": 37,
   "id": "938f935e-a8bc-413b-a90a-36a17ebc8a88",
   "metadata": {},
   "outputs": [],
   "source": []
  },
  {
   "cell_type": "code",
   "execution_count": null,
   "id": "5b1d4378-2c50-4042-a3f8-94e296ff7d07",
   "metadata": {},
   "outputs": [],
   "source": [
    "trial_data"
   ]
  },
  {
   "cell_type": "code",
   "execution_count": null,
   "id": "51ed063e-4cb1-48fa-b951-5b8ebbf9a6e2",
   "metadata": {},
   "outputs": [],
   "source": [
    "km = KMeans(n_clusters = 8)\n",
    "y = km.fit_predict(trial_data)"
   ]
  },
  {
   "cell_type": "code",
   "execution_count": null,
   "id": "e2d470c3-da09-41e4-925b-521027ea166a",
   "metadata": {},
   "outputs": [],
   "source": [
    "sse"
   ]
  },
  {
   "cell_type": "code",
   "execution_count": null,
   "id": "d52c3a14-83f2-417f-b483-1e71d09a856f",
   "metadata": {},
   "outputs": [],
   "source": [
    "plt.xlabel('K')\n",
    "plt.ylabel('Sum of squared error')\n",
    "plt.plot(k_range, sse)"
   ]
  },
  {
   "cell_type": "code",
   "execution_count": 46,
   "id": "ed5276ae-1dd4-4f32-835c-d25d19ddb1d9",
   "metadata": {},
   "outputs": [
    {
     "name": "stdout",
     "output_type": "stream",
     "text": [
      "0.5407759498777678\n"
     ]
    }
   ],
   "source": [
    "silhouette_coefficient = silhouette_score(trial_data, y)\n",
    "\n",
    "# Display the Silhouette Coefficient\n",
    "print(silhouette_coefficient)"
   ]
  },
  {
   "cell_type": "code",
   "execution_count": 52,
   "id": "0d6b9171-c90b-4703-89ae-54542afb2925",
   "metadata": {},
   "outputs": [],
   "source": [
    "mydata = pd.read_csv('scaled_data_07_07.csv')\n",
    "mydata.shape"
   ]
  },
  {
   "cell_type": "code",
   "execution_count": 56,
   "id": "755f9430-d049-45f2-83bb-cebd25bda8ee",
   "metadata": {},
   "outputs": [],
   "source": [
    "trial_data = mydata.loc[1:400000,:]"
   ]
  },
  {
   "cell_type": "code",
   "execution_count": 57,
   "id": "60d775be-3bdf-483c-a831-257f31f756de",
   "metadata": {},
   "outputs": [
    {
     "name": "stderr",
     "output_type": "stream",
     "text": [
      "C:\\Users\\framatome\\anaconda3\\lib\\site-packages\\sklearn\\cluster\\_kmeans.py:870: FutureWarning: The default value of `n_init` will change from 10 to 'auto' in 1.4. Set the value of `n_init` explicitly to suppress the warning\n",
      "  warnings.warn(\n",
      "C:\\Users\\framatome\\anaconda3\\lib\\site-packages\\sklearn\\cluster\\_kmeans.py:870: FutureWarning: The default value of `n_init` will change from 10 to 'auto' in 1.4. Set the value of `n_init` explicitly to suppress the warning\n",
      "  warnings.warn(\n",
      "C:\\Users\\framatome\\anaconda3\\lib\\site-packages\\sklearn\\cluster\\_kmeans.py:870: FutureWarning: The default value of `n_init` will change from 10 to 'auto' in 1.4. Set the value of `n_init` explicitly to suppress the warning\n",
      "  warnings.warn(\n",
      "C:\\Users\\framatome\\anaconda3\\lib\\site-packages\\sklearn\\cluster\\_kmeans.py:870: FutureWarning: The default value of `n_init` will change from 10 to 'auto' in 1.4. Set the value of `n_init` explicitly to suppress the warning\n",
      "  warnings.warn(\n",
      "C:\\Users\\framatome\\anaconda3\\lib\\site-packages\\sklearn\\cluster\\_kmeans.py:870: FutureWarning: The default value of `n_init` will change from 10 to 'auto' in 1.4. Set the value of `n_init` explicitly to suppress the warning\n",
      "  warnings.warn(\n",
      "C:\\Users\\framatome\\anaconda3\\lib\\site-packages\\sklearn\\cluster\\_kmeans.py:870: FutureWarning: The default value of `n_init` will change from 10 to 'auto' in 1.4. Set the value of `n_init` explicitly to suppress the warning\n",
      "  warnings.warn(\n",
      "C:\\Users\\framatome\\anaconda3\\lib\\site-packages\\sklearn\\cluster\\_kmeans.py:870: FutureWarning: The default value of `n_init` will change from 10 to 'auto' in 1.4. Set the value of `n_init` explicitly to suppress the warning\n",
      "  warnings.warn(\n",
      "C:\\Users\\framatome\\anaconda3\\lib\\site-packages\\sklearn\\cluster\\_kmeans.py:870: FutureWarning: The default value of `n_init` will change from 10 to 'auto' in 1.4. Set the value of `n_init` explicitly to suppress the warning\n",
      "  warnings.warn(\n",
      "C:\\Users\\framatome\\anaconda3\\lib\\site-packages\\sklearn\\cluster\\_kmeans.py:870: FutureWarning: The default value of `n_init` will change from 10 to 'auto' in 1.4. Set the value of `n_init` explicitly to suppress the warning\n",
      "  warnings.warn(\n",
      "C:\\Users\\framatome\\anaconda3\\lib\\site-packages\\sklearn\\cluster\\_kmeans.py:870: FutureWarning: The default value of `n_init` will change from 10 to 'auto' in 1.4. Set the value of `n_init` explicitly to suppress the warning\n",
      "  warnings.warn(\n",
      "C:\\Users\\framatome\\anaconda3\\lib\\site-packages\\sklearn\\cluster\\_kmeans.py:870: FutureWarning: The default value of `n_init` will change from 10 to 'auto' in 1.4. Set the value of `n_init` explicitly to suppress the warning\n",
      "  warnings.warn(\n",
      "C:\\Users\\framatome\\anaconda3\\lib\\site-packages\\sklearn\\cluster\\_kmeans.py:870: FutureWarning: The default value of `n_init` will change from 10 to 'auto' in 1.4. Set the value of `n_init` explicitly to suppress the warning\n",
      "  warnings.warn(\n"
     ]
    }
   ],
   "source": [
    "k_range = range(3,15)\n",
    "sse = []\n",
    "for k in k_range:\n",
    "    km = KMeans(n_clusters = k)\n",
    "    km.fit(trial_data)\n",
    "    sse.append(km.inertia_)"
   ]
  },
  {
   "cell_type": "code",
   "execution_count": 58,
   "id": "91f25a15-d6bb-4b6c-85df-b5b9dd92bd18",
   "metadata": {},
   "outputs": [
    {
     "data": {
      "text/plain": [
       "[<matplotlib.lines.Line2D at 0x1350177feb0>]"
      ]
     },
     "execution_count": 58,
     "metadata": {},
     "output_type": "execute_result"
    },
    {
     "data": {
      "image/png": "[encoded data removed]",
      "text/plain": [
       "<Figure size 640x480 with 1 Axes>"
      ]
     },
     "metadata": {},
     "output_type": "display_data"
    }
   ],
   "source": [
    "plt.xlabel('Number of Clusters')\n",
    "plt.ylabel('Sum of squared error')\n",
    "plt.plot(k_range, sse)"
   ]
  },
  {
   "cell_type": "code",
   "execution_count": 59,
   "id": "ea4f3927-e41f-4a07-afea-7582d834b62c",
   "metadata": {},
   "outputs": [
    {
     "name": "stderr",
     "output_type": "stream",
     "text": [
      "C:\\Users\\framatome\\anaconda3\\lib\\site-packages\\sklearn\\cluster\\_kmeans.py:870: FutureWarning: The default value of `n_init` will change from 10 to 'auto' in 1.4. Set the value of `n_init` explicitly to suppress the warning\n",
      "  warnings.warn(\n"
     ]
    },
    {
     "name": "stdout",
     "output_type": "stream",
     "text": [
      "0.5245529486099181\n"
     ]
    }
   ],
   "source": [
    "km = KMeans(n_clusters = 7)\n",
    "y = km.fit_predict(trial_data)\n",
    "silhouette_coefficient = silhouette_score(trial_data, y)\n",
    "\n",
    "# Display the Silhouette Coefficient\n",
    "print(silhouette_coefficient)"
   ]
  },
  {
   "cell_type": "code",
   "execution_count": 60,
   "id": "4a7c25e5-84a6-4a4e-918c-d2d1aaa2c9db",
   "metadata": {},
   "outputs": [
    {
     "name": "stderr",
     "output_type": "stream",
     "text": [
      "C:\\Users\\framatome\\AppData\\Local\\Temp\\ipykernel_1248\\1986953930.py:1: SettingWithCopyWarning: \n",
      "A value is trying to be set on a copy of a slice from a DataFrame.\n",
      "Try using .loc[row_indexer,col_indexer] = value instead\n",
      "\n",
      "See the caveats in the documentation: https://pandas.pydata.org/pandas-docs/stable/user_guide/indexing.html#returning-a-view-versus-a-copy\n",
      "  trial_data['Segment'] = y\n"
     ]
    }
   ],
   "source": [
    "trial_data['Segment'] = y"
   ]
  },
  {
   "cell_type": "code",
   "execution_count": 61,
   "id": "565e6ff2-92ee-4690-9fb5-587a3c4d0ff8",
   "metadata": {},
   "outputs": [
    {
     "data": {
      "text/plain": [
       "Index(['Timestamp', 'Scr_IP', 'Scr_port', 'Des_IP', 'Des_port', 'Protocol',\n",
       "       'Service', 'Duration', 'Scr_bytes', 'Des_bytes', 'Conn_state',\n",
       "       'missed_bytes', 'is_syn_only', 'Is_SYN_ACK', 'is_with_payload',\n",
       "       'Scr_pkts', 'Scr_ip_bytes', 'Des_pkts', 'Des_ip_bytes', 'total_bytes',\n",
       "       'total_packet', 'paket_rate', 'byte_rate', 'Scr_packts_ratio',\n",
       "       'Des_pkts_ratio', 'Scr_bytes_ratio', 'Des_bytes_ratio', 'Login_attempt',\n",
       "       'Segment'],\n",
       "      dtype='object')"
      ]
     },
     "execution_count": 61,
     "metadata": {},
     "output_type": "execute_result"
    }
   ],
   "source": [
    "trial_data.columns"
   ]
  },
  {
   "cell_type": "code",
   "execution_count": 62,
   "id": "b2df71fe-9c28-421f-9ea1-aa25a6a0a88a",
   "metadata": {},
   "outputs": [],
   "source": [
    "trial_data.to_csv('classified_data.csv', index=False)"
   ]
  },
  {
   "cell_type": "code",
   "execution_count": 3,
   "id": "4a2f4447-4786-4692-8f2a-b4a5d4177083",
   "metadata": {},
   "outputs": [],
   "source": [
    "mydata = pd.read_csv('classified_data.csv')"
   ]
  },
  {
   "cell_type": "code",
   "execution_count": 5,
   "id": "6737d20f-4877-40eb-981d-700b11efaa2a",
   "metadata": {},
   "outputs": [],
   "source": [
    "labels = mydata.Segment"
   ]
  },
  {
   "cell_type": "code",
   "execution_count": 6,
   "id": "c221a071-0c9b-457e-9957-24baac5af4c3",
   "metadata": {},
   "outputs": [
    {
     "data": {
      "text/plain": [
       "0         4\n",
       "1         1\n",
       "2         6\n",
       "3         3\n",
       "4         1\n",
       "         ..\n",
       "399995    1\n",
       "399996    2\n",
       "399997    1\n",
       "399998    0\n",
       "399999    2\n",
       "Name: Segment, Length: 400000, dtype: int64"
      ]
     },
     "execution_count": 6,
     "metadata": {},
     "output_type": "execute_result"
    }
   ],
   "source": [
    "labels"
   ]
  },
  {
   "cell_type": "code",
   "execution_count": 7,
   "id": "b94d2a2f-0341-4898-80ac-b9b274bfee24",
   "metadata": {},
   "outputs": [],
   "source": [
    "mydata.drop(\"Segment\", axis = 1, inplace = True)"
   ]
  },
  {
   "cell_type": "code",
   "execution_count": 9,
   "id": "ad0e5999-d878-452e-a6de-d03efb433ea9",
   "metadata": {},
   "outputs": [
    {
     "name": "stdout",
     "output_type": "stream",
     "text": [
      "Calinski-Harabasz Index: 417887.11441998056\n"
     ]
    }
   ],
   "source": [
    "ch_index = metrics.calinski_harabasz_score(mydata, labels)\n",
    "print(\"Calinski-Harabasz Index:\", ch_index)"
   ]
  },
  {
   "cell_type": "code",
   "execution_count": 10,
   "id": "8e0530ea-b317-49a9-9270-bd7aa54e4801",
   "metadata": {},
   "outputs": [
    {
     "name": "stdout",
     "output_type": "stream",
     "text": [
      "<class 'pandas.core.frame.DataFrame'>\n",
      "RangeIndex: 400000 entries, 0 to 399999\n",
      "Data columns (total 28 columns):\n",
      " #   Column            Non-Null Count   Dtype  \n",
      "---  ------            --------------   -----  \n",
      " 0   Timestamp         400000 non-null  float64\n",
      " 1   Scr_IP            400000 non-null  float64\n",
      " 2   Scr_port          400000 non-null  float64\n",
      " 3   Des_IP            400000 non-null  float64\n",
      " 4   Des_port          400000 non-null  float64\n",
      " 5   Protocol          400000 non-null  float64\n",
      " 6   Service           400000 non-null  float64\n",
      " 7   Duration          400000 non-null  float64\n",
      " 8   Scr_bytes         400000 non-null  float64\n",
      " 9   Des_bytes         400000 non-null  float64\n",
      " 10  Conn_state        400000 non-null  float64\n",
      " 11  missed_bytes      400000 non-null  float64\n",
      " 12  is_syn_only       400000 non-null  float64\n",
      " 13  Is_SYN_ACK        400000 non-null  float64\n",
      " 14  is_with_payload   400000 non-null  float64\n",
      " 15  Scr_pkts          400000 non-null  float64\n",
      " 16  Scr_ip_bytes      400000 non-null  float64\n",
      " 17  Des_pkts          400000 non-null  float64\n",
      " 18  Des_ip_bytes      400000 non-null  float64\n",
      " 19  total_bytes       400000 non-null  float64\n",
      " 20  total_packet      400000 non-null  float64\n",
      " 21  paket_rate        400000 non-null  float64\n",
      " 22  byte_rate         400000 non-null  float64\n",
      " 23  Scr_packts_ratio  400000 non-null  float64\n",
      " 24  Des_pkts_ratio    400000 non-null  float64\n",
      " 25  Scr_bytes_ratio   400000 non-null  float64\n",
      " 26  Des_bytes_ratio   400000 non-null  float64\n",
      " 27  Login_attempt     400000 non-null  float64\n",
      "dtypes: float64(28)\n",
      "memory usage: 85.4 MB\n"
     ]
    }
   ],
   "source": [
    "mydata.info()"
   ]
  },
  {
   "cell_type": "code",
   "execution_count": 11,
   "id": "dbc69609-fcf3-4d94-a5ba-ec6cbbec62f0",
   "metadata": {},
   "outputs": [],
   "source": [
    "mydata = pd.read_csv('classified_data.csv')"
   ]
  },
  {
   "cell_type": "code",
   "execution_count": 35,
   "id": "8cd438f9-abe5-4a3c-b0ea-0a3604548596",
   "metadata": {},
   "outputs": [
    {
     "data": {
      "text/plain": [
       "0"
      ]
     },
     "execution_count": 35,
     "metadata": {},
     "output_type": "execute_result"
    }
   ],
   "source": [
    "mydata.loc[mydata.Segment == 7].Des_IP.nunique()"
   ]
  },
  {
   "cell_type": "code",
   "execution_count": 26,
   "id": "8c015c8b-2552-40e6-8365-4aa553d642e3",
   "metadata": {},
   "outputs": [
    {
     "data": {
      "text/plain": [
       "84"
      ]
     },
     "execution_count": 26,
     "metadata": {},
     "output_type": "execute_result"
    }
   ],
   "source": [
    "mydata.Des_IP.nunique()"
   ]
  },
  {
   "cell_type": "code",
   "execution_count": 57,
   "id": "6b463583-924b-483e-9a40-25e3ad58c856",
   "metadata": {},
   "outputs": [],
   "source": [
    "def bar_graph(feature, segment):\n",
    "    mydata.loc[mydata.Segment == segment][feature].value_counts().plot(kind = 'bar', figsize = (10, 10))"
   ]
  },
  {
   "cell_type": "code",
   "execution_count": 49,
   "id": "8b2ad94e-f9c1-427a-bb1f-6b74aa122e58",
   "metadata": {},
   "outputs": [
    {
     "data": {
      "image/png": "[encoded data removed]",
      "text/plain": [
       "<Figure size 640x480 with 1 Axes>"
      ]
     },
     "metadata": {},
     "output_type": "display_data"
    }
   ],
   "source": [
    "bar_graph('Des_IP', 0)"
   ]
  },
  {
   "cell_type": "code",
   "execution_count": 42,
   "id": "ace00a33-507e-43b5-a282-0ac222d785a8",
   "metadata": {},
   "outputs": [
    {
     "data": {
      "image/png": "[encoded data removed]",
      "text/plain": [
       "<Figure size 640x480 with 1 Axes>"
      ]
     },
     "metadata": {},
     "output_type": "display_data"
    }
   ],
   "source": [
    "bar_graph('Des_IP', 1)"
   ]
  },
  {
   "cell_type": "code",
   "execution_count": 58,
   "id": "87e11196-a02f-44c2-b712-4a3e6835a1f1",
   "metadata": {},
   "outputs": [
    {
     "data": {
      "image/png": "[encoded data removed]",
      "text/plain": [
       "<Figure size 1000x1000 with 1 Axes>"
      ]
     },
     "metadata": {},
     "output_type": "display_data"
    }
   ],
   "source": [
    "bar_graph('Des_IP', 2)"
   ]
  },
  {
   "cell_type": "code",
   "execution_count": 44,
   "id": "0392ce94-7b74-409d-9511-9e67de12dfe2",
   "metadata": {},
   "outputs": [
    {
     "data": {
      "image/png": "[encoded data removed]",
      "text/plain": [
       "<Figure size 640x480 with 1 Axes>"
      ]
     },
     "metadata": {},
     "output_type": "display_data"
    }
   ],
   "source": [
    "bar_graph('Des_IP', 3)"
   ]
  },
  {
   "cell_type": "code",
   "execution_count": 59,
   "id": "9de68ef8-a795-4bd6-a16e-bd7b2902a527",
   "metadata": {},
   "outputs": [
    {
     "data": {
      "image/png": "[encoded data removed]",
      "text/plain": [
       "<Figure size 1000x1000 with 1 Axes>"
      ]
     },
     "metadata": {},
     "output_type": "display_data"
    }
   ],
   "source": [
    "bar_graph('Des_IP', 4)"
   ]
  },
  {
   "cell_type": "code",
   "execution_count": 46,
   "id": "b18aa6bb-107a-4fb6-ba60-15a2bf731331",
   "metadata": {},
   "outputs": [
    {
     "data": {
      "image/png": "[encoded data removed]",
      "text/plain": [
       "<Figure size 640x480 with 1 Axes>"
      ]
     },
     "metadata": {},
     "output_type": "display_data"
    }
   ],
   "source": [
    "bar_graph('Des_IP', 5)"
   ]
  },
  {
   "cell_type": "code",
   "execution_count": 48,
   "id": "b8a93ea0-19bf-4618-a695-12e05cd507d8",
   "metadata": {},
   "outputs": [
    {
     "data": {
      "image/png": "[encoded data removed]",
      "text/plain": [
       "<Figure size 640x480 with 1 Axes>"
      ]
     },
     "metadata": {},
     "output_type": "display_data"
    }
   ],
   "source": [
    "bar_graph('Des_IP', 6)"
   ]
  },
  {
   "cell_type": "code",
   "execution_count": 76,
   "id": "cc17a4f1-114f-418f-93ab-678cb3564b6b",
   "metadata": {},
   "outputs": [
    {
     "data": {
      "text/plain": [
       "1.000000    29903\n",
       "0.977011     5052\n",
       "0.931034     2746\n",
       "0.988506     1425\n",
       "0.965517       68\n",
       "0.908046        3\n",
       "Name: Des_IP, dtype: int64"
      ]
     },
     "execution_count": 76,
     "metadata": {},
     "output_type": "execute_result"
    }
   ],
   "source": [
    "pd.Series(mydata.loc[mydata['Segment'] == 0].Des_IP.value_counts())"
   ]
  },
  {
   "cell_type": "code",
   "execution_count": 77,
   "id": "6d5249e5-eb30-4cc6-b8de-27592a771b0a",
   "metadata": {},
   "outputs": [
    {
     "data": {
      "text/plain": [
       "0.988506    90741\n",
       "0.977011    13940\n",
       "0.965517     1016\n",
       "1.000000      132\n",
       "0.931034       37\n",
       "0.505747       11\n",
       "0.908046        7\n",
       "Name: Des_IP, dtype: int64"
      ]
     },
     "execution_count": 77,
     "metadata": {},
     "output_type": "execute_result"
    }
   ],
   "source": [
    "pd.Series(mydata.loc[mydata['Segment'] == 1].Des_IP.value_counts())"
   ]
  },
  {
   "cell_type": "code",
   "execution_count": 78,
   "id": "f1ab8763-95ac-4aea-90e4-dcefa70f9607",
   "metadata": {},
   "outputs": [
    {
     "data": {
      "text/plain": [
       "1.000000    38058\n",
       "0.931034     9457\n",
       "0.827586      242\n",
       "0.839080      238\n",
       "0.816092      189\n",
       "0.965517      186\n",
       "0.896552      147\n",
       "0.908046      139\n",
       "0.793103      107\n",
       "0.977011      105\n",
       "0.988506       54\n",
       "0.724138       32\n",
       "0.655172       28\n",
       "0.712644       27\n",
       "0.689655       27\n",
       "0.701149       26\n",
       "0.632184       25\n",
       "0.609195       23\n",
       "0.643678       23\n",
       "0.678161       23\n",
       "0.666667       21\n",
       "0.551724       20\n",
       "0.563218       19\n",
       "0.620690       15\n",
       "0.528736       15\n",
       "0.459770       14\n",
       "0.574713       14\n",
       "0.482759       13\n",
       "0.471264       13\n",
       "0.540230       13\n",
       "0.448276       13\n",
       "0.413793       10\n",
       "0.597701        9\n",
       "0.436782        9\n",
       "0.425287        6\n",
       "0.379310        6\n",
       "0.402299        6\n",
       "0.505747        5\n",
       "0.321839        4\n",
       "0.367816        3\n",
       "0.287356        3\n",
       "0.264368        2\n",
       "0.344828        2\n",
       "0.241379        2\n",
       "0.333333        2\n",
       "0.252874        2\n",
       "0.218391        2\n",
       "0.080460        1\n",
       "0.356322        1\n",
       "0.091954        1\n",
       "0.229885        1\n",
       "0.045977        1\n",
       "0.034483        1\n",
       "0.195402        1\n",
       "0.022989        1\n",
       "0.160920        1\n",
       "Name: Des_IP, dtype: int64"
      ]
     },
     "execution_count": 78,
     "metadata": {},
     "output_type": "execute_result"
    }
   ],
   "source": [
    "pd.Series(mydata.loc[mydata['Segment'] == 2].Des_IP.value_counts())"
   ]
  },
  {
   "cell_type": "code",
   "execution_count": 79,
   "id": "eae445ed-5cda-4514-8a0d-2b4ab4c9f027",
   "metadata": {},
   "outputs": [
    {
     "data": {
      "text/plain": [
       "1.000000    68346\n",
       "0.908046     3201\n",
       "0.931034     2399\n",
       "0.977011     2286\n",
       "0.988506     2048\n",
       "0.896552     1932\n",
       "0.965517     1684\n",
       "Name: Des_IP, dtype: int64"
      ]
     },
     "execution_count": 79,
     "metadata": {},
     "output_type": "execute_result"
    }
   ],
   "source": [
    "pd.Series(mydata.loc[mydata['Segment'] == 3].Des_IP.value_counts())"
   ]
  },
  {
   "cell_type": "code",
   "execution_count": 80,
   "id": "1b827db5-4846-4b69-8507-a805ca29ca17",
   "metadata": {},
   "outputs": [
    {
     "data": {
      "text/plain": [
       "0.988506    42325\n",
       "0.954023    17528\n",
       "0.942529    17273\n",
       "0.919540     3648\n",
       "0.885057     1429\n",
       "0.873563     1211\n",
       "0.862069      618\n",
       "1.000000      566\n",
       "0.850575      240\n",
       "0.931034      191\n",
       "0.804598      130\n",
       "0.781609       88\n",
       "0.770115       82\n",
       "0.758621       46\n",
       "0.747126       38\n",
       "0.735632       31\n",
       "0.839080       22\n",
       "0.586207       18\n",
       "0.517241       17\n",
       "0.494253       13\n",
       "0.965517       10\n",
       "0.597701       10\n",
       "0.390805        8\n",
       "0.310345        3\n",
       "0.356322        2\n",
       "0.505747        2\n",
       "0.275862        2\n",
       "0.977011        2\n",
       "0.896552        1\n",
       "0.011494        1\n",
       "0.298851        1\n",
       "0.402299        1\n",
       "0.057471        1\n",
       "0.183908        1\n",
       "0.172414        1\n",
       "0.068966        1\n",
       "0.436782        1\n",
       "0.126437        1\n",
       "0.103448        1\n",
       "0.149425        1\n",
       "Name: Des_IP, dtype: int64"
      ]
     },
     "execution_count": 80,
     "metadata": {},
     "output_type": "execute_result"
    }
   ],
   "source": [
    "pd.Series(mydata.loc[mydata['Segment'] == 4].Des_IP.value_counts())"
   ]
  },
  {
   "cell_type": "code",
   "execution_count": 81,
   "id": "531617ca-a6bc-429b-bd10-423b8309014f",
   "metadata": {},
   "outputs": [
    {
     "data": {
      "text/plain": [
       "1.000000    10079\n",
       "0.931034      459\n",
       "0.965517      345\n",
       "0.988506      323\n",
       "0.896552      205\n",
       "0.977011      118\n",
       "0.908046        2\n",
       "Name: Des_IP, dtype: int64"
      ]
     },
     "execution_count": 81,
     "metadata": {},
     "output_type": "execute_result"
    }
   ],
   "source": [
    "pd.Series(mydata.loc[mydata['Segment'] == 5].Des_IP.value_counts())"
   ]
  },
  {
   "cell_type": "code",
   "execution_count": 82,
   "id": "7e1152b0-2236-4fab-b30e-ff7743cfebb3",
   "metadata": {},
   "outputs": [
    {
     "data": {
      "text/plain": [
       "0.965517    17543\n",
       "1.000000     6920\n",
       "0.977011     1211\n",
       "0.988506      417\n",
       "0.896552      389\n",
       "0.850575       20\n",
       "0.931034        2\n",
       "0.620690        2\n",
       "0.816092        2\n",
       "0.793103        2\n",
       "0.839080        2\n",
       "0.344828        1\n",
       "0.827586        1\n",
       "0.908046        1\n",
       "0.689655        1\n",
       "0.574713        1\n",
       "0.701149        1\n",
       "0.471264        1\n",
       "0.540230        1\n",
       "0.655172        1\n",
       "Name: Des_IP, dtype: int64"
      ]
     },
     "execution_count": 82,
     "metadata": {},
     "output_type": "execute_result"
    }
   ],
   "source": [
    "pd.Series(mydata.loc[mydata['Segment'] == 6].Des_IP.value_counts())"
   ]
  },
  {
   "cell_type": "code",
   "execution_count": null,
   "id": "2909b62f-27be-4faf-b0de-3de2d6e19f61",
   "metadata": {},
   "outputs": [],
   "source": []
  },
  {
   "cell_type": "code",
   "execution_count": 83,
   "id": "68636226-1107-4836-9486-1084c4da3953",
   "metadata": {},
   "outputs": [],
   "source": [
    "IP0 = pd.Series(mydata.loc[mydata['Segment'] == 0].Des_IP.value_counts().index)\n",
    "IP1 = pd.Series(mydata.loc[mydata['Segment'] == 1].Des_IP.value_counts().index)\n",
    "IP2 = pd.Series(mydata.loc[mydata['Segment'] == 2].Des_IP.value_counts().index)\n",
    "IP3 = pd.Series(mydata.loc[mydata['Segment'] == 3].Des_IP.value_counts().index)\n",
    "IP4 = pd.Series(mydata.loc[mydata['Segment'] == 4].Des_IP.value_counts().index)\n",
    "IP5 = pd.Series(mydata.loc[mydata['Segment'] == 5].Des_IP.value_counts().index)\n",
    "IP6 = pd.Series(mydata.loc[mydata['Segment'] == 6].Des_IP.value_counts().index)"
   ]
  },
  {
   "cell_type": "code",
   "execution_count": 93,
   "id": "71904772-6c16-4d20-a85b-0c2cd68f4816",
   "metadata": {},
   "outputs": [
    {
     "name": "stdout",
     "output_type": "stream",
     "text": [
      "11    0.724138\n",
      "13    0.712644\n",
      "16    0.632184\n",
      "17    0.609195\n",
      "18    0.643678\n",
      "19    0.678161\n",
      "20    0.666667\n",
      "21    0.551724\n",
      "22    0.563218\n",
      "24    0.528736\n",
      "25    0.459770\n",
      "27    0.482759\n",
      "30    0.448276\n",
      "31    0.413793\n",
      "34    0.425287\n",
      "35    0.379310\n",
      "38    0.321839\n",
      "39    0.367816\n",
      "40    0.287356\n",
      "41    0.264368\n",
      "43    0.241379\n",
      "44    0.333333\n",
      "45    0.252874\n",
      "46    0.218391\n",
      "47    0.080460\n",
      "49    0.091954\n",
      "50    0.229885\n",
      "51    0.045977\n",
      "52    0.034483\n",
      "53    0.195402\n",
      "54    0.022989\n",
      "55    0.160920\n",
      "dtype: float64\n",
      "(32,)\n"
     ]
    }
   ],
   "source": [
    "only_IP2 = IP2[~IP2.isin(IP0) & ~IP2.isin(IP1) &~IP2.isin(IP3)&~IP2.isin(IP4)&~IP2.isin(IP5)&~IP2.isin(IP6) ]\n",
    "print(only_IP2)\n",
    "print(only_IP2.shape)"
   ]
  },
  {
   "cell_type": "code",
   "execution_count": 95,
   "id": "d635624b-bb94-45cd-9b2b-d060dd904b5b",
   "metadata": {},
   "outputs": [
    {
     "name": "stdout",
     "output_type": "stream",
     "text": [
      "1     0.954023\n",
      "2     0.942529\n",
      "3     0.919540\n",
      "4     0.885057\n",
      "5     0.873563\n",
      "6     0.862069\n",
      "10    0.804598\n",
      "11    0.781609\n",
      "12    0.770115\n",
      "13    0.758621\n",
      "14    0.747126\n",
      "15    0.735632\n",
      "17    0.586207\n",
      "18    0.517241\n",
      "19    0.494253\n",
      "22    0.390805\n",
      "23    0.310345\n",
      "26    0.275862\n",
      "29    0.011494\n",
      "30    0.298851\n",
      "32    0.057471\n",
      "33    0.183908\n",
      "34    0.172414\n",
      "35    0.068966\n",
      "37    0.126437\n",
      "38    0.103448\n",
      "39    0.149425\n",
      "dtype: float64\n",
      "(27,)\n"
     ]
    }
   ],
   "source": [
    "only_IP4 = IP4[~IP4.isin(IP0) & ~IP4.isin(IP1) &~IP4.isin(IP3)&~IP4.isin(IP2)&~IP4.isin(IP5)&~IP4.isin(IP6) ]\n",
    "print(only_IP4)\n",
    "print(only_IP4.shape)"
   ]
  },
  {
   "cell_type": "code",
   "execution_count": null,
   "id": "14ad1e5b-03c4-4ceb-b301-2dcd30c9ac55",
   "metadata": {},
   "outputs": [],
   "source": []
  }
 ],
 "metadata": {
  "kernelspec": {
   "display_name": "Python 3 (ipykernel)",
   "language": "python",
   "name": "python3"
  },
  "language_info": {
   "codemirror_mode": {
    "name": "ipython",
    "version": 3
   },
   "file_extension": ".py",
   "mimetype": "text/x-python",
   "name": "python",
   "nbconvert_exporter": "python",
   "pygments_lexer": "ipython3",
   "version": "3.10.9"
  }
 },
 "nbformat": 4,
 "nbformat_minor": 5
}
